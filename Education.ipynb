{
 "cells": [
  {
   "cell_type": "code",
   "execution_count": 1,
   "metadata": {},
   "outputs": [],
   "source": [
    "import os\n",
    "import pandas as pd\n",
    "import numpy as np\n",
    "import matplotlib.pyplot as plt\n",
    "import datetime\n",
    "#print(os.getcwd())"
   ]
  },
  {
   "cell_type": "code",
   "execution_count": 131,
   "metadata": {},
   "outputs": [
    {
     "name": "stdout",
     "output_type": "stream",
     "text": [
      "['README.md', 'Indicator.csv', 'Datasets', '.git', 'Access_CSVs.ipynb', 'Untitled.ipynb', '.ipynb_checkpoints']\n"
     ]
    },
    {
     "data": {
      "text/html": [
       "<div>\n",
       "<style scoped>\n",
       "    .dataframe tbody tr th:only-of-type {\n",
       "        vertical-align: middle;\n",
       "    }\n",
       "\n",
       "    .dataframe tbody tr th {\n",
       "        vertical-align: top;\n",
       "    }\n",
       "\n",
       "    .dataframe thead th {\n",
       "        text-align: right;\n",
       "    }\n",
       "</style>\n",
       "<table border=\"1\" class=\"dataframe\">\n",
       "  <thead>\n",
       "    <tr style=\"text-align: right;\">\n",
       "      <th></th>\n",
       "      <th>Indicator_Code</th>\n",
       "      <th>Indicator_Name</th>\n",
       "    </tr>\n",
       "  </thead>\n",
       "  <tbody>\n",
       "    <tr>\n",
       "      <th>0</th>\n",
       "      <td>SP.POP.GROW</td>\n",
       "      <td>Population Growth (in %)</td>\n",
       "    </tr>\n",
       "    <tr>\n",
       "      <th>1</th>\n",
       "      <td>SI.POV.GINI</td>\n",
       "      <td>Gini Index</td>\n",
       "    </tr>\n",
       "    <tr>\n",
       "      <th>2</th>\n",
       "      <td>NY.GDP.PCAP.KD.ZG</td>\n",
       "      <td>GDP per capita growth (in %)</td>\n",
       "    </tr>\n",
       "    <tr>\n",
       "      <th>3</th>\n",
       "      <td>SE.XPD.TOTL.GB.ZS</td>\n",
       "      <td>Government expenditure on education, total (% ...</td>\n",
       "    </tr>\n",
       "    <tr>\n",
       "      <th>4</th>\n",
       "      <td>SE.XPD.TOTL.GD.ZS</td>\n",
       "      <td>Government expenditure on education, total (% ...</td>\n",
       "    </tr>\n",
       "  </tbody>\n",
       "</table>\n",
       "</div>"
      ],
      "text/plain": [
       "      Indicator_Code                                     Indicator_Name\n",
       "0        SP.POP.GROW                           Population Growth (in %)\n",
       "1        SI.POV.GINI                                         Gini Index\n",
       "2  NY.GDP.PCAP.KD.ZG                       GDP per capita growth (in %)\n",
       "3  SE.XPD.TOTL.GB.ZS  Government expenditure on education, total (% ...\n",
       "4  SE.XPD.TOTL.GD.ZS  Government expenditure on education, total (% ..."
      ]
     },
     "execution_count": 131,
     "metadata": {},
     "output_type": "execute_result"
    }
   ],
   "source": [
    "path = os.getcwd() + \"/Datasets//\"\n",
    "print(os.listdir())\n",
    "df = pd.read_csv(\"Indicator.csv\")\n",
    "df.head()"
   ]
  },
  {
   "cell_type": "code",
   "execution_count": 132,
   "metadata": {},
   "outputs": [],
   "source": [
    "indicator_csvs = [path + i for i in df.Indicator_Code]\n",
    "df1 = [\"//\".join(i.split(\"//\")) for i in indicator_csvs]\n",
    "gov_exp = pd.read_csv(df1[3] + \"//\" + os.listdir(df1[3])[0])\n"
   ]
  },
  {
   "cell_type": "code",
   "execution_count": 133,
   "metadata": {},
   "outputs": [],
   "source": [
    "#dimensionality reduction since data is very sparse till 2000.\n",
    "i = 1960\n",
    "while i <= 2000:\n",
    "    gov_exp.drop(columns=[str(i)],axis=1, inplace=True)\n",
    "    i += 1"
   ]
  },
  {
   "cell_type": "code",
   "execution_count": 134,
   "metadata": {},
   "outputs": [
    {
     "name": "stdout",
     "output_type": "stream",
     "text": [
      "Index(['Country Name', 'Country Code', 'Indicator Name', 'Indicator Code',\n",
      "       '2001', '2002', '2003', '2004', '2005', '2006', '2007', '2008', '2009',\n",
      "       '2010', '2011', '2012', '2013', '2014', '2015', '2016', '2017', '2018',\n",
      "       '2019'],\n",
      "      dtype='object')\n"
     ]
    }
   ],
   "source": [
    "print(gov_exp.columns)"
   ]
  },
  {
   "cell_type": "code",
   "execution_count": 135,
   "metadata": {},
   "outputs": [
    {
     "name": "stdout",
     "output_type": "stream",
     "text": [
      "{2001: 140, 2002: 148, 2003: 126, 2004: 155, 2005: 138, 2006: 128, 2007: 129, 2008: 158, 2009: 148, 2010: 159, 2011: 154, 2012: 147, 2013: 155, 2014: 151, 2015: 136, 2016: 137}\n"
     ]
    }
   ],
   "source": [
    "count = 0\n",
    "i = 2001\n",
    "are_there_values = {}\n",
    "while i <= 2016:\n",
    "    for data in gov_exp[str(i)]:\n",
    "            are_there_values[i] = 0\n",
    "    i += 1\n",
    "    \n",
    "i = 2001\n",
    "while i <= 2016:\n",
    "    for data in gov_exp[str(i)]:\n",
    "        if data > 0:\n",
    "            are_there_values[i] += 1\n",
    "    i += 1\n",
    "    \n",
    "print(are_there_values)"
   ]
  },
  {
   "cell_type": "code",
   "execution_count": 136,
   "metadata": {},
   "outputs": [
    {
     "name": "stdout",
     "output_type": "stream",
     "text": [
      "[2001, 2002, 2003, 2004, 2005, 2006, 2007, 2008, 2009, 2010, 2011, 2012, 2013, 2014, 2015, 2016]\n",
      "\n"
     ]
    }
   ],
   "source": [
    "expenditure = {}\n",
    "for i in gov_exp['Country Name']:\n",
    "    expenditure[i] = 0\n",
    "#print(expenditure)\n",
    "\n",
    "valid_years = []\n",
    "i = 2001\n",
    "while i <= 2016:\n",
    "    valid_years.append(i)\n",
    "    i += 1\n",
    "print(valid_years)\n",
    "\n",
    "'''expenditure_sum = {}\n",
    "for year in valid_years:\n",
    "    expenditure_sum[year] = 0\n",
    "\n",
    "for year in expenditure_sum.keys():\n",
    "    for data in gov_exp[str(year)]:\n",
    "        if data > 0:\n",
    "            expenditure_sum[year] += data\n",
    "            \n",
    "'''\n",
    "i = 0\n",
    "for country in expenditure.keys():\n",
    "    for year in valid_years:\n",
    "        if gov_exp[str(year)][i] > 0:\n",
    "            expenditure[country] = expenditure[country] + gov_exp[str(year)][i]\n",
    "    i += 1          \n",
    "#print(expenditure)\n",
    "\n",
    "no_of_values = {}\n",
    "for country in expenditure.keys():\n",
    "    no_of_values[country] = 0\n",
    "\n",
    "i = 0\n",
    "for country in no_of_values.keys():\n",
    "    for year in valid_years:\n",
    "        if gov_exp[str(year)][i] > 0:\n",
    "            no_of_values[country] += 1\n",
    "    i += 1\n",
    "\n",
    "#print(no_of_values)\n",
    "    \n",
    "avg_expenditure = {}\n",
    "for country in expenditure.keys():\n",
    "    if no_of_values[country] == 0 or no_of_values[country] < 9:\n",
    "        avg_expenditure[country] = -1\n",
    "    else:\n",
    "        avg_expenditure[country] = expenditure[country] / no_of_values[country]\n",
    "print()  \n",
    "#print(avg_expenditure)\n",
    "    "
   ]
  },
  {
   "cell_type": "code",
   "execution_count": 137,
   "metadata": {},
   "outputs": [],
   "source": [
    "sorted_d = sorted(avg_expenditure.items(), key=lambda x: x[1])\n",
    "#print(sorted_d)"
   ]
  },
  {
   "cell_type": "code",
   "execution_count": 138,
   "metadata": {},
   "outputs": [
    {
     "data": {
      "image/png": "[encoded data removed]",
      "text/plain": [
       "<Figure size 720x360 with 1 Axes>"
      ]
     },
     "metadata": {
      "needs_background": "light"
     },
     "output_type": "display_data"
    }
   ],
   "source": [
    "import matplotlib.pyplot as plt\n",
    "#ax = fig.add_axes([15,15,2,1])\n",
    "countries = ['Cote d\\'Ivoire', 'Singapore', 'Kenya', 'Tunisia', 'Ghana', 'Ethiopia', 'Costa Rica']\n",
    "avg_gdp = [21.873, 24.470, 21.707, 25.168, 23.680, 24.652, 21.799]\n",
    "fig = plt.figure(figsize = (10, 5)) \n",
    "  \n",
    "# creating the bar plot \n",
    "plt.bar(countries, avg_gdp, color ='maroon',  \n",
    "        width = 0.4) \n",
    "plt.xlabel(\"COUNTRY\") \n",
    "plt.ylabel(\"Average % of govt expenditure spent on education\") \n",
    "plt.title(\"Highest % of govt expenditure on education\") \n",
    "plt.show() "
   ]
  },
  {
   "cell_type": "code",
   "execution_count": 139,
   "metadata": {},
   "outputs": [
    {
     "name": "stdout",
     "output_type": "stream",
     "text": [
      "0\n",
      "{2001: 21.55666, 2002: 21.41607, 2003: 24.759829999999997, 2004: 22.744410000000002, 2005: 22.27879, 2006: 22.53678, 2007: 23.23229, 2008: 30.09941, 2009: 21.852970000000003, 2010: 18.57173, 2011: 28.86184, 2012: 31.37175, 2013: 28.83915, 2014: 24.47, 2015: 24.47, 2016: 24.47}\n",
      "\n",
      "{2001: 12.349, 2002: 12.349, 2003: 12.4108, 2004: 11.196860000000001, 2005: 11.20846, 2006: 11.693710000000001, 2007: 12.349, 2008: 12.349, 2009: 11.1912, 2010: 11.833680000000001, 2011: 13.564910000000001, 2012: 13.992120000000002, 2013: 14.05018, 2014: 12.349, 2015: 12.349, 2016: 12.349}\n"
     ]
    }
   ],
   "source": [
    "singapore = {}\n",
    "india = {}\n",
    "\n",
    "for year in valid_years:\n",
    "    singapore[year] = 0\n",
    "    india[year] = 0\n",
    "\n",
    "for year in valid_years:\n",
    "    singapore[year] = gov_exp[str(year)][206]\n",
    "    india[year] = gov_exp[str(year)][107]\n",
    "    \n",
    "\n",
    "for year in india.keys():\n",
    "    if not(india[year] > 0):\n",
    "        india[year] = 12.349\n",
    "    if not(singapore[year] > 0):\n",
    "        singapore[year] = 24.470\n",
    "print(count)\n",
    "print(singapore)\n",
    "print()\n",
    "print(india)"
   ]
  },
  {
   "cell_type": "code",
   "execution_count": 140,
   "metadata": {},
   "outputs": [
    {
     "data": {
      "image/png": "[encoded data removed]",
      "text/plain": [
       "<Figure size 576x432 with 1 Axes>"
      ]
     },
     "metadata": {
      "needs_background": "light"
     },
     "output_type": "display_data"
    }
   ],
   "source": [
    "\n",
    "plt.figure(figsize=(8,6))\n",
    "plt.grid(True)\n",
    "plt.title(\"India vs Hong Kong for % govt expenditure on education over 16 years\")\n",
    "plt.xlabel(\"Years\")\n",
    "plt.ylabel(\"% Govt Expenditure\")\n",
    "plt.ylim(0,40)\n",
    "plt.plot(np.array(list(singapore.keys())),np.array(list(singapore.values())),color=\"red\")\n",
    "plt.plot(np.array(list(india.keys())),np.array(list(india.values())),color=\"green\")\n",
    "plt.legend([\"Singapore\",\"India\"])\n",
    "plt.show()"
   ]
  },
  {
   "cell_type": "code",
   "execution_count": null,
   "metadata": {},
   "outputs": [],
   "source": []
  }
 ],
 "metadata": {
  "kernelspec": {
   "display_name": "Python 3",
   "language": "python",
   "name": "python3"
  },
  "language_info": {
   "codemirror_mode": {
    "name": "ipython",
    "version": 3
   },
   "file_extension": ".py",
   "mimetype": "text/x-python",
   "name": "python",
   "nbconvert_exporter": "python",
   "pygments_lexer": "ipython3",
   "version": "3.8.2"
  }
 },
 "nbformat": 4,
 "nbformat_minor": 4
}
