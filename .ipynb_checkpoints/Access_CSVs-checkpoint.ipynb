{
 "cells": [
  {
   "cell_type": "code",
   "execution_count": 1,
   "metadata": {},
   "outputs": [],
   "source": [
    "import os\n",
    "import pandas as pd\n",
    "import numpy as np\n",
    "import matplotlib.pyplot as plt\n",
    "import datetime"
   ]
  },
  {
   "cell_type": "code",
   "execution_count": 2,
   "metadata": {},
   "outputs": [
    {
     "name": "stdout",
     "output_type": "stream",
     "text": [
      "D:\\PESU\\Sem 5\\Data Analytics\\DataAnalytics\n"
     ]
    }
   ],
   "source": [
    "print(os.getcwd())"
   ]
  },
  {
   "cell_type": "code",
   "execution_count": 3,
   "metadata": {},
   "outputs": [
    {
     "name": "stdout",
     "output_type": "stream",
     "text": [
      "['.git', '.ipynb_checkpoints', 'Access_CSVs.ipynb', 'Datasets', 'Indicator.csv', 'README.md']\n"
     ]
    },
    {
     "data": {
      "text/html": [
       "<div>\n",
       "<style scoped>\n",
       "    .dataframe tbody tr th:only-of-type {\n",
       "        vertical-align: middle;\n",
       "    }\n",
       "\n",
       "    .dataframe tbody tr th {\n",
       "        vertical-align: top;\n",
       "    }\n",
       "\n",
       "    .dataframe thead th {\n",
       "        text-align: right;\n",
       "    }\n",
       "</style>\n",
       "<table border=\"1\" class=\"dataframe\">\n",
       "  <thead>\n",
       "    <tr style=\"text-align: right;\">\n",
       "      <th></th>\n",
       "      <th>Indicator_Code</th>\n",
       "      <th>Indicator_Name</th>\n",
       "    </tr>\n",
       "  </thead>\n",
       "  <tbody>\n",
       "    <tr>\n",
       "      <th>0</th>\n",
       "      <td>SP.POP.GROW</td>\n",
       "      <td>Population Growth (in %)</td>\n",
       "    </tr>\n",
       "    <tr>\n",
       "      <th>1</th>\n",
       "      <td>SI.POV.GINI</td>\n",
       "      <td>Gini Index</td>\n",
       "    </tr>\n",
       "    <tr>\n",
       "      <th>2</th>\n",
       "      <td>NY.GDP.PCAP.KD.ZG</td>\n",
       "      <td>GDP per capita growth (in %)</td>\n",
       "    </tr>\n",
       "    <tr>\n",
       "      <th>3</th>\n",
       "      <td>SE.XPD.TOTL.GB.ZS</td>\n",
       "      <td>Government expenditure on education, total (% ...</td>\n",
       "    </tr>\n",
       "    <tr>\n",
       "      <th>4</th>\n",
       "      <td>SE.XPD.TOTL.GD.ZS</td>\n",
       "      <td>Government expenditure on education, total (% ...</td>\n",
       "    </tr>\n",
       "  </tbody>\n",
       "</table>\n",
       "</div>"
      ],
      "text/plain": [
       "      Indicator_Code                                     Indicator_Name\n",
       "0        SP.POP.GROW                           Population Growth (in %)\n",
       "1        SI.POV.GINI                                         Gini Index\n",
       "2  NY.GDP.PCAP.KD.ZG                       GDP per capita growth (in %)\n",
       "3  SE.XPD.TOTL.GB.ZS  Government expenditure on education, total (% ...\n",
       "4  SE.XPD.TOTL.GD.ZS  Government expenditure on education, total (% ..."
      ]
     },
     "execution_count": 3,
     "metadata": {},
     "output_type": "execute_result"
    }
   ],
   "source": [
    "path = os.getcwd() + \"\\Datasets\\\\\"\n",
    "print(os.listdir())\n",
    "df = pd.read_csv(\"Indicator.csv\")\n",
    "df.head()"
   ]
  },
  {
   "cell_type": "code",
   "execution_count": 4,
   "metadata": {},
   "outputs": [],
   "source": [
    "indicator_csvs = [path + i for i in df.Indicator_Code]\n",
    "df1 = [\"\\\\\".join(i.split(\"\\\\\")) for i in indicator_csvs]\n",
    "\n",
    "#To get the population growth CSV\n",
    "pop_grow = pd.read_csv(df1[0] + \"\\\\\" + os.listdir(df1[0])[0])#, sep='delimiter',header=None)#, error_bad_lines=False)"
   ]
  },
  {
   "cell_type": "code",
   "execution_count": 32,
   "metadata": {},
   "outputs": [
    {
     "name": "stdout",
     "output_type": "stream",
     "text": [
      "[1961 1962 1963 1964 1965 1966 1967 1968 1969 1970 1971 1972 1973 1974\n",
      " 1975 1976 1977 1978 1979 1980 1981 1982 1983 1984 1985 1986 1987 1988\n",
      " 1989 1990 1991 1992 1993 1994 1995 1996 1997 1998 1999 2000 2001 2002\n",
      " 2003 2004 2005 2006 2007 2008 2009 2010 2011 2012 2013 2014 2015 2016\n",
      " 2017 2018 2019]\n",
      "[1.35391936 1.72419856 2.08313113 2.05295159 2.05489156 2.10830561\n",
      " 2.0462054  2.03227327 2.11369365 2.09039635 2.10697359 2.03120317\n",
      " 1.96656691 1.94590796 1.86502801 1.78577058 1.74948963 1.74786475\n",
      " 1.76191876 1.74854248 1.76433325 1.80007825 1.78394651 1.74675833\n",
      " 1.74856773 1.77021894 1.78321012 1.77039584 1.73876395 1.73563662\n",
      " 1.66643661 1.57010986 1.56192473 1.52190491 1.51022963 1.45329013\n",
      " 1.42721746 1.39215977 1.35180012 1.32307344 1.29759464 1.27680623\n",
      " 1.26147781 1.25426257 1.24692652 1.24369325 1.23574088 1.23931259\n",
      " 1.22328525 1.20325223 1.17004467 1.18384198 1.18373602 1.17981145\n",
      " 1.16809919 1.16252807 1.14197186 1.10356208 1.07483913]\n"
     ]
    },
    {
     "data": {
      "text/plain": [
       "[<matplotlib.lines.Line2D at 0x20e26c48088>]"
      ]
     },
     "execution_count": 32,
     "metadata": {},
     "output_type": "execute_result"
    },
    {
     "data": {
      "image/png": "[encoded data removed]",
      "text/plain": [
       "<Figure size 576x432 with 1 Axes>"
      ]
     },
     "metadata": {
      "needs_background": "light"
     },
     "output_type": "display_data"
    }
   ],
   "source": [
    "world_pop = pop_grow[pop_grow[\"Country Name\"]==\"World\"]\n",
    "growth = {}\n",
    "\n",
    "k = 5\n",
    "for i in world_pop.iloc[:,5:]:\n",
    "    growth[int(i)] = world_pop.iloc[0,k]\n",
    "    k+=1\n",
    "#growth = pd.DataFrame(growth)#,columns=[\"Year\",\"Growth\"])\n",
    "#print(growth)\n",
    "labels = np.array(list(growth.keys()))\n",
    "values = np.array(list(growth.values()))\n",
    "\n",
    "print(labels)\n",
    "print(values)\n",
    "\n",
    "\n",
    "plt.figure(figsize=(8,6))\n",
    "plt.grid(True)\n",
    "plt.title(\"Population Growth (%) of the World since the 1960s\")\n",
    "plt.xlabel(\"Years\")\n",
    "plt.ylabel(\"Population Growth (in %)\")\n",
    "plt.ylim(0,2.25)\n",
    "plt.plot(labels,values,color=\"red\")"
   ]
  },
  {
   "cell_type": "raw",
   "metadata": {},
   "source": []
  },
  {
   "cell_type": "code",
   "execution_count": null,
   "metadata": {},
   "outputs": [],
   "source": []
  }
 ],
 "metadata": {
  "kernelspec": {
   "display_name": "Python 3.7.0 64-bit",
   "language": "python",
   "name": "python37064bit1d987c35025341e2aefe788fd3b05888"
  },
  "language_info": {
   "codemirror_mode": {
    "name": "ipython",
    "version": 3
   },
   "file_extension": ".py",
   "mimetype": "text/x-python",
   "name": "python",
   "nbconvert_exporter": "python",
   "pygments_lexer": "ipython3",
   "version": "3.7.6"
  }
 },
 "nbformat": 4,
 "nbformat_minor": 2
}
