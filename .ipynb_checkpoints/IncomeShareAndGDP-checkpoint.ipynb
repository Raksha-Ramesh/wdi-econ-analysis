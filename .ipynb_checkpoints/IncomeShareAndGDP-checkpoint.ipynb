{
 "cells": [
  {
   "cell_type": "code",
   "execution_count": 19,
   "metadata": {},
   "outputs": [],
   "source": [
    "import os\n",
    "import pandas as pd\n",
    "import numpy as np\n",
    "import matplotlib.pyplot as plt\n",
    "import datetime"
   ]
  },
  {
   "cell_type": "code",
   "execution_count": 20,
   "metadata": {},
   "outputs": [
    {
     "name": "stdout",
     "output_type": "stream",
     "text": [
      "['.ipynb_checkpoints', 'Access_CSVs.ipynb', 'Datasets', 'IncomeShareAndGDP.ipynb', 'Indicator.csv']\n"
     ]
    },
    {
     "data": {
      "text/html": [
       "<div>\n",
       "<style scoped>\n",
       "    .dataframe tbody tr th:only-of-type {\n",
       "        vertical-align: middle;\n",
       "    }\n",
       "\n",
       "    .dataframe tbody tr th {\n",
       "        vertical-align: top;\n",
       "    }\n",
       "\n",
       "    .dataframe thead th {\n",
       "        text-align: right;\n",
       "    }\n",
       "</style>\n",
       "<table border=\"1\" class=\"dataframe\">\n",
       "  <thead>\n",
       "    <tr style=\"text-align: right;\">\n",
       "      <th></th>\n",
       "      <th>Indicator_Code</th>\n",
       "      <th>Indicator_Name</th>\n",
       "    </tr>\n",
       "  </thead>\n",
       "  <tbody>\n",
       "    <tr>\n",
       "      <td>0</td>\n",
       "      <td>SP.POP.GROW</td>\n",
       "      <td>Population Growth (in %)</td>\n",
       "    </tr>\n",
       "    <tr>\n",
       "      <td>1</td>\n",
       "      <td>SI.POV.GINI</td>\n",
       "      <td>Gini Index</td>\n",
       "    </tr>\n",
       "    <tr>\n",
       "      <td>2</td>\n",
       "      <td>NY.GDP.PCAP.KD.ZG</td>\n",
       "      <td>GDP per capita growth (in %)</td>\n",
       "    </tr>\n",
       "    <tr>\n",
       "      <td>3</td>\n",
       "      <td>SE.XPD.TOTL.GB.ZS</td>\n",
       "      <td>Government expenditure on education, total (% ...</td>\n",
       "    </tr>\n",
       "    <tr>\n",
       "      <td>4</td>\n",
       "      <td>SE.XPD.TOTL.GD.ZS</td>\n",
       "      <td>Government expenditure on education, total (% ...</td>\n",
       "    </tr>\n",
       "    <tr>\n",
       "      <td>5</td>\n",
       "      <td>SI.DST.FRST.10</td>\n",
       "      <td>Income share held by lowest 10%</td>\n",
       "    </tr>\n",
       "    <tr>\n",
       "      <td>6</td>\n",
       "      <td>SI.DST.10TH.10</td>\n",
       "      <td>Income share held by highest 10%</td>\n",
       "    </tr>\n",
       "    <tr>\n",
       "      <td>7</td>\n",
       "      <td>SL.UEM.TOTL.NE.ZS</td>\n",
       "      <td>Unemployment, total (% of labour force) (natio...</td>\n",
       "    </tr>\n",
       "  </tbody>\n",
       "</table>\n",
       "</div>"
      ],
      "text/plain": [
       "      Indicator_Code                                     Indicator_Name\n",
       "0        SP.POP.GROW                           Population Growth (in %)\n",
       "1        SI.POV.GINI                                         Gini Index\n",
       "2  NY.GDP.PCAP.KD.ZG                       GDP per capita growth (in %)\n",
       "3  SE.XPD.TOTL.GB.ZS  Government expenditure on education, total (% ...\n",
       "4  SE.XPD.TOTL.GD.ZS  Government expenditure on education, total (% ...\n",
       "5     SI.DST.FRST.10                    Income share held by lowest 10%\n",
       "6     SI.DST.10TH.10                   Income share held by highest 10%\n",
       "7  SL.UEM.TOTL.NE.ZS  Unemployment, total (% of labour force) (natio..."
      ]
     },
     "execution_count": 20,
     "metadata": {},
     "output_type": "execute_result"
    }
   ],
   "source": [
    "path = os.getcwd() + \"\\Datasets\\\\\"\n",
    "print(os.listdir())\n",
    "df = pd.read_csv(\"Indicator.csv\")\n",
    "df"
   ]
  },
  {
   "cell_type": "markdown",
   "metadata": {},
   "source": [
    "### To access the dataset(s) for any indicator(s), do the following:\n",
    "- Find out the corresponding Inidcator_Code using Indicator.csv\n",
    "- That code becomes the name of the folder to access as ```newPath = path + \"\\\\<Indicator_Code>\"```\n",
    "- Each indicator folder has two csvs having the metadata and the main csv file containing the data. This file begins with \"API_.... .csv\"\n",
    "- The main csv is the first element to be listed in os.listdir\n",
    "- Run: ```df = pd.read_csv(newPath + os.listdir(newPath)[0])```"
   ]
  },
  {
   "cell_type": "code",
   "execution_count": 5,
   "metadata": {},
   "outputs": [],
   "source": [
    "#Income share - Highest and Lowest 10%\n",
    "#GDP per Capita"
   ]
  },
  {
   "cell_type": "code",
   "execution_count": 21,
   "metadata": {},
   "outputs": [
    {
     "data": {
      "text/plain": [
       "'API_SI.DST.FRST.10_DS2_en_csv_v2_1351363.csv'"
      ]
     },
     "execution_count": 21,
     "metadata": {},
     "output_type": "execute_result"
    }
   ],
   "source": [
    "newPath = path + \"SI.DST.FRST.10\"\n",
    "#lowest10 = pd.read_csv(newPath + os.listdir(newPath)[0])\n",
    "os.listdir(newPath)[0]"
   ]
  },
  {
   "cell_type": "code",
   "execution_count": 44,
   "metadata": {},
   "outputs": [],
   "source": [
    "lowest10 = pd.read_csv(newPath + \"\\\\\" + os.listdir(newPath)[0])"
   ]
  },
  {
   "cell_type": "code",
   "execution_count": 53,
   "metadata": {},
   "outputs": [],
   "source": [
    "def finding_PercentageMissing(lowest10,n):\n",
    "    percent_missing = lowest10.isnull().sum() * 100 / len(lowest10)\n",
    "    missing_value_df = pd.DataFrame({'column_name': lowest10.columns,\n",
    "                                     'percent_missing': percent_missing})\n",
    "    rslt_df = missing_value_df[missing_value_df['percent_missing'] > n] \n",
    "    return rslt_df"
   ]
  },
  {
   "cell_type": "code",
   "execution_count": 45,
   "metadata": {},
   "outputs": [],
   "source": [
    "toDrop = [str(i) for i in range(1960,1990)]\n",
    "lowest10 = lowest10.drop(toDrop, axis=1)\n",
    "lowest10 = lowest10.drop(['2019'], axis=1)"
   ]
  },
  {
   "cell_type": "code",
   "execution_count": 54,
   "metadata": {},
   "outputs": [
    {
     "name": "stdout",
     "output_type": "stream",
     "text": [
      "     column_name  percent_missing\n",
      "1990        1990        93.560606\n",
      "1991        1991        92.424242\n",
      "1992        1992        86.742424\n",
      "1993        1993        90.530303\n",
      "1994        1994        89.393939\n",
      "1995        1995        85.227273\n",
      "1996        1996        87.878788\n",
      "1997        1997        89.393939\n",
      "1998        1998        85.606061\n",
      "1999        1999        87.878788\n",
      "2000        2000        81.818182\n",
      "2001        2001        86.742424\n",
      "2002        2002        81.060606\n",
      "2003        2003        78.787879\n",
      "2004        2004        72.727273\n",
      "2005        2005        71.590909\n",
      "2006        2006        72.348485\n",
      "2007        2007        73.106061\n",
      "2008        2008        72.727273\n",
      "2009        2009        70.833333\n",
      "2011        2011        71.212121\n",
      "2012        2012        70.075758\n",
      "2013        2013        71.212121\n",
      "2016        2016        71.212121\n",
      "2017        2017        75.000000\n",
      "2018        2018        89.393939\n"
     ]
    }
   ],
   "source": [
    "print(finding_PercentageMissing(lowest10,70))"
   ]
  },
  {
   "cell_type": "code",
   "execution_count": null,
   "metadata": {},
   "outputs": [],
   "source": []
  }
 ],
 "metadata": {
  "kernelspec": {
   "display_name": "Python 3",
   "language": "python",
   "name": "python3"
  },
  "language_info": {
   "codemirror_mode": {
    "name": "ipython",
    "version": 3
   },
   "file_extension": ".py",
   "mimetype": "text/x-python",
   "name": "python",
   "nbconvert_exporter": "python",
   "pygments_lexer": "ipython3",
   "version": "3.7.6"
  }
 },
 "nbformat": 4,
 "nbformat_minor": 2
}
