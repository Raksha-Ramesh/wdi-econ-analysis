{
 "cells": [
  {
   "cell_type": "markdown",
   "metadata": {},
   "source": [
    " In each dataset, the independent variables will be our various factors, and GDP will be dependent variable.\n",
    " This will be done over how many ever years and use each year for validation.\n",
    " So, each year will have 2 datasets; one for developed(with n intances, one for n developed countries) and one for developing(with m, one intances for m developed countries).\n",
    " We can see how the dependencies for each changes over the years."
   ]
  },
  {
   "cell_type": "code",
   "execution_count": 1,
   "metadata": {},
   "outputs": [],
   "source": [
    "import os\n",
    "import pandas as pd\n",
    "import numpy as np\n",
    "import matplotlib.pyplot as plt\n",
    "import datetime"
   ]
  },
  {
   "cell_type": "code",
   "execution_count": 2,
   "metadata": {},
   "outputs": [],
   "source": [
    "def getDF(code):\n",
    "    path = os.getcwd() + \"\\Datasets\\\\\"\n",
    "    newPath = path + code\n",
    "    df = pd.read_csv(newPath + \"\\\\\" + os.listdir(newPath)[0])\n",
    "    return df"
   ]
  },
  {
   "cell_type": "markdown",
   "metadata": {},
   "source": [
    "## Getting the Data"
   ]
  },
  {
   "cell_type": "code",
   "execution_count": 100,
   "metadata": {},
   "outputs": [],
   "source": [
    "GDP_PreCapitaGrowth = getDF(\"NY.GDP.PCAP.KD.ZG\")\n",
    "GvtExpenditureOnEduAsPercetageOfGDP = getDF(\"SE.XPD.TOTL.GD.ZS\")\n",
    "GiniIndex = getDF(\"SI.POV.GINI\")\n",
    "UnpemplymentAsPercentageOfLabourForce = getDF(\"SL.UEM.TOTL.ZS\")\n",
    "LifeExpectancy = getDF(\"SP.DYN.LE00.IN\")\n",
    "PopulationGrowth = getDF(\"SP.POP.GROW\")"
   ]
  },
  {
   "cell_type": "markdown",
   "metadata": {},
   "source": [
    "## Seperating Developing Countries with Developing Countries"
   ]
  },
  {
   "cell_type": "code",
   "execution_count": 5,
   "metadata": {},
   "outputs": [],
   "source": [
    "Developed = [\"Andorra\",\"Austria\",\"Belgium\",\"Cyprus\",\"Czech Republic\",\"Denmark\",\"Estonia\",\"Faroe Islands\",\"Finland\",\"France\",\"Germany\",\"Greece\",\"Guernsey\",\"Holy See\",\"Iceland\",\"Ireland\",\"Italy\",\"Jersey\",\"Latvia\",\"Liechtenstein\",\"Lithuania\",\"Luxembourg\",\"Malta\",\"Monaco\",\"Netherlands\",\"Norway\",\"Portugal\",\"San Marino\",\"Slovakia\",\"Slovenia\",\"Spain\",\"Sweden\",\"Switzerland\",\"United Kingdom\",\"Hong Kong\",\"Israel\",\"Japan\",\"Macau\",\"Singapore\",\"South Korea\",\"Taiwan\",\"Bermuda\",\"Canada\",\"Puerto Rico\",\"United States\",\"Australia\",\"New Zealand\"]"
   ]
  },
  {
   "cell_type": "code",
   "execution_count": 98,
   "metadata": {},
   "outputs": [],
   "source": [
    "GDP_PreCapitaGrowth_D = GDP_PreCapitaGrowth[GDP_PreCapitaGrowth[\"Country Name\"].isin(Developed)]\n",
    "GvtExpenditureOnEduAsPercetageOfGDP_D = GvtExpenditureOnEduAsPercetageOfGDP[GvtExpenditureOnEduAsPercetageOfGDP[\"Country Name\"].isin(Developed)]\n",
    "GiniIndex_D = GiniIndex[GiniIndex[\"Country Name\"].isin(Developed)]\n",
    "UnpemplymentAsPercentageOfLabourForce_D = UnpemplymentAsPercentageOfLabourForce[UnpemplymentAsPercentageOfLabourForce[\"Country Name\"].isin(Developed)]\n",
    "LifeExpectancy_D = LifeExpectancy[LifeExpectancy[\"Country Name\"].isin(Developed)]\n",
    "PopulationGrowth_D = PopulationGrowth[PopulationGrowth[\"Country Name\"].isin(Developed)]"
   ]
  },
  {
   "cell_type": "code",
   "execution_count": 99,
   "metadata": {},
   "outputs": [],
   "source": [
    "GDP_PreCapitaGrowth_Ding = GDP_PreCapitaGrowth[~GDP_PreCapitaGrowth[\"Country Name\"].isin(Developed)]\n",
    "GvtExpenditureOnEduAsPercetageOfGDP_Ding = GvtExpenditureOnEduAsPercetageOfGDP[~GvtExpenditureOnEduAsPercetageOfGDP[\"Country Name\"].isin(Developed)]\n",
    "GiniIndex_Ding = GiniIndex[~GiniIndex[\"Country Name\"].isin(Developed)]\n",
    "UnpemplymentAsPercentageOfLabourForce_Ding = UnpemplymentAsPercentageOfLabourForce[~UnpemplymentAsPercentageOfLabourForce[\"Country Name\"].isin(Developed)]\n",
    "LifeExpectancy_Ding = LifeExpectancy[~LifeExpectancy[\"Country Name\"].isin(Developed)]\n",
    "PopulationGrowth_Ding = PopulationGrowth[~PopulationGrowth[\"Country Name\"].isin(Developed)]"
   ]
  },
  {
   "cell_type": "markdown",
   "metadata": {},
   "source": [
    "## Creating a List of the Factors for Developed and Developing Countries"
   ]
  },
  {
   "cell_type": "code",
   "execution_count": 84,
   "metadata": {},
   "outputs": [],
   "source": [
    "DevelopedDFList = [GvtExpenditureOnEduAsPercetageOfGDP_D,GiniIndex_D,UnpemplymentAsPercentageOfLabourForce_D,LifeExpectancy_D,PopulationGrowth_D,GDP_PreCapitaGrowth_D]\n",
    "DevelopingDFList = [GvtExpenditureOnEduAsPercetageOfGDP_Ding,GiniIndex_Ding,UnpemplymentAsPercentageOfLabourForce_Ding,LifeExpectancy_Ding,PopulationGrowth_Ding,GDP_PreCapitaGrowth_Ding]"
   ]
  },
  {
   "cell_type": "code",
   "execution_count": 92,
   "metadata": {},
   "outputs": [],
   "source": [
    "def createDataset(year,dfList):\n",
    "    factors = [x[year] for x in dfList]\n",
    "    df = pd.concat(factors,axis =1, sort = False)\n",
    "    df.columns = [\"GvtExpenditureOnEduAsPercetageOfGDP\",\"GiniIndex\",\"UnpemplymentAsPercentageOfLabourForce\",\"LifeExpectancy\",\"PopulationGrowt\",\"GDP_PreCapitaGrowth\"]\n",
    "    total_rows = max(df.count())\n",
    "    try:\n",
    "        df = df.set_index(pd.Index([x for x in range(total_rows)]))\n",
    "    except:\n",
    "        total_rows +=1\n",
    "        df = df.set_index(pd.Index([x for x in range(total_rows)]))\n",
    "    return df"
   ]
  },
  {
   "cell_type": "markdown",
   "metadata": {},
   "source": [
    "## Creating Final Datasets for Each Year"
   ]
  },
  {
   "cell_type": "code",
   "execution_count": 93,
   "metadata": {},
   "outputs": [],
   "source": [
    "Developed2018 = createDataset(\"2018\",DevelopedDFList)\n",
    "Developing2018 = createDataset(\"2018\",DevelopingDFList)\n",
    "Developed2017 = createDataset(\"2017\",DevelopedDFList)\n",
    "Developing2017 = createDataset(\"2017\",DevelopingDFList)\n",
    "Developed2016 = createDataset(\"2016\",DevelopedDFList)\n",
    "Developing2016 = createDataset(\"2016\",DevelopingDFList)\n",
    "Developed2015 = createDataset(\"2015\",DevelopedDFList)\n",
    "Developing2015 = createDataset(\"2015\",DevelopingDFList)"
   ]
  },
  {
   "cell_type": "code",
   "execution_count": 97,
   "metadata": {},
   "outputs": [
    {
     "data": {
      "text/plain": [
       "GvtExpenditureOnEduAsPercetageOfGDP      27\n",
       "GiniIndex                                25\n",
       "UnpemplymentAsPercentageOfLabourForce    33\n",
       "LifeExpectancy                           36\n",
       "PopulationGrowt                          39\n",
       "GDP_PreCapitaGrowth                      36\n",
       "dtype: int64"
      ]
     },
     "execution_count": 97,
     "metadata": {},
     "output_type": "execute_result"
    }
   ],
   "source": [
    "Developed2015.count()"
   ]
  },
  {
   "cell_type": "code",
   "execution_count": null,
   "metadata": {},
   "outputs": [],
   "source": []
  }
 ],
 "metadata": {
  "kernelspec": {
   "display_name": "Python 3",
   "language": "python",
   "name": "python3"
  },
  "language_info": {
   "codemirror_mode": {
    "name": "ipython",
    "version": 3
   },
   "file_extension": ".py",
   "mimetype": "text/x-python",
   "name": "python",
   "nbconvert_exporter": "python",
   "pygments_lexer": "ipython3",
   "version": "3.7.4"
  }
 },
 "nbformat": 4,
 "nbformat_minor": 2
}
