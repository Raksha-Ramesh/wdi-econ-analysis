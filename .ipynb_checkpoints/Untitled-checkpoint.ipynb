{
 "cells": [
  {
   "cell_type": "code",
   "execution_count": 1,
   "metadata": {},
   "outputs": [],
   "source": [
    "import os\n",
    "import pandas as pd\n",
    "import numpy as np\n",
    "import matplotlib.pyplot as plt\n",
    "import datetime\n",
    "#print(os.getcwd())"
   ]
  },
  {
   "cell_type": "code",
   "execution_count": 2,
   "metadata": {},
   "outputs": [
    {
     "name": "stdout",
     "output_type": "stream",
     "text": [
      "['README.md', 'Indicator.csv', 'Datasets', '.git', 'Access_CSVs.ipynb', 'Untitled.ipynb', '.ipynb_checkpoints']\n"
     ]
    },
    {
     "data": {
      "text/html": [
       "<div>\n",
       "<style scoped>\n",
       "    .dataframe tbody tr th:only-of-type {\n",
       "        vertical-align: middle;\n",
       "    }\n",
       "\n",
       "    .dataframe tbody tr th {\n",
       "        vertical-align: top;\n",
       "    }\n",
       "\n",
       "    .dataframe thead th {\n",
       "        text-align: right;\n",
       "    }\n",
       "</style>\n",
       "<table border=\"1\" class=\"dataframe\">\n",
       "  <thead>\n",
       "    <tr style=\"text-align: right;\">\n",
       "      <th></th>\n",
       "      <th>Indicator_Code</th>\n",
       "      <th>Indicator_Name</th>\n",
       "    </tr>\n",
       "  </thead>\n",
       "  <tbody>\n",
       "    <tr>\n",
       "      <th>0</th>\n",
       "      <td>SP.POP.GROW</td>\n",
       "      <td>Population Growth (in %)</td>\n",
       "    </tr>\n",
       "    <tr>\n",
       "      <th>1</th>\n",
       "      <td>SI.POV.GINI</td>\n",
       "      <td>Gini Index</td>\n",
       "    </tr>\n",
       "    <tr>\n",
       "      <th>2</th>\n",
       "      <td>NY.GDP.PCAP.KD.ZG</td>\n",
       "      <td>GDP per capita growth (in %)</td>\n",
       "    </tr>\n",
       "    <tr>\n",
       "      <th>3</th>\n",
       "      <td>SE.XPD.TOTL.GB.ZS</td>\n",
       "      <td>Government expenditure on education, total (% ...</td>\n",
       "    </tr>\n",
       "    <tr>\n",
       "      <th>4</th>\n",
       "      <td>SE.XPD.TOTL.GD.ZS</td>\n",
       "      <td>Government expenditure on education, total (% ...</td>\n",
       "    </tr>\n",
       "  </tbody>\n",
       "</table>\n",
       "</div>"
      ],
      "text/plain": [
       "      Indicator_Code                                     Indicator_Name\n",
       "0        SP.POP.GROW                           Population Growth (in %)\n",
       "1        SI.POV.GINI                                         Gini Index\n",
       "2  NY.GDP.PCAP.KD.ZG                       GDP per capita growth (in %)\n",
       "3  SE.XPD.TOTL.GB.ZS  Government expenditure on education, total (% ...\n",
       "4  SE.XPD.TOTL.GD.ZS  Government expenditure on education, total (% ..."
      ]
     },
     "execution_count": 2,
     "metadata": {},
     "output_type": "execute_result"
    }
   ],
   "source": [
    "path = os.getcwd() + \"/Datasets//\"\n",
    "print(os.listdir())\n",
    "df = pd.read_csv(\"Indicator.csv\")\n",
    "df.head()"
   ]
  },
  {
   "cell_type": "code",
   "execution_count": 3,
   "metadata": {},
   "outputs": [],
   "source": [
    "indicator_csvs = [path + i for i in df.Indicator_Code]\n",
    "df1 = [\"//\".join(i.split(\"//\")) for i in indicator_csvs]\n",
    "gov_exp = pd.read_csv(df1[3] + \"//\" + os.listdir(df1[3])[0])\n"
   ]
  },
  {
   "cell_type": "code",
   "execution_count": 7,
   "metadata": {},
   "outputs": [],
   "source": [
    "#dimensionality reduction since data is very sparse till 2000.\n",
    "i = 1960\n",
    "while i <= 2000:\n",
    "    gov_exp.drop(columns=[str(i)],axis=1, inplace=True)\n",
    "    i += 1"
   ]
  },
  {
   "cell_type": "code",
   "execution_count": 4,
   "metadata": {},
   "outputs": [
    {
     "name": "stdout",
     "output_type": "stream",
     "text": [
      "Index(['Country Name', 'Country Code', 'Indicator Name', 'Indicator Code',\n",
      "       '1960', '1961', '1962', '1963', '1964', '1965', '1966', '1967', '1968',\n",
      "       '1969', '1970', '1971', '1972', '1973', '1974', '1975', '1976', '1977',\n",
      "       '1978', '1979', '1980', '1981', '1982', '1983', '1984', '1985', '1986',\n",
      "       '1987', '1988', '1989', '1990', '1991', '1992', '1993', '1994', '1995',\n",
      "       '1996', '1997', '1998', '1999', '2000', '2001', '2002', '2003', '2004',\n",
      "       '2005', '2006', '2007', '2008', '2009', '2010', '2011', '2012', '2013',\n",
      "       '2014', '2015', '2016', '2017', '2018', '2019'],\n",
      "      dtype='object')\n"
     ]
    }
   ],
   "source": [
    "print(gov_exp.columns)"
   ]
  },
  {
   "cell_type": "code",
   "execution_count": 18,
   "metadata": {},
   "outputs": [
    {
     "name": "stdout",
     "output_type": "stream",
     "text": [
      "{2001: 140, 2002: 148, 2003: 126, 2004: 155, 2005: 138, 2006: 128, 2007: 129, 2008: 158, 2009: 148, 2010: 159, 2011: 154, 2012: 147, 2013: 155, 2014: 151, 2015: 136, 2016: 137}\n"
     ]
    }
   ],
   "source": [
    "count = 0\n",
    "i = 2001\n",
    "are_there_values = {}\n",
    "while i <= 2016:\n",
    "    for data in gov_exp[str(i)]:\n",
    "            are_there_values[i] = 0\n",
    "    i += 1\n",
    "    \n",
    "i = 2001\n",
    "while i <= 2016:\n",
    "    for data in gov_exp[str(i)]:\n",
    "        if data > 0:\n",
    "            are_there_values[i] += 1\n",
    "    i += 1\n",
    "    \n",
    "print(are_there_values)"
   ]
  },
  {
   "cell_type": "code",
   "execution_count": 42,
   "metadata": {},
   "outputs": [
    {
     "name": "stdout",
     "output_type": "stream",
     "text": [
      "[2001, 2002, 2003, 2004, 2005, 2006, 2007, 2008, 2009, 2010, 2011, 2012, 2013, 2014, 2015, 2016]\n",
      "\n",
      "{'Aruba': 17.904401250000003, 'Afghanistan': 6.297638749999999, 'Angola': 1.5082443749999999, 'Albania': 7.015768124999999, 'Andorra': 2.41972625, 'Arab World': 1.745836875, 'United Arab Emirates': 0.0, 'Argentina': 15.048511249999999, 'Armenia': 9.195758125000001, 'American Samoa': 0.0, 'Antigua and Barbuda': 1.164355, 'Australia': 10.1608975, 'Austria': 10.594186249999998, 'Azerbaijan': 10.326880625, 'Burundi': 12.689258125, 'Belgium': 6.7281200000000005, 'Benin': 18.003384375, 'Burkina Faso': 10.043061875, 'Bangladesh': 11.992423125, 'Bulgaria': 8.854714374999999, 'Bahrain': 4.061825625, 'Bahamas, The': 0.0, 'Bosnia and Herzegovina': 0.0, 'Belarus': 8.791521875, 'Belize': 12.453757499999998, 'Bermuda': 4.873485, 'Bolivia': 0.0, 'Brazil': 11.79991375, 'Barbados': 14.509211875, 'Brunei Darussalam': 2.8523275, 'Bhutan': 12.039464375, 'Botswana': 4.5505450000000005, 'Central African Republic': 5.806823125, 'Canada': 6.119716875, 'Central Europe and the Baltics': 11.356691562499996, 'Switzerland': 15.669750000000002, 'Channel Islands': 0.0, 'Chile': 15.726976874999998, 'China': 0.0, \"Cote d'Ivoire\": 21.873491875000003, 'Cameroon': 16.12899, 'Congo, Dem. Rep.': 3.917559375, 'Congo, Rep.': 4.623033125, 'Colombia': 15.353726875000001, 'Comoros': 8.321445625, 'Cabo Verde': 12.85158875, 'Costa Rica': 20.4368425, 'Caribbean small states': 16.3093003125, 'Cuba': 0.0, 'Curacao': 0.0, 'Cayman Islands': 0.0, 'Cyprus': 15.02848375, 'Czech Republic': 9.928783124999999, 'Germany': 7.2398218750000005, 'Djibouti': 12.725359999999998, 'Dominica': 0.65763125, 'Denmark': 13.106669375000001, 'Dominican Republic': 2.92916875, 'Algeria': 0.714271875, 'East Asia & Pacific (excluding high income)': 9.127154687500001, 'Early-demographic dividend': 11.317061875, 'East Asia & Pacific': 9.85809625, 'Europe & Central Asia (excluding high income)': 10.203341562499999, 'Europe & Central Asia': 12.2432634375, 'Ecuador': 5.361743125, 'Egypt, Arab Rep.': 4.894640625000001, 'Euro area': 11.9476309375, 'Eritrea': 1.400306875, 'Spain': 10.393470625, 'Estonia': 12.885085624999999, 'Ethiopia': 18.488751875, 'European Union': 11.582629374999998, 'Fragile and conflict affected situations': 0.881425, 'Finland': 12.354729375000002, 'Fiji': 11.96649625, 'France': 0.0, 'Faroe Islands': 0.0, 'Micronesia, Fed. Sts.': 1.394524375, 'Gabon': 3.7260625000000003, 'United Kingdom': 12.325003125000002, 'Georgia': 8.35235625, 'Ghana': 20.720176875, 'Gibraltar': 0.0, 'Guinea': 11.07346625, 'Gambia, The': 10.799121249999999, 'Guinea-Bissau': 3.1250099999999996, 'Equatorial Guinea': 0.0, 'Greece': 2.4097575, 'Grenada': 0.675561875, 'Greenland': 0.0, 'Guatemala': 13.483176875, 'Guam': 0.0, 'Guyana': 12.276459375000002, 'High income': 12.847795000000001, 'Hong Kong SAR, China': 21.2191375, 'Honduras': 4.385140625, 'Heavily indebted poor countries (HIPC)': 11.316962499999999, 'Croatia': 4.833105, 'Haiti': 2.478678125, 'Hungary': 9.98203125, 'IBRD only': 12.733952500000001, 'IDA & IBRD total': 15.591807499999998, 'IDA total': 12.13950125, 'IDA blend': 7.611873437500001, 'Indonesia': 14.251074999999998, 'IDA only': 14.359861249999998, 'Isle of Man': 0.0, 'India': 6.946370000000001, 'Not classified': 0.0, 'Ireland': 12.853269375, 'Iran, Islamic Rep.': 20.5898625, 'Iraq': 0.0, 'Iceland': 16.574629375, 'Israel': 13.8067075, 'Italy': 8.8139625, 'Jamaica': 16.6641975, 'Jordan': 0.83031125, 'Japan': 1.673905, 'Kazakhstan': 7.0990987500000005, 'Kenya': 17.636973125000004, 'Kyrgyz Republic': 17.203246874999998, 'Cambodia': 5.840800625000001, 'Kiribati': 0.71975875, 'St. Kitts and Nevis': 5.910444375000001, 'Korea, Rep.': 0.0, 'Kuwait': 4.715641875, 'Latin America & Caribbean (excluding high income)': 13.3263646875, 'Lao PDR': 9.969838125, 'Lebanon': 5.261866875, 'Liberia': 1.450323125, 'Libya': 0.0, 'St. Lucia': 14.58026375, 'Latin America & Caribbean': 10.324894687499999, 'Least developed countries: UN classification': 12.751927812499998, 'Low income': 9.508005625, 'Liechtenstein': 0.0, 'Sri Lanka': 5.2064731250000005, 'Lower middle income': 11.53814375, 'Low & middle income': 14.7438628125, 'Lesotho': 12.081536875000001, 'Late-demographic dividend': 13.959729687500001, 'Lithuania': 13.949188125000001, 'Luxembourg': 2.348156875, 'Latvia': 13.743198125, 'Macao SAR, China': 13.310259375, 'St. Martin (French part)': 0.0, 'Morocco': 2.172870625, 'Monaco': 3.4065456249999992, 'Moldova': 16.89379, 'Madagascar': 16.528226875, 'Maldives': 13.366701249999998, 'Middle East & North Africa': 3.781736875, 'Mexico': 19.568635, 'Marshall Islands': 2.332684375, 'Middle income': 12.7173403125, 'North Macedonia': 0.5400550000000001, 'Mali': 15.023933124999997, 'Malta': 9.961691875000001, 'Myanmar': 0.37054000000000004, 'Middle East & North Africa (excluding high income)': 0.93624625, 'Montenegro': 0.0, 'Mongolia': 9.97617625, 'Northern Mariana Islands': 0.0, 'Mozambique': 7.368479999999999, 'Mauritania': 5.802361250000001, 'Mauritius': 15.855760625, 'Malawi': 7.473864375000001, 'Malaysia': 18.776048125, 'North America': 7.78387625, 'Namibia': 9.073146874999999, 'New Caledonia': 0.0, 'Niger': 15.563716875000003, 'Nigeria': 0.0, 'Nicaragua': 6.826011874999999, 'Netherlands': 11.872394375, 'Norway': 16.11489875, 'Nepal': 19.968286250000002, 'Nauru': 0.0, 'New Zealand': 16.145692500000003, 'OECD members': 12.765320000000003, 'Oman': 5.331845625000001, 'Other small states': 12.552191562500001, 'Pakistan': 10.426023124999999, 'Panama': 5.77609125, 'Peru': 14.95366875, 'Philippines': 7.632935625, 'Palau': 1.927844375, 'Papua New Guinea': 0.0, 'Poland': 11.596908749999999, 'Pre-demographic dividend': 9.92312625, 'Puerto Rico': 0.0, 'Korea, Dem. People’s Rep.': 0.0, 'Portugal': 10.145950625000001, 'Paraguay': 11.067519375, 'West Bank and Gaza': 0.0, 'Pacific island small states': 0.0, 'Post-demographic dividend': 12.460639687499999, 'French Polynesia': 0.0, 'Qatar': 9.629268125, 'Romania': 9.606816250000001, 'Russian Federation': 8.324516874999999, 'Rwanda': 10.17559375, 'South Asia': 12.717671875000002, 'Saudi Arabia': 8.9992325, 'Sudan': 3.336793125, 'Senegal': 19.332049375, 'Singapore': 19.882605000000005, 'Solomon Islands': 4.70312625, 'Sierra Leone': 13.645831249999999, 'El Salvador': 14.13098, 'San Marino': 1.338853125, 'Somalia': 0.0, 'Serbia': 5.4179875, 'Sub-Saharan Africa (excluding high income)': 14.938954062499997, 'South Sudan': 0.9683275, 'Sub-Saharan Africa': 14.771021875000002, 'Small states': 11.330466874999999, 'Sao Tome and Principe': 12.006868124999999, 'Suriname': 0.0, 'Slovak Republic': 9.740497500000002, 'Slovenia': 12.50715125, 'Sweden': 13.762199375000002, 'Eswatini': 14.395580625000001, 'Sint Maarten (Dutch part)': 0.0, 'Seychelles': 5.170697499999999, 'Syrian Arab Republic': 9.23051125, 'Turks and Caicos Islands': 0.8913887500000001, 'Chad': 5.556848125, 'East Asia & Pacific (IDA & IBRD countries)': 9.952950000000001, 'Europe & Central Asia (IDA & IBRD countries)': 11.835137187499999, 'Togo': 19.912197499999998, 'Thailand': 16.221206874999996, 'Tajikistan': 11.691619999999999, 'Turkmenistan': 1.299719375, 'Latin America & the Caribbean (IDA & IBRD countries)': 13.348749687499998, 'Timor-Leste': 4.292839999999999, 'Middle East & North Africa (IDA & IBRD countries)': 0.93624625, 'Tonga': 4.484964375, 'South Asia (IDA & IBRD)': 12.717671875000002, 'Sub-Saharan Africa (IDA & IBRD countries)': 14.771021875000002, 'Trinidad and Tobago': 2.522544375, 'Tunisia': 18.875943125000003, 'Turkey': 2.2951824999999997, 'Tuvalu': 0.0, 'Tanzania': 9.076005, 'Uganda': 6.3506937500000005, 'Ukraine': 11.948490625000002, 'Upper middle income': 12.151063437500001, 'Uruguay': 5.0941825000000005, 'United States': 1.664159375, 'Uzbekistan': 5.895883124999999, 'St. Vincent and the Grenadines': 9.736234999999999, 'Venezuela, RB': 0.0, 'British Virgin Islands': 0.0, 'Virgin Islands (U.S.)': 0.0, 'Vietnam': 7.57027125, 'Vanuatu': 12.084986875, 'World': 14.280031875, 'Samoa': 3.25672375, 'Kosovo': 0.0, 'Yemen, Rep.': 2.6756575, 'South Africa': 19.060220625, 'Zambia': 3.870719375, 'Zimbabwe': 6.06020625}\n"
     ]
    }
   ],
   "source": [
    "expenditure = {}\n",
    "for i in gov_exp['Country Name']:\n",
    "    expenditure[i] = 0\n",
    "#print(expenditure)\n",
    "\n",
    "valid_years = []\n",
    "i = 2001\n",
    "while i <= 2016:\n",
    "    valid_years.append(i)\n",
    "    i += 1\n",
    "print(valid_years)\n",
    "\n",
    "'''expenditure_sum = {}\n",
    "for year in valid_years:\n",
    "    expenditure_sum[year] = 0\n",
    "\n",
    "for year in expenditure_sum.keys():\n",
    "    for data in gov_exp[str(year)]:\n",
    "        if data > 0:\n",
    "            expenditure_sum[year] += data\n",
    "            \n",
    "'''\n",
    "i = 0\n",
    "for country in expenditure.keys():\n",
    "    for year in valid_years:\n",
    "        if gov_exp[str(year)][i] > 0:\n",
    "            expenditure[country] = expenditure[country] + gov_exp[str(year)][i]\n",
    "    i += 1          \n",
    "#print(expenditure)\n",
    "\n",
    "avg_expenditure = {}\n",
    "for country in expenditure.keys():\n",
    "    avg_expenditure[country] = expenditure[country] / 16\n",
    "print()  \n",
    "print(avg_expenditure)\n",
    "    "
   ]
  },
  {
   "cell_type": "code",
   "execution_count": 60,
   "metadata": {},
   "outputs": [
    {
     "name": "stdout",
     "output_type": "stream",
     "text": [
      "[('United Arab Emirates', 0.0), ('American Samoa', 0.0), ('Bahamas, The', 0.0), ('Bosnia and Herzegovina', 0.0), ('Bolivia', 0.0), ('Channel Islands', 0.0), ('China', 0.0), ('Cuba', 0.0), ('Curacao', 0.0), ('Cayman Islands', 0.0), ('France', 0.0), ('Faroe Islands', 0.0), ('Gibraltar', 0.0), ('Equatorial Guinea', 0.0), ('Greenland', 0.0), ('Guam', 0.0), ('Isle of Man', 0.0), ('Not classified', 0.0), ('Iraq', 0.0), ('Korea, Rep.', 0.0), ('Libya', 0.0), ('Liechtenstein', 0.0), ('St. Martin (French part)', 0.0), ('Montenegro', 0.0), ('Northern Mariana Islands', 0.0), ('New Caledonia', 0.0), ('Nigeria', 0.0), ('Nauru', 0.0), ('Papua New Guinea', 0.0), ('Puerto Rico', 0.0), ('Korea, Dem. People’s Rep.', 0.0), ('West Bank and Gaza', 0.0), ('Pacific island small states', 0.0), ('French Polynesia', 0.0), ('Somalia', 0.0), ('Suriname', 0.0), ('Sint Maarten (Dutch part)', 0.0), ('Tuvalu', 0.0), ('Venezuela, RB', 0.0), ('British Virgin Islands', 0.0), ('Virgin Islands (U.S.)', 0.0), ('Kosovo', 0.0), ('Myanmar', 0.37054000000000004), ('North Macedonia', 0.5400550000000001), ('Dominica', 0.65763125), ('Grenada', 0.675561875), ('Algeria', 0.714271875), ('Kiribati', 0.71975875), ('Jordan', 0.83031125), ('Fragile and conflict affected situations', 0.881425), ('Turks and Caicos Islands', 0.8913887500000001), ('Middle East & North Africa (excluding high income)', 0.93624625), ('Middle East & North Africa (IDA & IBRD countries)', 0.93624625), ('South Sudan', 0.9683275), ('Antigua and Barbuda', 1.164355), ('Turkmenistan', 1.299719375), ('San Marino', 1.338853125), ('Micronesia, Fed. Sts.', 1.394524375), ('Eritrea', 1.400306875), ('Liberia', 1.450323125), ('Angola', 1.5082443749999999), ('United States', 1.664159375), ('Japan', 1.673905), ('Arab World', 1.745836875), ('Palau', 1.927844375), ('Morocco', 2.172870625), ('Turkey', 2.2951824999999997), ('Marshall Islands', 2.332684375), ('Luxembourg', 2.348156875), ('Greece', 2.4097575), ('Andorra', 2.41972625), ('Haiti', 2.478678125), ('Trinidad and Tobago', 2.522544375), ('Yemen, Rep.', 2.6756575), ('Brunei Darussalam', 2.8523275), ('Dominican Republic', 2.92916875), ('Guinea-Bissau', 3.1250099999999996), ('Samoa', 3.25672375), ('Sudan', 3.336793125), ('Monaco', 3.4065456249999992), ('Gabon', 3.7260625000000003), ('Middle East & North Africa', 3.781736875), ('Zambia', 3.870719375), ('Congo, Dem. Rep.', 3.917559375), ('Bahrain', 4.061825625), ('Timor-Leste', 4.292839999999999), ('Honduras', 4.385140625), ('Tonga', 4.484964375), ('Botswana', 4.5505450000000005), ('Congo, Rep.', 4.623033125), ('Solomon Islands', 4.70312625), ('Kuwait', 4.715641875), ('Croatia', 4.833105), ('Bermuda', 4.873485), ('Egypt, Arab Rep.', 4.894640625000001), ('Uruguay', 5.0941825000000005), ('Seychelles', 5.170697499999999), ('Sri Lanka', 5.2064731250000005), ('Lebanon', 5.261866875), ('Oman', 5.331845625000001), ('Ecuador', 5.361743125), ('Serbia', 5.4179875), ('Chad', 5.556848125), ('Panama', 5.77609125), ('Mauritania', 5.802361250000001), ('Central African Republic', 5.806823125), ('Cambodia', 5.840800625000001), ('Uzbekistan', 5.895883124999999), ('St. Kitts and Nevis', 5.910444375000001), ('Zimbabwe', 6.06020625), ('Canada', 6.119716875), ('Afghanistan', 6.297638749999999), ('Uganda', 6.3506937500000005), ('Belgium', 6.7281200000000005), ('Nicaragua', 6.826011874999999), ('India', 6.946370000000001), ('Albania', 7.015768124999999), ('Kazakhstan', 7.0990987500000005), ('Germany', 7.2398218750000005), ('Mozambique', 7.368479999999999), ('Malawi', 7.473864375000001), ('Vietnam', 7.57027125), ('IDA blend', 7.611873437500001), ('Philippines', 7.632935625), ('North America', 7.78387625), ('Comoros', 8.321445625), ('Russian Federation', 8.324516874999999), ('Georgia', 8.35235625), ('Belarus', 8.791521875), ('Italy', 8.8139625), ('Bulgaria', 8.854714374999999), ('Saudi Arabia', 8.9992325), ('Namibia', 9.073146874999999), ('Tanzania', 9.076005), ('East Asia & Pacific (excluding high income)', 9.127154687500001), ('Armenia', 9.195758125000001), ('Syrian Arab Republic', 9.23051125), ('Low income', 9.508005625), ('Romania', 9.606816250000001), ('Qatar', 9.629268125), ('St. Vincent and the Grenadines', 9.736234999999999), ('Slovak Republic', 9.740497500000002), ('East Asia & Pacific', 9.85809625), ('Pre-demographic dividend', 9.92312625), ('Czech Republic', 9.928783124999999), ('East Asia & Pacific (IDA & IBRD countries)', 9.952950000000001), ('Malta', 9.961691875000001), ('Lao PDR', 9.969838125), ('Mongolia', 9.97617625), ('Hungary', 9.98203125), ('Burkina Faso', 10.043061875), ('Portugal', 10.145950625000001), ('Australia', 10.1608975), ('Rwanda', 10.17559375), ('Europe & Central Asia (excluding high income)', 10.203341562499999), ('Latin America & Caribbean', 10.324894687499999), ('Azerbaijan', 10.326880625), ('Spain', 10.393470625), ('Pakistan', 10.426023124999999), ('Austria', 10.594186249999998), ('Gambia, The', 10.799121249999999), ('Paraguay', 11.067519375), ('Guinea', 11.07346625), ('Heavily indebted poor countries (HIPC)', 11.316962499999999), ('Early-demographic dividend', 11.317061875), ('Small states', 11.330466874999999), ('Central Europe and the Baltics', 11.356691562499996), ('Lower middle income', 11.53814375), ('European Union', 11.582629374999998), ('Poland', 11.596908749999999), ('Tajikistan', 11.691619999999999), ('Brazil', 11.79991375), ('Europe & Central Asia (IDA & IBRD countries)', 11.835137187499999), ('Netherlands', 11.872394375), ('Euro area', 11.9476309375), ('Ukraine', 11.948490625000002), ('Fiji', 11.96649625), ('Bangladesh', 11.992423125), ('Sao Tome and Principe', 12.006868124999999), ('Bhutan', 12.039464375), ('Lesotho', 12.081536875000001), ('Vanuatu', 12.084986875), ('IDA total', 12.13950125), ('Upper middle income', 12.151063437500001), ('Europe & Central Asia', 12.2432634375), ('Guyana', 12.276459375000002), ('United Kingdom', 12.325003125000002), ('Finland', 12.354729375000002), ('Belize', 12.453757499999998), ('Post-demographic dividend', 12.460639687499999), ('Slovenia', 12.50715125), ('Other small states', 12.552191562500001), ('Burundi', 12.689258125), ('Middle income', 12.7173403125), ('South Asia', 12.717671875000002), ('South Asia (IDA & IBRD)', 12.717671875000002), ('Djibouti', 12.725359999999998), ('IBRD only', 12.733952500000001), ('Least developed countries: UN classification', 12.751927812499998), ('OECD members', 12.765320000000003), ('High income', 12.847795000000001), ('Cabo Verde', 12.85158875), ('Ireland', 12.853269375), ('Estonia', 12.885085624999999), ('Denmark', 13.106669375000001), ('Macao SAR, China', 13.310259375), ('Latin America & Caribbean (excluding high income)', 13.3263646875), ('Latin America & the Caribbean (IDA & IBRD countries)', 13.348749687499998), ('Maldives', 13.366701249999998), ('Guatemala', 13.483176875), ('Sierra Leone', 13.645831249999999), ('Latvia', 13.743198125), ('Sweden', 13.762199375000002), ('Israel', 13.8067075), ('Lithuania', 13.949188125000001), ('Late-demographic dividend', 13.959729687500001), ('El Salvador', 14.13098), ('Indonesia', 14.251074999999998), ('World', 14.280031875), ('IDA only', 14.359861249999998), ('Eswatini', 14.395580625000001), ('Barbados', 14.509211875), ('St. Lucia', 14.58026375), ('Low & middle income', 14.7438628125), ('Sub-Saharan Africa', 14.771021875000002), ('Sub-Saharan Africa (IDA & IBRD countries)', 14.771021875000002), ('Sub-Saharan Africa (excluding high income)', 14.938954062499997), ('Peru', 14.95366875), ('Mali', 15.023933124999997), ('Cyprus', 15.02848375), ('Argentina', 15.048511249999999), ('Colombia', 15.353726875000001), ('Niger', 15.563716875000003), ('IDA & IBRD total', 15.591807499999998), ('Switzerland', 15.669750000000002), ('Chile', 15.726976874999998), ('Mauritius', 15.855760625), ('Norway', 16.11489875), ('Cameroon', 16.12899), ('New Zealand', 16.145692500000003), ('Thailand', 16.221206874999996), ('Caribbean small states', 16.3093003125), ('Madagascar', 16.528226875), ('Iceland', 16.574629375), ('Jamaica', 16.6641975), ('Moldova', 16.89379), ('Kyrgyz Republic', 17.203246874999998), ('Kenya', 17.636973125000004), ('Aruba', 17.904401250000003), ('Benin', 18.003384375), ('Ethiopia', 18.488751875), ('Malaysia', 18.776048125), ('Tunisia', 18.875943125000003), ('South Africa', 19.060220625), ('Senegal', 19.332049375), ('Mexico', 19.568635), ('Singapore', 19.882605000000005), ('Togo', 19.912197499999998), ('Nepal', 19.968286250000002), ('Costa Rica', 20.4368425), ('Iran, Islamic Rep.', 20.5898625), ('Ghana', 20.720176875), ('Hong Kong SAR, China', 21.2191375), (\"Cote d'Ivoire\", 21.873491875000003)]\n"
     ]
    }
   ],
   "source": [
    "sorted_d = sorted(avg_expenditure.items(), key=lambda x: x[1])\n",
    "print(sorted_d)\n",
    "#print(sorted_d[263])"
   ]
  },
  {
   "cell_type": "code",
   "execution_count": 79,
   "metadata": {},
   "outputs": [
    {
     "data": {
      "image/png": "[encoded data removed]",
      "text/plain": [
       "<Figure size 720x360 with 1 Axes>"
      ]
     },
     "metadata": {
      "needs_background": "light"
     },
     "output_type": "display_data"
    }
   ],
   "source": [
    "import matplotlib.pyplot as plt\n",
    "#ax = fig.add_axes([15,15,2,1])\n",
    "countries = ['Cote d\\'Ivoire', 'Singapore', 'Hong Kong SAR', 'Iran', 'Ghana', 'Togo', 'Nepal', 'Costa Rica']\n",
    "avg_gdp = [21.873, 19.883, 21.219, 20.589, 20.720, 19.912, 19.968, 20.437]\n",
    "fig = plt.figure(figsize = (10, 5)) \n",
    "  \n",
    "# creating the bar plot \n",
    "plt.bar(countries, avg_gdp, color ='maroon',  \n",
    "        width = 0.4) \n",
    "plt.xlabel(\"COUNTRY\") \n",
    "plt.ylabel(\"Average % of govt expenditure spent on education\") \n",
    "plt.title(\"Highest % of govt expenditure on education\") \n",
    "plt.show() "
   ]
  },
  {
   "cell_type": "code",
   "execution_count": null,
   "metadata": {},
   "outputs": [],
   "source": []
  }
 ],
 "metadata": {
  "kernelspec": {
   "display_name": "Python 3",
   "language": "python",
   "name": "python3"
  },
  "language_info": {
   "codemirror_mode": {
    "name": "ipython",
    "version": 3
   },
   "file_extension": ".py",
   "mimetype": "text/x-python",
   "name": "python",
   "nbconvert_exporter": "python",
   "pygments_lexer": "ipython3",
   "version": "3.8.2"
  }
 },
 "nbformat": 4,
 "nbformat_minor": 4
}
