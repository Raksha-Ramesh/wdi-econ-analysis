{
 "metadata": {
  "language_info": {
   "codemirror_mode": {
    "name": "ipython",
    "version": 3
   },
   "file_extension": ".py",
   "mimetype": "text/x-python",
   "name": "python",
   "nbconvert_exporter": "python",
   "pygments_lexer": "ipython3",
   "version": "3.7.6-final"
  },
  "orig_nbformat": 2,
  "kernelspec": {
   "name": "python3",
   "display_name": "Python 3"
  }
 },
 "nbformat": 4,
 "nbformat_minor": 2,
 "cells": [
  {
   "source": [
    "# Ridge Regression to Estimate Coefficients"
   ],
   "cell_type": "markdown",
   "metadata": {}
  },
  {
   "cell_type": "code",
   "execution_count": 1,
   "metadata": {},
   "outputs": [],
   "source": [
    "import pandas as pd \n",
    "import numpy as np \n",
    "import matplotlib.pyplot as plt \n",
    "import os \n",
    "from sklearn.model_selection import train_test_split\n",
    "from create_datasets import createData, cleanData\n",
    "from create_datasets import createSplits"
   ]
  },
  {
   "source": [
    "## Data Preprocessing"
   ],
   "cell_type": "markdown",
   "metadata": {}
  },
  {
   "cell_type": "code",
   "execution_count": 2,
   "metadata": {},
   "outputs": [],
   "source": [
    "developed,developing = createData()\n",
    "cleanData(developed)\n",
    "cleanData(developing)\n",
    "\n",
    "# print(type(developed))\n",
    "\n",
    "indicatorList = pd.read_csv('Indicator.csv')\n",
    "indicatorsToPick = indicatorList[indicatorList['included']==1].drop(index=2)\n",
    "attributes = list(indicatorsToPick.feature_name)\n"
   ]
  },
  {
   "source": [
    "## Training and Validation of the Model"
   ],
   "cell_type": "markdown",
   "metadata": {}
  },
  {
   "cell_type": "code",
   "execution_count": 4,
   "metadata": {},
   "outputs": [
    {
     "output_type": "stream",
     "name": "stdout",
     "text": [
      "Computing for Developed Countries/Regions\n",
      "RMSE: 2.625 (1.155)\n",
      "Year: 2008 Score: 0.31093306830189427\n",
      "\n",
      "RMSE: 3.505 (1.287)\n",
      "Year: 2009 Score: 0.4740563864247139\n",
      "\n",
      "RMSE: 3.898 (2.644)\n",
      "Year: 2010 Score: 0.29342199682169345\n",
      "\n",
      "RMSE: 2.817 (1.828)\n",
      "Year: 2011 Score: 0.3914349835885348\n",
      "\n",
      "RMSE: 3.117 (1.576)\n",
      "Year: 2012 Score: 0.4335993469005748\n",
      "\n",
      "RMSE: 2.724 (1.284)\n",
      "Year: 2013 Score: 0.26937393975923707\n",
      "\n",
      "RMSE: 2.396 (1.096)\n",
      "Year: 2014 Score: 0.20203458155939158\n",
      "\n",
      "RMSE: 1.921 (1.049)\n",
      "Year: 2015 Score: 0.3751902182876109\n",
      "\n",
      "RMSE: 2.024 (0.985)\n",
      "Year: 2016 Score: 0.2922854295159457\n",
      "\n",
      "RMSE: 1.885 (1.009)\n",
      "Year: 2017 Score: 0.4769141347826949\n",
      "\n",
      "Computing for Developing Countries/Regions\n",
      "RMSE: 4.082 (1.166)\n",
      "Year: 2008 Score: 0.023311219303607574\n",
      "\n",
      "RMSE: 4.419 (1.013)\n",
      "Year: 2009 Score: 0.12208779480543597\n",
      "\n",
      "RMSE: 3.864 (0.912)\n",
      "Year: 2010 Score: 0.07643068009505272\n",
      "\n",
      "RMSE: 5.265 (3.651)\n",
      "Year: 2011 Score: 0.08742585427199401\n",
      "\n",
      "RMSE: 7.552 (8.161)\n",
      "Year: 2012 Score: 0.019435991113821993\n",
      "\n",
      "RMSE: 4.311 (2.414)\n",
      "Year: 2013 Score: 0.07962809321073683\n",
      "\n",
      "RMSE: 3.215 (1.163)\n",
      "Year: 2014 Score: 0.26166286741306743\n",
      "\n",
      "RMSE: 4.222 (1.926)\n",
      "Year: 2015 Score: 0.1158892950443603\n",
      "\n",
      "RMSE: 3.498 (1.341)\n",
      "Year: 2016 Score: 0.08617515040309243\n",
      "\n",
      "RMSE: 3.357 (1.649)\n",
      "Year: 2017 Score: 0.11983864831094482\n",
      "\n"
     ]
    }
   ],
   "source": [
    "from sklearn.model_selection import cross_val_score\n",
    "from sklearn.model_selection import RepeatedKFold\n",
    "from sklearn.linear_model import Ridge\n",
    "\n",
    "def validate(ridge_model, splits): # KFold Cross Validation using RMSE as scoring metric\n",
    "    cv = RepeatedKFold(n_splits=10, n_repeats=3, random_state=1)\n",
    "    # evaluate model\n",
    "    scores = cross_val_score(ridge_model, splits[0], splits[2], scoring='neg_root_mean_squared_error', cv=cv, n_jobs=-1)\n",
    "    # force scores to be positive\n",
    "    scores = np.absolute(scores)\n",
    "    print('RMSE: %.3f (%.3f)' % (np.mean(scores), np.std(scores)))\n",
    "\n",
    "\n",
    "def compute_coeff(is_developed, dev, split_size):\n",
    "    if is_developed == 0: # Developing countries\n",
    "            print(\"Computing for Developing Countries/Regions\")\n",
    "    else:\n",
    "        print(\"Computing for Developed Countries/Regions\")\n",
    "\n",
    "    coeff_dict = {}\n",
    "    for i in attributes:\n",
    "        coeff_dict[i] = []\n",
    "\n",
    "    # print(len(dev))\n",
    "    for i in range(len(dev)):\n",
    "        splits = createSplits(i,dev,split_size)\n",
    "        ridge_model = Ridge(alpha=1.0)\n",
    "\n",
    "        ridge_model.fit(splits[0],splits[2])\n",
    "        coef = ridge_model.coef_\n",
    "\n",
    "        validate(ridge_model,splits)\n",
    "\n",
    "        # print(coef[0])\n",
    "        # print(ridge_model.coef_[0])\n",
    "        for j in range(len(attributes)):\n",
    "            try:\n",
    "                coeff_dict[attributes[j]].append(coef[0][j])\n",
    "            except Exception as e:\n",
    "                print(type(coeff_dict[attributes[i]]),type(coef))\n",
    "        print(\"Year:\", 2008+i, \"Score:\",ridge_model.score(splits[0],splits[2])) # Printing accuracy metrics\n",
    "        print()\n",
    "    return coeff_dict\n",
    "\n",
    "attcoeff_developed = compute_coeff(1,developed, 0.15)\n",
    "attcoeff_developing = compute_coeff(0,developing, 0.15)\n",
    "\n",
    "avgcoef_developed = {}\n",
    "avgcoef_developing = {}\n",
    "for i in attcoeff_developed:\n",
    "    avgcoef_developed[i] = np.mean(attcoeff_developed[i])\n",
    "    avgcoef_developing[i] = np.mean(attcoeff_developing[i])"
   ]
  },
  {
   "source": [
    "## Estimating Coefficients for Developed and Developing Countries"
   ],
   "cell_type": "markdown",
   "metadata": {}
  },
  {
   "cell_type": "code",
   "execution_count": 7,
   "metadata": {},
   "outputs": [
    {
     "output_type": "stream",
     "name": "stdout",
     "text": [
      "Coefficients for Developed Countries:\n\nIndicator\t\tImportance\npop_grow\t\t0.04908902891882737\ngini_index\t\t-0.033724577549935304\nunemp\t\t-0.1070537560480144\nlife_exp\t\t-0.143753498448783\npoverty\t\t0.7763622090100712\nmil_xpnd\t\t0.17958136951908127\nlit_rate\t\t0.10754194812237317\nlabour_force\t\t-4.201714569963176e-09\nrefugee_asylum\t\t-1.8129983704264176e-09\n"
     ]
    }
   ],
   "source": [
    "print(\"Coefficients for Developed Countries:\\n\")\n",
    "print(\"Indicator\\t\\tImportance\")\n",
    "for i,j in avgcoef_developed.items():\n",
    "    print(f\"{i}\\t\\t{j}\")"
   ]
  },
  {
   "cell_type": "code",
   "execution_count": 8,
   "metadata": {},
   "outputs": [
    {
     "output_type": "stream",
     "name": "stdout",
     "text": [
      "Coefficients for Developing Countries:\n\nIndicator\t\tImportance\npop_grow\t\t-0.34936465280201484\ngini_index\t\t0.011627498487542387\nunemp\t\t-0.06134737917253893\nlife_exp\t\t-0.02084215995409148\npoverty\t\t-0.007253757105633314\nmil_xpnd\t\t-0.35165694738982883\nlit_rate\t\t-0.01871515840234888\nlabour_force\t\t1.5889520135383243e-09\nrefugee_asylum\t\t-1.7520402242582648e-07\n"
     ]
    }
   ],
   "source": [
    "print(\"Coefficients for Developing Countries:\\n\")\n",
    "print(\"Indicator\\t\\tImportance\")\n",
    "for i,j in avgcoef_developing.items():\n",
    "    print(f\"{i}\\t\\t{j}\")"
   ]
  },
  {
   "cell_type": "code",
   "execution_count": null,
   "metadata": {},
   "outputs": [],
   "source": []
  }
 ]
}