{
 "metadata": {
  "language_info": {
   "codemirror_mode": {
    "name": "ipython",
    "version": 3
   },
   "file_extension": ".py",
   "mimetype": "text/x-python",
   "name": "python",
   "nbconvert_exporter": "python",
   "pygments_lexer": "ipython3",
   "version": "3.7.6-final"
  },
  "orig_nbformat": 2,
  "kernelspec": {
   "name": "python3",
   "display_name": "Python 3"
  }
 },
 "nbformat": 4,
 "nbformat_minor": 2,
 "cells": [
  {
   "cell_type": "code",
   "execution_count": 1,
   "metadata": {},
   "outputs": [],
   "source": [
    "import pandas as pd \n",
    "import numpy as np \n",
    "import matplotlib.pyplot as plt \n",
    "import os \n",
    "from sklearn.model_selection import train_test_split\n",
    "from create_datasets import createData, cleanData\n",
    "from create_datasets import createSplits"
   ]
  },
  {
   "cell_type": "code",
   "execution_count": 2,
   "metadata": {},
   "outputs": [],
   "source": [
    "developed,developing = createData()\n",
    "cleanData(developed)\n",
    "cleanData(developing)\n",
    "\n",
    "# print(type(developed))\n",
    "\n",
    "indicatorList = pd.read_csv('Indicator.csv')\n",
    "indicatorsToPick = indicatorList[indicatorList['included']==1].drop(index=2)\n",
    "attributes = list(indicatorsToPick.feature_name)\n"
   ]
  },
  {
   "cell_type": "code",
   "execution_count": 34,
   "metadata": {},
   "outputs": [
    {
     "output_type": "stream",
     "name": "stdout",
     "text": [
      "Conmputing for Developed Countries/Regions\n",
      "RMSE: 3.898 (2.644)\n",
      "Year: 2010 Score: 0.29342199682169345\n",
      "\n",
      "RMSE: 2.817 (1.828)\n",
      "Year: 2011 Score: 0.3914349835885348\n",
      "\n",
      "RMSE: 3.117 (1.576)\n",
      "Year: 2012 Score: 0.4335993469005748\n",
      "\n",
      "RMSE: 2.724 (1.284)\n",
      "Year: 2013 Score: 0.26937393975923707\n",
      "\n",
      "RMSE: 2.396 (1.096)\n",
      "Year: 2014 Score: 0.20203458155939158\n",
      "\n",
      "RMSE: 1.921 (1.049)\n",
      "Year: 2015 Score: 0.3751902182876109\n",
      "\n",
      "RMSE: 2.024 (0.985)\n",
      "Year: 2016 Score: 0.2922854295159457\n",
      "\n",
      "RMSE: 1.885 (1.009)\n",
      "Year: 2017 Score: 0.4769141347826949\n",
      "\n",
      "Computing for Developing Countries/Regions\n",
      "RMSE: 3.707 (1.081)\n",
      "Year: 2010 Score: 0.0765167737534671\n",
      "\n",
      "RMSE: 5.177 (3.497)\n",
      "Year: 2011 Score: 0.08245968983187857\n",
      "\n",
      "RMSE: 6.972 (8.006)\n",
      "Year: 2012 Score: 0.017329536966645853\n",
      "\n",
      "RMSE: 4.318 (2.155)\n",
      "Year: 2013 Score: 0.06913135984704277\n",
      "\n",
      "RMSE: 3.182 (1.067)\n",
      "Year: 2014 Score: 0.24824158506304958\n",
      "\n",
      "RMSE: 4.208 (1.866)\n",
      "Year: 2015 Score: 0.11704572647690015\n",
      "\n",
      "RMSE: 3.625 (1.300)\n",
      "Year: 2016 Score: 0.09145571171648503\n",
      "\n",
      "RMSE: 3.535 (1.326)\n",
      "Year: 2017 Score: 0.11154769680924535\n",
      "\n"
     ]
    }
   ],
   "source": [
    "from sklearn.model_selection import cross_val_score\n",
    "from sklearn.model_selection import RepeatedKFold\n",
    "from sklearn.linear_model import Ridge\n",
    "\n",
    "def validate(ridge_model, splits):\n",
    "    cv = RepeatedKFold(n_splits=10, n_repeats=3, random_state=1)\n",
    "    # evaluate model\n",
    "    scores = cross_val_score(ridge_model, splits[0], splits[2], scoring='neg_root_mean_squared_error', cv=cv, n_jobs=-1)\n",
    "    # force scores to be positive\n",
    "    scores = np.absolute(scores)\n",
    "    print('RMSE: %.3f (%.3f)' % (np.mean(scores), np.std(scores)))\n",
    "\n",
    "\n",
    "def compute_coeff(is_developed, dev, split_size):\n",
    "    if is_developed == 0: # Developing countries\n",
    "            print(\"Computing for Developing Countries/Regions\")\n",
    "    else:\n",
    "        print(\"Conmputing for Developed Countries/Regions\")\n",
    "\n",
    "    coeff_dict = {}\n",
    "    for i in attributes:\n",
    "        coeff_dict[i] = []\n",
    "\n",
    "    # print(len(dev))\n",
    "    for i in range(len(dev)):\n",
    "        splits = createSplits(i,dev,split_size)\n",
    "        ridge_model = Ridge(alpha=1.0)\n",
    "\n",
    "        ridge_model.fit(splits[0],splits[2])\n",
    "        coef = ridge_model.coef_\n",
    "\n",
    "        validate(ridge_model,splits)\n",
    "\n",
    "        # print(coef[0])\n",
    "        # print(ridge_model.coef_[0])\n",
    "        for j in range(len(attributes)):\n",
    "            try:\n",
    "                coeff_dict[attributes[j]].append(coef[0][j])\n",
    "            except Exception as e:\n",
    "                print(type(coeff_dict[attributes[i]]),type(coef))\n",
    "        print(\"Year:\", 2010+i, \"Score:\",ridge_model.score(splits[0],splits[2]))\n",
    "        print()\n",
    "    return coeff_dict\n",
    "\n",
    "attcoeff_developed = compute_coeff(1,developed, 0.15)\n",
    "attcoeff_developing = compute_coeff(0,developing, 0.1)\n",
    "\n",
    "avgcoef_developed = {}\n",
    "avgcoef_developing = {}\n",
    "for i in attcoeff_developed:\n",
    "    avgcoef_developed[i] = np.mean(attcoeff_developed[i])\n",
    "    avgcoef_developing[i] = np.mean(attcoeff_developing[i])"
   ]
  },
  {
   "cell_type": "code",
   "execution_count": 35,
   "metadata": {},
   "outputs": [
    {
     "output_type": "stream",
     "name": "stdout",
     "text": [
      "Coefficients for Developed Countries:\n\nIndicator\t\tImportance\npop_grow\t\t0.29073153375539357\ngini_index\t\t-0.04715106065598779\nunemp\t\t-0.044209528649964934\nlife_exp\t\t-0.3128352678278332\npoverty\t\t1.09599245346641\nmil_xpnd\t\t0.014140223333949348\nlit_rate\t\t0.13442743515296648\nlabour_force\t\t-1.3338309850255234e-09\nrefugee_asylum\t\t-7.098716887323942e-07\n"
     ]
    }
   ],
   "source": [
    "print(\"Coefficients for Developed Countries:\\n\")\n",
    "print(\"Indicator\\t\\tImportance\")\n",
    "for i,j in avgcoef_developed.items():\n",
    "    print(f\"{i}\\t\\t{j}\")"
   ]
  },
  {
   "cell_type": "code",
   "execution_count": 36,
   "metadata": {},
   "outputs": [
    {
     "output_type": "stream",
     "name": "stdout",
     "text": [
      "Coefficients for Developing Countries:\n\nIndicator\t\tImportance\npop_grow\t\t-0.4292893242893744\ngini_index\t\t0.012435098464630685\nunemp\t\t-0.06535169782296625\nlife_exp\t\t-0.012061004186996719\npoverty\t\t-0.009866386315274787\nmil_xpnd\t\t-0.3944667938465035\nlit_rate\t\t-0.016582666792136498\nlabour_force\t\t1.6709578873734982e-09\nrefugee_asylum\t\t-1.794704149456305e-07\n"
     ]
    }
   ],
   "source": [
    "print(\"Coefficients for Developing Countries:\\n\")\n",
    "print(\"Indicator\\t\\tImportance\")\n",
    "for i,j in avgcoef_developing.items():\n",
    "    print(f\"{i}\\t\\t{j}\")"
   ]
  },
  {
   "cell_type": "code",
   "execution_count": null,
   "metadata": {},
   "outputs": [],
   "source": []
  }
 ]
}