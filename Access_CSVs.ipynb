{
 "cells": [
  {
   "cell_type": "code",
   "execution_count": 69,
   "metadata": {},
   "outputs": [],
   "source": [
    "import os\n",
    "import pandas as pd\n",
    "import numpy as np\n",
    "import matplotlib.pyplot as plt\n",
    "import datetime"
   ]
  },
  {
   "cell_type": "code",
   "execution_count": 2,
   "metadata": {},
   "outputs": [
    {
     "name": "stdout",
     "output_type": "stream",
     "text": [
      "D:\\PESU\\Sem 5\\Data Analytics\\DataAnalytics\n"
     ]
    }
   ],
   "source": [
    "print(os.getcwd())"
   ]
  },
  {
   "cell_type": "code",
   "execution_count": 27,
   "metadata": {},
   "outputs": [
    {
     "name": "stdout",
     "output_type": "stream",
     "text": [
      "['.git', '.ipynb_checkpoints', 'Datasets', 'EDA_General.ipynb', 'Indicator.csv', 'README.md']\n"
     ]
    },
    {
     "data": {
      "text/html": [
       "<div>\n",
       "<style scoped>\n",
       "    .dataframe tbody tr th:only-of-type {\n",
       "        vertical-align: middle;\n",
       "    }\n",
       "\n",
       "    .dataframe tbody tr th {\n",
       "        vertical-align: top;\n",
       "    }\n",
       "\n",
       "    .dataframe thead th {\n",
       "        text-align: right;\n",
       "    }\n",
       "</style>\n",
       "<table border=\"1\" class=\"dataframe\">\n",
       "  <thead>\n",
       "    <tr style=\"text-align: right;\">\n",
       "      <th></th>\n",
       "      <th>Indicator_Code</th>\n",
       "      <th>Indicator_Name</th>\n",
       "    </tr>\n",
       "  </thead>\n",
       "  <tbody>\n",
       "    <tr>\n",
       "      <th>0</th>\n",
       "      <td>SP.POP.GROW</td>\n",
       "      <td>Population Growth (in %)</td>\n",
       "    </tr>\n",
       "    <tr>\n",
       "      <th>1</th>\n",
       "      <td>SI.POV.GINI</td>\n",
       "      <td>Gini Index</td>\n",
       "    </tr>\n",
       "    <tr>\n",
       "      <th>2</th>\n",
       "      <td>NY.GDP.PCAP.KD.ZG</td>\n",
       "      <td>GDP per capita growth (in %)</td>\n",
       "    </tr>\n",
       "    <tr>\n",
       "      <th>3</th>\n",
       "      <td>SE.XPD.TOTL.GB.ZS</td>\n",
       "      <td>Government expenditure on education, total (% ...</td>\n",
       "    </tr>\n",
       "    <tr>\n",
       "      <th>4</th>\n",
       "      <td>SE.XPD.TOTL.GD.ZS</td>\n",
       "      <td>Government expenditure on education, total (% ...</td>\n",
       "    </tr>\n",
       "  </tbody>\n",
       "</table>\n",
       "</div>"
      ],
      "text/plain": [
       "      Indicator_Code                                     Indicator_Name\n",
       "0        SP.POP.GROW                           Population Growth (in %)\n",
       "1        SI.POV.GINI                                         Gini Index\n",
       "2  NY.GDP.PCAP.KD.ZG                       GDP per capita growth (in %)\n",
       "3  SE.XPD.TOTL.GB.ZS  Government expenditure on education, total (% ...\n",
       "4  SE.XPD.TOTL.GD.ZS  Government expenditure on education, total (% ..."
      ]
     },
     "execution_count": 27,
     "metadata": {},
     "output_type": "execute_result"
    }
   ],
   "source": [
    "path = os.getcwd() + \"\\Datasets\\\\\"\n",
    "print(os.listdir())\n",
    "df = pd.read_csv(\"Indicator.csv\")\n",
    "df.head()"
   ]
  },
  {
   "cell_type": "code",
   "execution_count": 48,
   "metadata": {},
   "outputs": [
    {
     "name": "stdout",
     "output_type": "stream",
     "text": [
      "API_SI.POV.GINI_DS2_en_csv_v2_1345072.csv\n"
     ]
    }
   ],
   "source": [
    "indicator_csvs = [path + i for i in df.Indicator_Code]\n",
    "df1 = [\"\\\\\".join(i.split(\"\\\\\")) for i in indicator_csvs]\n",
    "\n",
    "#To get the population growth CSV\n",
    "pop_grow = pd.read_csv(df1[0] + \"\\\\\" + os.listdir(df1[0])[0])#, sep='delimiter',header=None)#, error_bad_lines=False)"
   ]
  },
  {
   "cell_type": "code",
   "execution_count": 79,
   "metadata": {},
   "outputs": [
    {
     "name": "stdout",
     "output_type": "stream",
     "text": [
      "{Timestamp('1961-01-01 00:00:00'): 1.3539193630000002, Timestamp('1962-01-01 00:00:00'): 1.724198556, Timestamp('1963-01-01 00:00:00'): 2.0831311340000003, Timestamp('1964-01-01 00:00:00'): 2.052951589, Timestamp('1965-01-01 00:00:00'): 2.054891557, Timestamp('1966-01-01 00:00:00'): 2.108305613, Timestamp('1967-01-01 00:00:00'): 2.046205402, Timestamp('1968-01-01 00:00:00'): 2.032273266, Timestamp('1969-01-01 00:00:00'): 2.1136936530000003, Timestamp('1970-01-01 00:00:00'): 2.090396346, Timestamp('1971-01-01 00:00:00'): 2.1069735919999997, Timestamp('1972-01-01 00:00:00'): 2.0312031680000002, Timestamp('1973-01-01 00:00:00'): 1.9665669140000002, Timestamp('1974-01-01 00:00:00'): 1.9459079559999999, Timestamp('1975-01-01 00:00:00'): 1.8650280119999998, Timestamp('1976-01-01 00:00:00'): 1.785770579, Timestamp('1977-01-01 00:00:00'): 1.749489628, Timestamp('1978-01-01 00:00:00'): 1.747864748, Timestamp('1979-01-01 00:00:00'): 1.7619187580000002, Timestamp('1980-01-01 00:00:00'): 1.748542476, Timestamp('1981-01-01 00:00:00'): 1.764333247, Timestamp('1982-01-01 00:00:00'): 1.800078249, Timestamp('1983-01-01 00:00:00'): 1.78394651, Timestamp('1984-01-01 00:00:00'): 1.746758328, Timestamp('1985-01-01 00:00:00'): 1.748567727, Timestamp('1986-01-01 00:00:00'): 1.770218941, Timestamp('1987-01-01 00:00:00'): 1.7832101169999999, Timestamp('1988-01-01 00:00:00'): 1.770395841, Timestamp('1989-01-01 00:00:00'): 1.7387639480000001, Timestamp('1990-01-01 00:00:00'): 1.73563662, Timestamp('1991-01-01 00:00:00'): 1.666436606, Timestamp('1992-01-01 00:00:00'): 1.570109855, Timestamp('1993-01-01 00:00:00'): 1.561924731, Timestamp('1994-01-01 00:00:00'): 1.521904911, Timestamp('1995-01-01 00:00:00'): 1.5102296309999999, Timestamp('1996-01-01 00:00:00'): 1.453290125, Timestamp('1997-01-01 00:00:00'): 1.427217455, Timestamp('1998-01-01 00:00:00'): 1.3921597730000002, Timestamp('1999-01-01 00:00:00'): 1.351800123, Timestamp('2000-01-01 00:00:00'): 1.323073441, Timestamp('2001-01-01 00:00:00'): 1.297594636, Timestamp('2002-01-01 00:00:00'): 1.276806226, Timestamp('2003-01-01 00:00:00'): 1.261477813, Timestamp('2004-01-01 00:00:00'): 1.254262571, Timestamp('2005-01-01 00:00:00'): 1.246926518, Timestamp('2006-01-01 00:00:00'): 1.2436932520000001, Timestamp('2007-01-01 00:00:00'): 1.235740882, Timestamp('2008-01-01 00:00:00'): 1.2393125870000001, Timestamp('2009-01-01 00:00:00'): 1.2232852490000001, Timestamp('2010-01-01 00:00:00'): 1.203252229, Timestamp('2011-01-01 00:00:00'): 1.170044672, Timestamp('2012-01-01 00:00:00'): 1.183841985, Timestamp('2013-01-01 00:00:00'): 1.183736023, Timestamp('2014-01-01 00:00:00'): 1.179811446, Timestamp('2015-01-01 00:00:00'): 1.168099191, Timestamp('2016-01-01 00:00:00'): 1.1625280740000001, Timestamp('2017-01-01 00:00:00'): 1.1419718620000001, Timestamp('2018-01-01 00:00:00'): 1.103562078, Timestamp('2019-01-01 00:00:00'): 1.0748391290000001}\n"
     ]
    }
   ],
   "source": [
    "world_pop = pop_grow[pop_grow[\"Country Name\"]==\"World\"]\n",
    "growth = {}\n",
    "\n",
    "k = 5\n",
    "for i in world_pop.iloc[:,5:]:\n",
    "    growth[pd.to_datetime(i)] = world_pop.iloc[0,k]\n",
    "    k+=1\n",
    "#growth = pd.DataFrame(growth)#,columns=[\"Year\",\"Growth\"])\n",
    "print(growth)\n",
    "\n",
    "#plt.plot()"
   ]
  },
  {
   "cell_type": "raw",
   "metadata": {},
   "source": [
    "growth.head()"
   ]
  },
  {
   "cell_type": "code",
   "execution_count": null,
   "metadata": {},
   "outputs": [],
   "source": []
  }
 ],
 "metadata": {
  "kernelspec": {
   "display_name": "Python 3",
   "language": "python",
   "name": "python3"
  },
  "language_info": {
   "codemirror_mode": {
    "name": "ipython",
    "version": 3
   },
   "file_extension": ".py",
   "mimetype": "text/x-python",
   "name": "python",
   "nbconvert_exporter": "python",
   "pygments_lexer": "ipython3",
   "version": "3.7.6"
  }
 },
 "nbformat": 4,
 "nbformat_minor": 2
}
