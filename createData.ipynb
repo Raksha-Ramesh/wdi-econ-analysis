{
 "metadata": {
  "language_info": {
   "codemirror_mode": {
    "name": "ipython",
    "version": 3
   },
   "file_extension": ".py",
   "mimetype": "text/x-python",
   "name": "python",
   "nbconvert_exporter": "python",
   "pygments_lexer": "ipython3",
   "version": "3.7.6-final"
  },
  "orig_nbformat": 2,
  "kernelspec": {
   "name": "python3",
   "display_name": "Python 3"
  }
 },
 "nbformat": 4,
 "nbformat_minor": 2,
 "cells": [
  {
   "cell_type": "code",
   "execution_count": 1,
   "metadata": {},
   "outputs": [],
   "source": [
    "import pandas as pd \n",
    "import numpy as np \n",
    "import matplotlib.pyplot as plt \n",
    "import os "
   ]
  },
  {
   "cell_type": "code",
   "execution_count": 10,
   "metadata": {},
   "outputs": [],
   "source": [
    "indicatorList = pd.read_csv('Indicator.csv')\n",
    "\n",
    "indicatorsToPick = indicatorList[indicatorList['included']==1]\n",
    "gdp_percap = indicatorsToPick[indicatorsToPick['feature_name']=='gdp_percap']\n",
    "indicatorsToPick = indicatorsToPick.drop(index=2) # GDP is Index 2"
   ]
  },
  {
   "cell_type": "code",
   "execution_count": 11,
   "metadata": {},
   "outputs": [
    {
     "output_type": "execute_result",
     "data": {
      "text/plain": [
       "       Indicator_Code                                     Indicator_Name  \\\n",
       "0         SP.POP.GROW                           Population Growth (in %)   \n",
       "1         SI.POV.GINI                                         Gini Index   \n",
       "7      SL.UEM.TOTL.ZS  Unemployment, total (% of labour force) (model...   \n",
       "10     SP.DYN.LE00.IN            Life expectancy at birth, total (years)   \n",
       "11        SI.POV.DDAY  Poverty headcount ratio at $1.90 a day (% of p...   \n",
       "12  MS.MIL.XPND.GD.ZS                    Military expenditure (% of GDP)   \n",
       "13     SE.ADT.LITR.ZS                         Literacy Rate, adult total   \n",
       "14     SL.TLF.TOTL.IN                                Labour force, total   \n",
       "15        SM.POP.REFG            Refguee population by country of asylum   \n",
       "\n",
       "    included    feature_name  \n",
       "0          1        pop_grow  \n",
       "1          1      gini_index  \n",
       "7          1           unemp  \n",
       "10         1        life_exp  \n",
       "11         1         poverty  \n",
       "12         1        mil_xpnd  \n",
       "13         1        lit_rate  \n",
       "14         1    labour_force  \n",
       "15         1  refugee_asylum  "
      ],
      "text/html": "<div>\n<style scoped>\n    .dataframe tbody tr th:only-of-type {\n        vertical-align: middle;\n    }\n\n    .dataframe tbody tr th {\n        vertical-align: top;\n    }\n\n    .dataframe thead th {\n        text-align: right;\n    }\n</style>\n<table border=\"1\" class=\"dataframe\">\n  <thead>\n    <tr style=\"text-align: right;\">\n      <th></th>\n      <th>Indicator_Code</th>\n      <th>Indicator_Name</th>\n      <th>included</th>\n      <th>feature_name</th>\n    </tr>\n  </thead>\n  <tbody>\n    <tr>\n      <th>0</th>\n      <td>SP.POP.GROW</td>\n      <td>Population Growth (in %)</td>\n      <td>1</td>\n      <td>pop_grow</td>\n    </tr>\n    <tr>\n      <th>1</th>\n      <td>SI.POV.GINI</td>\n      <td>Gini Index</td>\n      <td>1</td>\n      <td>gini_index</td>\n    </tr>\n    <tr>\n      <th>7</th>\n      <td>SL.UEM.TOTL.ZS</td>\n      <td>Unemployment, total (% of labour force) (model...</td>\n      <td>1</td>\n      <td>unemp</td>\n    </tr>\n    <tr>\n      <th>10</th>\n      <td>SP.DYN.LE00.IN</td>\n      <td>Life expectancy at birth, total (years)</td>\n      <td>1</td>\n      <td>life_exp</td>\n    </tr>\n    <tr>\n      <th>11</th>\n      <td>SI.POV.DDAY</td>\n      <td>Poverty headcount ratio at $1.90 a day (% of p...</td>\n      <td>1</td>\n      <td>poverty</td>\n    </tr>\n    <tr>\n      <th>12</th>\n      <td>MS.MIL.XPND.GD.ZS</td>\n      <td>Military expenditure (% of GDP)</td>\n      <td>1</td>\n      <td>mil_xpnd</td>\n    </tr>\n    <tr>\n      <th>13</th>\n      <td>SE.ADT.LITR.ZS</td>\n      <td>Literacy Rate, adult total</td>\n      <td>1</td>\n      <td>lit_rate</td>\n    </tr>\n    <tr>\n      <th>14</th>\n      <td>SL.TLF.TOTL.IN</td>\n      <td>Labour force, total</td>\n      <td>1</td>\n      <td>labour_force</td>\n    </tr>\n    <tr>\n      <th>15</th>\n      <td>SM.POP.REFG</td>\n      <td>Refguee population by country of asylum</td>\n      <td>1</td>\n      <td>refugee_asylum</td>\n    </tr>\n  </tbody>\n</table>\n</div>"
     },
     "metadata": {},
     "execution_count": 11
    }
   ],
   "source": [
    "indicatorsToPick.head(10)"
   ]
  },
  {
   "cell_type": "code",
   "execution_count": 12,
   "metadata": {},
   "outputs": [],
   "source": [
    "def getDF(code):\n",
    "    path = os.getcwd() + \"\\Datasets\\\\\"\n",
    "    newPath = path + code\n",
    "    df = pd.read_csv(newPath + \"\\\\\" + os.listdir(newPath)[0])\n",
    "    return df"
   ]
  },
  {
   "cell_type": "code",
   "execution_count": 13,
   "metadata": {},
   "outputs": [],
   "source": [
    "indicators = list(indicatorsToPick.Indicator_Code)\n",
    "features = []\n",
    "target = getDF(\"NY.GDP.PCAP.KD.ZG\")\n",
    "\n",
    "for i in indicators:\n",
    "    features.append(getDF(i))"
   ]
  },
  {
   "cell_type": "code",
   "execution_count": 14,
   "metadata": {},
   "outputs": [],
   "source": [
    "attributes = list(indicatorsToPick.feature_name)"
   ]
  },
  {
   "cell_type": "code",
   "execution_count": 15,
   "metadata": {},
   "outputs": [],
   "source": [
    "Developed = set([\"Andorra\",\"Austria\",\"Belgium\",\"Cyprus\",\"Czech Republic\",\"Denmark\",\"Estonia\",\"Faroe Islands\",\"Finland\",\"France\",\"Germany\",\"Greece\",\"Guernsey\",\"Holy See\",\"Iceland\",\"Ireland\",\"Italy\",\"Jersey\",\"Latvia\",\"Liechtenstein\",\"Lithuania\",\"Luxembourg\",\"Malta\",\"Monaco\",\"Netherlands\",\"Norway\",\"Portugal\",\"San Marino\",\"Slovakia\",\"Slovenia\",\"Spain\",\"Sweden\",\"Switzerland\",\"United Kingdom\",\"Hong Kong\",\"Israel\",\"Japan\",\"Macau\",\"Singapore\",\"South Korea\",\"Taiwan\",\"Bermuda\",\"Canada\",\"Puerto Rico\",\"United States\",\"Australia\",\"New Zealand\"])\n",
    "\n",
    "Developing = set(features[0]['Country Name'])\n",
    "Developing -= Developed"
   ]
  },
  {
   "cell_type": "code",
   "execution_count": 16,
   "metadata": {},
   "outputs": [],
   "source": [
    "dev = [None]*(len(features)+1)\n",
    "dev1 = [None]*(len(features)+1)\n",
    "n = len(features)\n",
    "\n",
    "for i in range(n):\n",
    "    dev[i] = features[i][features[i]['Country Name'].isin(Developed)]\n",
    "    dev1[i] = features[i][features[i]['Country Name'].isin(Developing)]\n",
    "\n",
    "# i+=1\n",
    "dev[n] = target[target['Country Name'].isin(Developed)]\n",
    "dev1[n] = target[target['Country Name'].isin(Developing)]\n"
   ]
  },
  {
   "cell_type": "code",
   "execution_count": 19,
   "metadata": {},
   "outputs": [],
   "source": [
    "def createDataset(year,dfList):\n",
    "    factors = [dfList[0][\"Country Name\"]]\n",
    "    for x in dfList:\n",
    "        factors.append(x[year])\n",
    "    df = pd.concat(factors,axis =1, sort = False)\n",
    "    # print(df.head)\n",
    "    df.columns = ['country'] + attributes + ['gdp_percap']\n",
    "    total_rows = max(df.count())\n",
    "    \n",
    "    return df"
   ]
  },
  {
   "cell_type": "code",
   "execution_count": 20,
   "metadata": {},
   "outputs": [],
   "source": [
    "years = [str(i) for i in range(2010,2018)]\n",
    "developed = [createDataset(i,dev) for i in years]\n",
    "developing = [createDataset(i,dev1) for i in years]"
   ]
  },
  {
   "source": [
    "## Cleaning the Data \n",
    "\n",
    "- Removing all rows with missing values for GDP\n",
    "- Median replacement for all other parameters"
   ],
   "cell_type": "markdown",
   "metadata": {}
  },
  {
   "source": [
    "### 1. Removing all rows that have NaNs/missing values in the target attribute"
   ],
   "cell_type": "markdown",
   "metadata": {}
  },
  {
   "cell_type": "code",
   "execution_count": 21,
   "metadata": {},
   "outputs": [
    {
     "output_type": "execute_result",
     "data": {
      "text/plain": [
       "      country  pop_grow  gini_index  unemp   life_exp  poverty  mil_xpnd  \\\n",
       "4     Andorra -1.529058         NaN    NaN        NaN      NaN       NaN   \n",
       "11  Australia  1.439217         NaN  6.054  82.400000      NaN  1.950601   \n",
       "12    Austria  1.120993        30.5  5.723  81.190244      0.7  0.698138   \n",
       "15    Belgium  0.579446        27.7  8.482  80.992683      0.1  0.921668   \n",
       "33     Canada  0.746339         NaN  6.906  81.900000      NaN  1.150126   \n",
       "\n",
       "    lit_rate  labour_force  refugee_asylum  gdp_percap  \n",
       "4        NaN           NaN             NaN    2.997046  \n",
       "11       NaN    12585539.0         36917.0    0.732400  \n",
       "12       NaN     4460833.0         72198.0   -0.111540  \n",
       "15       NaN     5000910.0         35302.0    1.443273  \n",
       "33       NaN    19679325.0        135890.0   -0.089286  "
      ],
      "text/html": "<div>\n<style scoped>\n    .dataframe tbody tr th:only-of-type {\n        vertical-align: middle;\n    }\n\n    .dataframe tbody tr th {\n        vertical-align: top;\n    }\n\n    .dataframe thead th {\n        text-align: right;\n    }\n</style>\n<table border=\"1\" class=\"dataframe\">\n  <thead>\n    <tr style=\"text-align: right;\">\n      <th></th>\n      <th>country</th>\n      <th>pop_grow</th>\n      <th>gini_index</th>\n      <th>unemp</th>\n      <th>life_exp</th>\n      <th>poverty</th>\n      <th>mil_xpnd</th>\n      <th>lit_rate</th>\n      <th>labour_force</th>\n      <th>refugee_asylum</th>\n      <th>gdp_percap</th>\n    </tr>\n  </thead>\n  <tbody>\n    <tr>\n      <th>4</th>\n      <td>Andorra</td>\n      <td>-1.529058</td>\n      <td>NaN</td>\n      <td>NaN</td>\n      <td>NaN</td>\n      <td>NaN</td>\n      <td>NaN</td>\n      <td>NaN</td>\n      <td>NaN</td>\n      <td>NaN</td>\n      <td>2.997046</td>\n    </tr>\n    <tr>\n      <th>11</th>\n      <td>Australia</td>\n      <td>1.439217</td>\n      <td>NaN</td>\n      <td>6.054</td>\n      <td>82.400000</td>\n      <td>NaN</td>\n      <td>1.950601</td>\n      <td>NaN</td>\n      <td>12585539.0</td>\n      <td>36917.0</td>\n      <td>0.732400</td>\n    </tr>\n    <tr>\n      <th>12</th>\n      <td>Austria</td>\n      <td>1.120993</td>\n      <td>30.5</td>\n      <td>5.723</td>\n      <td>81.190244</td>\n      <td>0.7</td>\n      <td>0.698138</td>\n      <td>NaN</td>\n      <td>4460833.0</td>\n      <td>72198.0</td>\n      <td>-0.111540</td>\n    </tr>\n    <tr>\n      <th>15</th>\n      <td>Belgium</td>\n      <td>0.579446</td>\n      <td>27.7</td>\n      <td>8.482</td>\n      <td>80.992683</td>\n      <td>0.1</td>\n      <td>0.921668</td>\n      <td>NaN</td>\n      <td>5000910.0</td>\n      <td>35302.0</td>\n      <td>1.443273</td>\n    </tr>\n    <tr>\n      <th>33</th>\n      <td>Canada</td>\n      <td>0.746339</td>\n      <td>NaN</td>\n      <td>6.906</td>\n      <td>81.900000</td>\n      <td>NaN</td>\n      <td>1.150126</td>\n      <td>NaN</td>\n      <td>19679325.0</td>\n      <td>135890.0</td>\n      <td>-0.089286</td>\n    </tr>\n  </tbody>\n</table>\n</div>"
     },
     "metadata": {},
     "execution_count": 21
    }
   ],
   "source": [
    "for i in range(len(years)):\n",
    "    developed[i] = developed[i].dropna(subset=[\"gdp_percap\"])\n",
    "    developing[i] = developing[i].dropna(subset = [\"gdp_percap\"])\n",
    "developed[5].head()\n",
    "\n"
   ]
  },
  {
   "source": [
    "### 2. Median replacement of missing values for the other features"
   ],
   "cell_type": "markdown",
   "metadata": {}
  },
  {
   "cell_type": "code",
   "execution_count": 22,
   "metadata": {},
   "outputs": [],
   "source": [
    "def cleanData(df):\n",
    "\n",
    "    for i in range(len(years)):\n",
    "        #print(\"\\n\\n\\n\",years[i])\n",
    "        for j in df[i].iloc[:,1:]:\n",
    "            df[i][j] = df[i][j].fillna(np.nanmedian(df[i][j]))\n",
    "            #print(j,np.nanmedian(df[i][j]))"
   ]
  },
  {
   "cell_type": "code",
   "execution_count": 23,
   "metadata": {},
   "outputs": [],
   "source": [
    "cleanData(developed)\n",
    "cleanData(developing)"
   ]
  },
  {
   "cell_type": "code",
   "execution_count": 24,
   "metadata": {},
   "outputs": [],
   "source": [
    "def checkLinearRelationship(df):\n",
    "    for j in df.iloc[:,1:-1]:\n",
    "        plt.title(\"GDP vs \"+j)\n",
    "        plt.scatter(df[j],df.gdp_percap)\n",
    "        plt.show()"
   ]
  },
  {
   "cell_type": "code",
   "execution_count": null,
   "metadata": {},
   "outputs": [],
   "source": []
  },
  {
   "source": [
    "## Sparse PCA for Developed and Developing \n",
    "\n",
    "Done to check what are the important features for each to try and bring about a comparison"
   ],
   "cell_type": "markdown",
   "metadata": {}
  },
  {
   "cell_type": "code",
   "execution_count": 29,
   "metadata": {},
   "outputs": [
    {
     "output_type": "execute_result",
     "data": {
      "text/plain": [
       "    pop_grow  gini_index  unemp   life_exp  poverty  mil_xpnd  lit_rate  \\\n",
       "4  -0.016577       32.05  7.787  80.606098     0.15  1.383402  95.85733   \n",
       "11  1.555490       34.70  5.211  81.695122     0.30  1.856791  95.85733   \n",
       "12  0.240394       30.30  4.820  80.580488     0.50  0.821233  95.85733   \n",
       "15  0.913639       28.40  8.292  80.182927     0.10  1.084633  95.85733   \n",
       "25 -0.780060       32.05  7.787  79.288537     0.15  1.383402  95.85733   \n",
       "\n",
       "    labour_force  refugee_asylum  \n",
       "4      4276558.0          8910.0  \n",
       "11    11702473.0         21790.0  \n",
       "12     4276558.0         42613.0  \n",
       "15     4887403.0         17891.0  \n",
       "25     4276558.0          8910.0  "
      ],
      "text/html": "<div>\n<style scoped>\n    .dataframe tbody tr th:only-of-type {\n        vertical-align: middle;\n    }\n\n    .dataframe tbody tr th {\n        vertical-align: top;\n    }\n\n    .dataframe thead th {\n        text-align: right;\n    }\n</style>\n<table border=\"1\" class=\"dataframe\">\n  <thead>\n    <tr style=\"text-align: right;\">\n      <th></th>\n      <th>pop_grow</th>\n      <th>gini_index</th>\n      <th>unemp</th>\n      <th>life_exp</th>\n      <th>poverty</th>\n      <th>mil_xpnd</th>\n      <th>lit_rate</th>\n      <th>labour_force</th>\n      <th>refugee_asylum</th>\n    </tr>\n  </thead>\n  <tbody>\n    <tr>\n      <th>4</th>\n      <td>-0.016577</td>\n      <td>32.05</td>\n      <td>7.787</td>\n      <td>80.606098</td>\n      <td>0.15</td>\n      <td>1.383402</td>\n      <td>95.85733</td>\n      <td>4276558.0</td>\n      <td>8910.0</td>\n    </tr>\n    <tr>\n      <th>11</th>\n      <td>1.555490</td>\n      <td>34.70</td>\n      <td>5.211</td>\n      <td>81.695122</td>\n      <td>0.30</td>\n      <td>1.856791</td>\n      <td>95.85733</td>\n      <td>11702473.0</td>\n      <td>21790.0</td>\n    </tr>\n    <tr>\n      <th>12</th>\n      <td>0.240394</td>\n      <td>30.30</td>\n      <td>4.820</td>\n      <td>80.580488</td>\n      <td>0.50</td>\n      <td>0.821233</td>\n      <td>95.85733</td>\n      <td>4276558.0</td>\n      <td>42613.0</td>\n    </tr>\n    <tr>\n      <th>15</th>\n      <td>0.913639</td>\n      <td>28.40</td>\n      <td>8.292</td>\n      <td>80.182927</td>\n      <td>0.10</td>\n      <td>1.084633</td>\n      <td>95.85733</td>\n      <td>4887403.0</td>\n      <td>17891.0</td>\n    </tr>\n    <tr>\n      <th>25</th>\n      <td>-0.780060</td>\n      <td>32.05</td>\n      <td>7.787</td>\n      <td>79.288537</td>\n      <td>0.15</td>\n      <td>1.383402</td>\n      <td>95.85733</td>\n      <td>4276558.0</td>\n      <td>8910.0</td>\n    </tr>\n  </tbody>\n</table>\n</div>"
     },
     "metadata": {},
     "execution_count": 29
    }
   ],
   "source": [
    "X_dev = developed[0].drop(columns=['country','gdp_percap'])\n",
    "X_deving = developing[0].drop(columns=['country','gdp_percap'])\n",
    "\n",
    "X_dev.head()"
   ]
  },
  {
   "cell_type": "code",
   "execution_count": 35,
   "metadata": {},
   "outputs": [],
   "source": [
    "from sklearn.decomposition import SparsePCA\n",
    "\n",
    "PCA = SparsePCA(n_components=5, random_state=0)\n",
    "dev2010New = PCA.fit_transform(X_dev)\n",
    "paramdev2010 = PCA.get_params(deep=True)"
   ]
  },
  {
   "cell_type": "code",
   "execution_count": 36,
   "metadata": {},
   "outputs": [
    {
     "output_type": "execute_result",
     "data": {
      "text/plain": [
       "{'U_init': None,\n",
       " 'V_init': None,\n",
       " 'alpha': 1,\n",
       " 'max_iter': 1000,\n",
       " 'method': 'lars',\n",
       " 'n_components': 5,\n",
       " 'n_jobs': None,\n",
       " 'normalize_components': 'deprecated',\n",
       " 'random_state': 0,\n",
       " 'ridge_alpha': 0.01,\n",
       " 'tol': 1e-08,\n",
       " 'verbose': False}"
      ]
     },
     "metadata": {},
     "execution_count": 36
    }
   ],
   "source": [
    "paramdev2010"
   ]
  },
  {
   "cell_type": "code",
   "execution_count": null,
   "metadata": {},
   "outputs": [],
   "source": []
  }
 ]
}