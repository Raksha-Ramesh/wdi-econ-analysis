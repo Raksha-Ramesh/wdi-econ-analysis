{
 "metadata": {
  "language_info": {
   "codemirror_mode": {
    "name": "ipython",
    "version": 3
   },
   "file_extension": ".py",
   "mimetype": "text/x-python",
   "name": "python",
   "nbconvert_exporter": "python",
   "pygments_lexer": "ipython3",
   "version": "3.7.6-final"
  },
  "orig_nbformat": 2,
  "kernelspec": {
   "name": "python3",
   "display_name": "Python 3"
  }
 },
 "nbformat": 4,
 "nbformat_minor": 2,
 "cells": [
  {
   "cell_type": "code",
   "execution_count": 45,
   "metadata": {},
   "outputs": [],
   "source": [
    "import pandas as pd \n",
    "import numpy as np \n",
    "import matplotlib.pyplot as plt \n",
    "import os \n",
    "from sklearn.model_selection import train_test_split"
   ]
  },
  {
   "source": [
    "## Creating the required datasets and cleaning"
   ],
   "cell_type": "markdown",
   "metadata": {}
  },
  {
   "cell_type": "code",
   "execution_count": 46,
   "metadata": {},
   "outputs": [],
   "source": [
    "years = [str(i) for i in range(2010,2018)]\n",
    "def createData():\n",
    "    indicatorList = pd.read_csv('Indicator.csv')\n",
    "\n",
    "    indicatorsToPick = indicatorList[indicatorList['included']==1]\n",
    "    gdp_percap = indicatorsToPick[indicatorsToPick['feature_name']=='gdp_percap']\n",
    "    indicatorsToPick = indicatorsToPick.drop(index=2) # GDP is Index 2\n",
    "\n",
    "    def getDF(code):\n",
    "        path = os.getcwd() + \"\\Datasets\\\\\"\n",
    "        newPath = path + code\n",
    "        df = pd.read_csv(newPath + \"\\\\\" + os.listdir(newPath)[0])\n",
    "        return df\n",
    "\n",
    "    indicators = list(indicatorsToPick.Indicator_Code)\n",
    "    features = []\n",
    "    target = getDF(\"NY.GDP.PCAP.KD.ZG\")\n",
    "\n",
    "    for i in indicators:\n",
    "        features.append(getDF(i))\n",
    "\n",
    "    attributes = list(indicatorsToPick.feature_name)\n",
    "\n",
    "    Developed = set([\"Andorra\",\"Austria\",\"Belgium\",\"Cyprus\",\"Czech Republic\",\"Denmark\",\"Estonia\",\"Faroe Islands\",\"Finland\",\"France\",\"Germany\",\"Greece\",\"Guernsey\",\"Holy See\",\"Iceland\",\"Ireland\",\"Italy\",\"Jersey\",\"Latvia\",\"Liechtenstein\",\"Lithuania\",\"Luxembourg\",\"Malta\",\"Monaco\",\"Netherlands\",\"Norway\",\"Portugal\",\"San Marino\",\"Slovakia\",\"Slovenia\",\"Spain\",\"Sweden\",\"Switzerland\",\"United Kingdom\",\"Hong Kong\",\"Israel\",\"Japan\",\"Macau\",\"Singapore\",\"South Korea\",\"Taiwan\",\"Bermuda\",\"Canada\",\"Puerto Rico\",\"United States\",\"Australia\",\"New Zealand\"])\n",
    "\n",
    "    Developing = set(features[0]['Country Name'])\n",
    "    Developing -= Developed\n",
    "\n",
    "    dev = [None]*(len(features)+1)\n",
    "    dev1 = [None]*(len(features)+1)\n",
    "    n = len(features)\n",
    "\n",
    "    for i in range(n):\n",
    "        dev[i] = features[i][features[i]['Country Name'].isin(Developed)]\n",
    "        dev1[i] = features[i][features[i]['Country Name'].isin(Developing)]\n",
    "\n",
    "    # i+=1\n",
    "    dev[n] = target[target['Country Name'].isin(Developed)]\n",
    "    dev1[n] = target[target['Country Name'].isin(Developing)]\n",
    "\n",
    "    def createDataset(year,dfList):\n",
    "        factors = [dfList[0][\"Country Name\"]]\n",
    "        for x in dfList:\n",
    "            factors.append(x[year])\n",
    "        df = pd.concat(factors,axis =1, sort = False)\n",
    "        # print(df.head)\n",
    "        df.columns = ['country'] + attributes + ['gdp_percap']\n",
    "        total_rows = max(df.count())\n",
    "        \n",
    "        return df\n",
    "\n",
    "    developed = [createDataset(i,dev) for i in years]\n",
    "    developing = [createDataset(i,dev1) for i in years]\n",
    "\n",
    "    return (developed, developing)\n",
    "\n",
    "developed,developing = createData()\n",
    "\n",
    "#  Cleaning the Data \n",
    "\n",
    "# - Removing all rows with missing values for GDP\n",
    "# - Median replacement for all other parameters\n",
    "\n",
    "def cleanData(df):\n",
    "    ### 1. Removing all rows that have NaNs/missing values in the target attribute\n",
    "    for i in range(len(years)):\n",
    "        df[i] = df[i].dropna(subset=[\"gdp_percap\"])\n",
    "\n",
    "    ### 2. Median replacement of missing values for the other features\n",
    "    for i in range(len(years)):\n",
    "            #print(\"\\n\\n\\n\",years[i])\n",
    "            for j in df[i].iloc[:,1:]:\n",
    "                df[i][j] = df[i][j].fillna(np.nanmedian(df[i][j]))\n",
    "\n",
    "cleanData(developed)\n",
    "cleanData(developing)"
   ]
  },
  {
   "cell_type": "code",
   "execution_count": 47,
   "metadata": {},
   "outputs": [],
   "source": [
    "def checkLinearRelationship(df):\n",
    "    for j in df.iloc[:,1:-1]:\n",
    "        plt.title(\"GDP vs \"+j)\n",
    "        plt.scatter(df[j],df.gdp_percap)\n",
    "        plt.show()"
   ]
  },
  {
   "cell_type": "code",
   "execution_count": 48,
   "metadata": {},
   "outputs": [],
   "source": [
    "def createSplitsDeveloped(index, dev):\n",
    "    if dev==0: # implying developed\n",
    "        devyear = developed[index]\n",
    "    elif dev==1: \n",
    "        devyear = developing[index] \n",
    "    gdpyeardev = devyear[['gdp_percap']]\n",
    "    devyear = devyear.drop(columns=['country','gdp_percap'])\n",
    "\n",
    "    X_train, X_test, y_train, y_test = train_test_split(devyear,gdpyeardev,test_size=0.15, random_state=0)\n",
    "    return (X_train, X_test, y_train, y_test)"
   ]
  },
  {
   "source": [
    "## Lasso Regression for Feature Selection"
   ],
   "cell_type": "markdown",
   "metadata": {}
  },
  {
   "cell_type": "code",
   "execution_count": 49,
   "metadata": {},
   "outputs": [
    {
     "output_type": "stream",
     "name": "stdout",
     "text": [
      "{'pop_grow': 0.0, 'gini_index': -0.0, 'unemp': -0.14712717411066126, 'life_exp': 0.0, 'poverty': -0.0, 'mil_xpnd': 0.21288755932488881, 'lit_rate': 0.0, 'labour_force': -9.013417546509046e-10, 'refugee_asylum': 3.7845592916933612e-06}\n"
     ]
    }
   ],
   "source": [
    "from sklearn.linear_model import Lasso, LassoCV\n",
    "\n",
    "indicatorList = pd.read_csv('Indicator.csv')\n",
    "indicatorsToPick = indicatorList[indicatorList['included']==1].drop(index=2)\n",
    "attributes = list(indicatorsToPick.feature_name)\n",
    "\n",
    "model = Lasso(alpha=0.75)\n",
    "splits2010 = createSplitsDeveloped(0,0) # For Developed countries for the year 2010 \n",
    "# print(splits2010[0])\n",
    "\n",
    "model.fit(splits2010[0], splits2010[2])\n",
    "\n",
    "attCoef = {}\n",
    "\n",
    "for i in range(len(attributes)):\n",
    "    attCoef[attributes[i]] = model.coef_[i]\n",
    "\n",
    "# print(mod)\n",
    "print(attCoef)"
   ]
  },
  {
   "source": [
    "## Sparse PCA for Developed and Developing \n",
    "\n",
    "Done to check what are the important features for each to try and bring about a comparison"
   ],
   "cell_type": "markdown",
   "metadata": {}
  },
  {
   "cell_type": "code",
   "execution_count": 24,
   "metadata": {},
   "outputs": [
    {
     "output_type": "execute_result",
     "data": {
      "text/plain": [
       "(37, 9)"
      ]
     },
     "metadata": {},
     "execution_count": 24
    }
   ],
   "source": [
    "X_dev = developed[0].drop(columns=['country','gdp_percap'])\n",
    "X_deving = developing[0].drop(columns=['country','gdp_percap'])\n",
    "\n",
    "X_dev.shape"
   ]
  },
  {
   "cell_type": "code",
   "execution_count": 16,
   "metadata": {},
   "outputs": [],
   "source": [
    "from sklearn.decomposition import SparsePCA\n",
    "\n",
    "PCA = SparsePCA(n_components=5, random_state=0)\n",
    "dev2010New = PCA.fit_transform(X_dev)\n",
    "paramdev2010 = PCA.get_params(deep=True)"
   ]
  },
  {
   "cell_type": "code",
   "execution_count": 17,
   "metadata": {},
   "outputs": [
    {
     "output_type": "execute_result",
     "data": {
      "text/plain": [
       "{'U_init': None,\n",
       " 'V_init': None,\n",
       " 'alpha': 1,\n",
       " 'max_iter': 1000,\n",
       " 'method': 'lars',\n",
       " 'n_components': 5,\n",
       " 'n_jobs': None,\n",
       " 'normalize_components': 'deprecated',\n",
       " 'random_state': 0,\n",
       " 'ridge_alpha': 0.01,\n",
       " 'tol': 1e-08,\n",
       " 'verbose': False}"
      ]
     },
     "metadata": {},
     "execution_count": 17
    }
   ],
   "source": [
    "paramdev2010"
   ]
  },
  {
   "source": [
    "## Trying Polynomial Regression"
   ],
   "cell_type": "markdown",
   "metadata": {}
  },
  {
   "cell_type": "code",
   "execution_count": 30,
   "metadata": {},
   "outputs": [
    {
     "output_type": "stream",
     "name": "stdout",
     "text": [
      "(213, 46)\n(213, 1)\n"
     ]
    }
   ],
   "source": [
    "from sklearn.preprocessing import PolynomialFeatures\n",
    "\n",
    "poly = PolynomialFeatures(degree=2, interaction_only=True)\n",
    "newXdeving = poly.fit_transform(X_deving)\n",
    "Y = developing[0][['gdp_percap']]\n",
    "\n",
    "print(newXdeving.shape)\n",
    "print(Y.shape)"
   ]
  },
  {
   "cell_type": "code",
   "execution_count": 34,
   "metadata": {},
   "outputs": [
    {
     "output_type": "stream",
     "name": "stdout",
     "text": [
      "                            OLS Regression Results                            \n==============================================================================\nDep. Variable:             gdp_percap   R-squared:                       0.923\nModel:                            OLS   Adj. R-squared:                  0.305\nMethod:                 Least Squares   F-statistic:                     1.495\nDate:                Fri, 06 Nov 2020   Prob (F-statistic):              0.382\nTime:                        23:11:37   Log-Likelihood:                -47.133\nNo. Observations:                  37   AIC:                             160.3\nDf Residuals:                       4   BIC:                             213.4\nDf Model:                          32                                         \nCovariance Type:            nonrobust                                         \n==============================================================================\n                 coef    std err          t      P>|t|      [0.025      0.975]\n------------------------------------------------------------------------------\nconst         -0.5941      0.998     -0.595      0.584      -3.365       2.177\nx1             0.0446      0.039      1.137      0.319      -0.064       0.154\nx2             0.0016      0.006      0.252      0.814      -0.016       0.019\nx3             0.0041      0.011      0.376      0.726      -0.026       0.034\nx4            -0.0029      0.006     -0.506      0.639      -0.019       0.013\nx5             0.0037      0.022      0.171      0.873      -0.056       0.064\nx6            -0.0005      0.051     -0.011      0.992      -0.143       0.142\nx7           -15.1805     17.459     -0.870      0.434     -63.653      33.292\nx8            -0.0005      0.000     -0.999      0.375      -0.002       0.001\nx9             0.2079      0.288      0.723      0.510      -0.590       1.006\nx10           -0.3274      1.648     -0.199      0.852      -4.904       4.249\nx11           -1.7978      2.180     -0.825      0.456      -7.851       4.256\nx12           -4.1858      4.031     -1.038      0.358     -15.377       7.005\nx13           -8.6162      5.856     -1.471      0.215     -24.875       7.642\nx14           -6.2580     12.256     -0.511      0.637     -40.287      27.771\nx15            4.0251      3.512      1.146      0.316      -5.725      13.776\nx16        -3.955e-06   1.68e-06     -2.348      0.079   -8.63e-06    7.22e-07\nx17            0.0001      0.000      0.378      0.725      -0.001       0.001\nx18           -0.5772      0.693     -0.833      0.452      -2.500       1.346\nx19           -0.2118      0.808     -0.262      0.806      -2.456       2.032\nx20           10.8570     12.282      0.884      0.427     -23.244      44.958\nx21            0.9368      1.591      0.589      0.588      -3.482       5.355\nx22            0.1720      0.655      0.263      0.806      -1.647       1.991\nx23         6.951e-07   6.68e-07      1.040      0.357   -1.16e-06    2.55e-06\nx24        -2.244e-05   6.63e-05     -0.339      0.752      -0.000       0.000\nx25           -0.7254      0.961     -0.755      0.492      -3.393       1.942\nx26          -11.7725      7.870     -1.496      0.209     -33.623      10.078\nx27           -1.9106      3.977     -0.480      0.656     -12.953       9.132\nx28            0.8741      1.005      0.869      0.434      -1.917       3.665\nx29        -1.007e-06   1.11e-06     -0.906      0.416   -4.09e-06    2.08e-06\nx30            0.0001   9.72e-05      1.456      0.219      -0.000       0.000\nx31           -2.5468      2.801     -0.909      0.415     -10.322       5.229\nx32            0.0320      5.881      0.005      0.996     -16.296      16.360\nx33            0.1791      0.221      0.809      0.464      -0.436       0.794\nx34        -1.932e-06   1.27e-06     -1.523      0.202   -5.45e-06    1.59e-06\nx35            0.0002      0.000      1.316      0.259      -0.000       0.001\nx36          -12.0051      6.174     -1.944      0.124     -29.147       5.136\nx37            0.3633      2.080      0.175      0.870      -5.411       6.138\nx38         4.172e-07    3.9e-06      0.107      0.920   -1.04e-05    1.12e-05\nx39           -0.0015      0.001     -1.886      0.132      -0.004       0.001\nx40           -0.0722      4.924     -0.015      0.989     -13.744      13.600\nx41        -5.279e-07   1.75e-06     -0.301      0.778   -5.39e-06    4.33e-06\nx42        -5.093e-05   7.93e-05     -0.643      0.555      -0.000       0.000\nx43          6.42e-06   5.42e-06      1.185      0.302   -8.62e-06    2.15e-05\nx44           -0.0023      0.003     -0.765      0.487      -0.011       0.006\nx45        -1.283e-11   9.29e-12     -1.381      0.240   -3.86e-11     1.3e-11\n==============================================================================\nOmnibus:                       31.789   Durbin-Watson:                   1.982\nProb(Omnibus):                  0.000   Jarque-Bera (JB):              366.254\nSkew:                           1.090   Prob(JB):                     2.94e-80\nKurtosis:                      18.258   Cond. No.                     1.00e+16\n==============================================================================\n\nWarnings:\n[1] Standard Errors assume that the covariance matrix of the errors is correctly specified.\n[2] The input rank is higher than the number of observations.\n[3] The condition number is large,  1e+16. This might indicate that there are\nstrong multicollinearity or other numerical problems.\n"
     ]
    }
   ],
   "source": [
    "import statsmodels.api as sm \n",
    "\n",
    "newXdev = sm.add_constant(newXdev) # adding a constant\n",
    "Y = developed[0][['gdp_percap']]\n",
    "\n",
    "model = sm.OLS(Y, newXdev).fit()\n",
    "predictions = model.predict(newXdev) \n",
    " \n",
    "summary = str(model.summary())\n",
    "print(summary)"
   ]
  },
  {
   "source": [
    "## Trying SVM because nothing else seems to be working ffs"
   ],
   "cell_type": "markdown",
   "metadata": {}
  },
  {
   "cell_type": "code",
   "execution_count": 39,
   "metadata": {},
   "outputs": [],
   "source": [
    "from sklearn.model_selection import train_test_split\n",
    "from sklearn.svm import LinearSVR\n",
    "\n",
    "dev2010 = developed[0]\n",
    "gdp2010dev = dev2010[['gdp_percap']]\n",
    "dev2010 = dev2010.drop(columns=['country','gdp_percap'])\n",
    "\n",
    "X_train, X_test, y_train, y_test = train_test_split(dev2010,gdp2010dev,test_size=0.15, random_state=0)"
   ]
  },
  {
   "cell_type": "code",
   "execution_count": 40,
   "metadata": {},
   "outputs": [
    {
     "output_type": "execute_result",
     "data": {
      "text/plain": [
       "LinearSVR(C=1.0, dual=True, epsilon=0.0, fit_intercept=True,\n",
       "          intercept_scaling=1.0, loss='epsilon_insensitive', max_iter=1000,\n",
       "          random_state=None, tol=0.0001, verbose=0)"
      ]
     },
     "metadata": {},
     "execution_count": 40
    }
   ],
   "source": [
    "linSVR = LinearSVR()   \n",
    "linSVR.fit(X_train, y_train)"
   ]
  },
  {
   "cell_type": "code",
   "execution_count": 50,
   "metadata": {},
   "outputs": [
    {
     "output_type": "display_data",
     "data": {
      "text/plain": "<Figure size 1080x360 with 1 Axes>",
      "image/svg+xml": "<?xml version=\"1.0\" encoding=\"utf-8\" standalone=\"no\"?>\r\n<!DOCTYPE svg PUBLIC \"-//W3C//DTD SVG 1.1//EN\"\r\n  \"http://www.w3.org/Graphics/SVG/1.1/DTD/svg11.dtd\">\r\n<!-- Created with matplotlib (https://matplotlib.org/) -->\r\n<svg height=\"367.361376pt\" version=\"1.1\" viewBox=\"0 0 899.753125 367.361376\" width=\"899.753125pt\" xmlns=\"http://www.w3.org/2000/svg\" xmlns:xlink=\"http://www.w3.org/1999/xlink\">\r\n <defs>\r\n  <style type=\"text/css\">\r\n*{stroke-linecap:butt;stroke-linejoin:round;}\r\n  </style>\r\n </defs>\r\n <g id=\"figure_1\">\r\n  <g id=\"patch_1\">\r\n   <path d=\"M 0 367.361376 \r\nL 899.753125 367.361376 \r\nL 899.753125 -0 \r\nL 0 -0 \r\nz\r\n\" style=\"fill:none;\"/>\r\n  </g>\r\n  <g id=\"axes_1\">\r\n   <g id=\"patch_2\">\r\n    <path d=\"M 55.553125 279 \r\nL 892.553125 279 \r\nL 892.553125 7.2 \r\nL 55.553125 7.2 \r\nz\r\n\" style=\"fill:#ffffff;\"/>\r\n   </g>\r\n   <g id=\"patch_3\">\r\n    <path clip-path=\"url(#p6aae88a7ba)\" d=\"M 92.689644 266.009865 \r\nL 168.867118 266.009865 \r\nL 168.867118 266.645455 \r\nL 92.689644 266.645455 \r\nz\r\n\" style=\"fill:#ff0000;\"/>\r\n   </g>\r\n   <g id=\"patch_4\">\r\n    <path clip-path=\"url(#p6aae88a7ba)\" d=\"M 187.911487 266.009865 \r\nL 264.088961 266.009865 \r\nL 264.088961 266.084398 \r\nL 187.911487 266.084398 \r\nz\r\n\" style=\"fill:#ff0000;\"/>\r\n   </g>\r\n   <g id=\"patch_5\">\r\n    <path clip-path=\"url(#p6aae88a7ba)\" d=\"M 283.13333 266.009865 \r\nL 359.310804 266.009865 \r\nL 359.310804 266.00806 \r\nL 283.13333 266.00806 \r\nz\r\n\" style=\"fill:#0000ff;\"/>\r\n   </g>\r\n   <g id=\"patch_6\">\r\n    <path clip-path=\"url(#p6aae88a7ba)\" d=\"M 378.355173 266.009865 \r\nL 454.532647 266.009865 \r\nL 454.532647 265.968595 \r\nL 378.355173 265.968595 \r\nz\r\n\" style=\"fill:#0000ff;\"/>\r\n   </g>\r\n   <g id=\"patch_7\">\r\n    <path clip-path=\"url(#p6aae88a7ba)\" d=\"M 473.577016 266.009865 \r\nL 549.75449 266.009865 \r\nL 549.75449 265.869223 \r\nL 473.577016 265.869223 \r\nz\r\n\" style=\"fill:#0000ff;\"/>\r\n   </g>\r\n   <g id=\"patch_8\">\r\n    <path clip-path=\"url(#p6aae88a7ba)\" d=\"M 568.798859 266.009865 \r\nL 644.976333 266.009865 \r\nL 644.976333 265.768507 \r\nL 568.798859 265.768507 \r\nz\r\n\" style=\"fill:#0000ff;\"/>\r\n   </g>\r\n   <g id=\"patch_9\">\r\n    <path clip-path=\"url(#p6aae88a7ba)\" d=\"M 664.020702 266.009865 \r\nL 740.198176 266.009865 \r\nL 740.198176 265.732052 \r\nL 664.020702 265.732052 \r\nz\r\n\" style=\"fill:#0000ff;\"/>\r\n   </g>\r\n   <g id=\"patch_10\">\r\n    <path clip-path=\"url(#p6aae88a7ba)\" d=\"M 759.242545 266.009865 \r\nL 835.420019 266.009865 \r\nL 835.420019 19.554545 \r\nL 759.242545 19.554545 \r\nz\r\n\" style=\"fill:#0000ff;\"/>\r\n   </g>\r\n   <g id=\"matplotlib.axis_1\">\r\n    <g id=\"xtick_1\">\r\n     <g id=\"line2d_1\">\r\n      <defs>\r\n       <path d=\"M 0 0 \r\nL 0 3.5 \r\n\" id=\"m6bd11fe064\" style=\"stroke:#000000;stroke-width:0.8;\"/>\r\n      </defs>\r\n      <g>\r\n       <use style=\"stroke:#000000;stroke-width:0.8;\" x=\"226.000224\" xlink:href=\"#m6bd11fe064\" y=\"279\"/>\r\n      </g>\r\n     </g>\r\n     <g id=\"text_1\">\r\n      <!-- labour_force -->\r\n      <defs>\r\n       <path d=\"M 9.421875 75.984375 \r\nL 18.40625 75.984375 \r\nL 18.40625 0 \r\nL 9.421875 0 \r\nz\r\n\" id=\"DejaVuSans-108\"/>\r\n       <path d=\"M 34.28125 27.484375 \r\nQ 23.390625 27.484375 19.1875 25 \r\nQ 14.984375 22.515625 14.984375 16.5 \r\nQ 14.984375 11.71875 18.140625 8.90625 \r\nQ 21.296875 6.109375 26.703125 6.109375 \r\nQ 34.1875 6.109375 38.703125 11.40625 \r\nQ 43.21875 16.703125 43.21875 25.484375 \r\nL 43.21875 27.484375 \r\nz\r\nM 52.203125 31.203125 \r\nL 52.203125 0 \r\nL 43.21875 0 \r\nL 43.21875 8.296875 \r\nQ 40.140625 3.328125 35.546875 0.953125 \r\nQ 30.953125 -1.421875 24.3125 -1.421875 \r\nQ 15.921875 -1.421875 10.953125 3.296875 \r\nQ 6 8.015625 6 15.921875 \r\nQ 6 25.140625 12.171875 29.828125 \r\nQ 18.359375 34.515625 30.609375 34.515625 \r\nL 43.21875 34.515625 \r\nL 43.21875 35.40625 \r\nQ 43.21875 41.609375 39.140625 45 \r\nQ 35.0625 48.390625 27.6875 48.390625 \r\nQ 23 48.390625 18.546875 47.265625 \r\nQ 14.109375 46.140625 10.015625 43.890625 \r\nL 10.015625 52.203125 \r\nQ 14.9375 54.109375 19.578125 55.046875 \r\nQ 24.21875 56 28.609375 56 \r\nQ 40.484375 56 46.34375 49.84375 \r\nQ 52.203125 43.703125 52.203125 31.203125 \r\nz\r\n\" id=\"DejaVuSans-97\"/>\r\n       <path d=\"M 48.6875 27.296875 \r\nQ 48.6875 37.203125 44.609375 42.84375 \r\nQ 40.53125 48.484375 33.40625 48.484375 \r\nQ 26.265625 48.484375 22.1875 42.84375 \r\nQ 18.109375 37.203125 18.109375 27.296875 \r\nQ 18.109375 17.390625 22.1875 11.75 \r\nQ 26.265625 6.109375 33.40625 6.109375 \r\nQ 40.53125 6.109375 44.609375 11.75 \r\nQ 48.6875 17.390625 48.6875 27.296875 \r\nz\r\nM 18.109375 46.390625 \r\nQ 20.953125 51.265625 25.265625 53.625 \r\nQ 29.59375 56 35.59375 56 \r\nQ 45.5625 56 51.78125 48.09375 \r\nQ 58.015625 40.1875 58.015625 27.296875 \r\nQ 58.015625 14.40625 51.78125 6.484375 \r\nQ 45.5625 -1.421875 35.59375 -1.421875 \r\nQ 29.59375 -1.421875 25.265625 0.953125 \r\nQ 20.953125 3.328125 18.109375 8.203125 \r\nL 18.109375 0 \r\nL 9.078125 0 \r\nL 9.078125 75.984375 \r\nL 18.109375 75.984375 \r\nz\r\n\" id=\"DejaVuSans-98\"/>\r\n       <path d=\"M 30.609375 48.390625 \r\nQ 23.390625 48.390625 19.1875 42.75 \r\nQ 14.984375 37.109375 14.984375 27.296875 \r\nQ 14.984375 17.484375 19.15625 11.84375 \r\nQ 23.34375 6.203125 30.609375 6.203125 \r\nQ 37.796875 6.203125 41.984375 11.859375 \r\nQ 46.1875 17.53125 46.1875 27.296875 \r\nQ 46.1875 37.015625 41.984375 42.703125 \r\nQ 37.796875 48.390625 30.609375 48.390625 \r\nz\r\nM 30.609375 56 \r\nQ 42.328125 56 49.015625 48.375 \r\nQ 55.71875 40.765625 55.71875 27.296875 \r\nQ 55.71875 13.875 49.015625 6.21875 \r\nQ 42.328125 -1.421875 30.609375 -1.421875 \r\nQ 18.84375 -1.421875 12.171875 6.21875 \r\nQ 5.515625 13.875 5.515625 27.296875 \r\nQ 5.515625 40.765625 12.171875 48.375 \r\nQ 18.84375 56 30.609375 56 \r\nz\r\n\" id=\"DejaVuSans-111\"/>\r\n       <path d=\"M 8.5 21.578125 \r\nL 8.5 54.6875 \r\nL 17.484375 54.6875 \r\nL 17.484375 21.921875 \r\nQ 17.484375 14.15625 20.5 10.265625 \r\nQ 23.53125 6.390625 29.59375 6.390625 \r\nQ 36.859375 6.390625 41.078125 11.03125 \r\nQ 45.3125 15.671875 45.3125 23.6875 \r\nL 45.3125 54.6875 \r\nL 54.296875 54.6875 \r\nL 54.296875 0 \r\nL 45.3125 0 \r\nL 45.3125 8.40625 \r\nQ 42.046875 3.421875 37.71875 1 \r\nQ 33.40625 -1.421875 27.6875 -1.421875 \r\nQ 18.265625 -1.421875 13.375 4.4375 \r\nQ 8.5 10.296875 8.5 21.578125 \r\nz\r\nM 31.109375 56 \r\nz\r\n\" id=\"DejaVuSans-117\"/>\r\n       <path d=\"M 41.109375 46.296875 \r\nQ 39.59375 47.171875 37.8125 47.578125 \r\nQ 36.03125 48 33.890625 48 \r\nQ 26.265625 48 22.1875 43.046875 \r\nQ 18.109375 38.09375 18.109375 28.8125 \r\nL 18.109375 0 \r\nL 9.078125 0 \r\nL 9.078125 54.6875 \r\nL 18.109375 54.6875 \r\nL 18.109375 46.1875 \r\nQ 20.953125 51.171875 25.484375 53.578125 \r\nQ 30.03125 56 36.53125 56 \r\nQ 37.453125 56 38.578125 55.875 \r\nQ 39.703125 55.765625 41.0625 55.515625 \r\nz\r\n\" id=\"DejaVuSans-114\"/>\r\n       <path d=\"M 50.984375 -16.609375 \r\nL 50.984375 -23.578125 \r\nL -0.984375 -23.578125 \r\nL -0.984375 -16.609375 \r\nz\r\n\" id=\"DejaVuSans-95\"/>\r\n       <path d=\"M 37.109375 75.984375 \r\nL 37.109375 68.5 \r\nL 28.515625 68.5 \r\nQ 23.6875 68.5 21.796875 66.546875 \r\nQ 19.921875 64.59375 19.921875 59.515625 \r\nL 19.921875 54.6875 \r\nL 34.71875 54.6875 \r\nL 34.71875 47.703125 \r\nL 19.921875 47.703125 \r\nL 19.921875 0 \r\nL 10.890625 0 \r\nL 10.890625 47.703125 \r\nL 2.296875 47.703125 \r\nL 2.296875 54.6875 \r\nL 10.890625 54.6875 \r\nL 10.890625 58.5 \r\nQ 10.890625 67.625 15.140625 71.796875 \r\nQ 19.390625 75.984375 28.609375 75.984375 \r\nz\r\n\" id=\"DejaVuSans-102\"/>\r\n       <path d=\"M 48.78125 52.59375 \r\nL 48.78125 44.1875 \r\nQ 44.96875 46.296875 41.140625 47.34375 \r\nQ 37.3125 48.390625 33.40625 48.390625 \r\nQ 24.65625 48.390625 19.8125 42.84375 \r\nQ 14.984375 37.3125 14.984375 27.296875 \r\nQ 14.984375 17.28125 19.8125 11.734375 \r\nQ 24.65625 6.203125 33.40625 6.203125 \r\nQ 37.3125 6.203125 41.140625 7.25 \r\nQ 44.96875 8.296875 48.78125 10.40625 \r\nL 48.78125 2.09375 \r\nQ 45.015625 0.34375 40.984375 -0.53125 \r\nQ 36.96875 -1.421875 32.421875 -1.421875 \r\nQ 20.0625 -1.421875 12.78125 6.34375 \r\nQ 5.515625 14.109375 5.515625 27.296875 \r\nQ 5.515625 40.671875 12.859375 48.328125 \r\nQ 20.21875 56 33.015625 56 \r\nQ 37.15625 56 41.109375 55.140625 \r\nQ 45.0625 54.296875 48.78125 52.59375 \r\nz\r\n\" id=\"DejaVuSans-99\"/>\r\n       <path d=\"M 56.203125 29.59375 \r\nL 56.203125 25.203125 \r\nL 14.890625 25.203125 \r\nQ 15.484375 15.921875 20.484375 11.0625 \r\nQ 25.484375 6.203125 34.421875 6.203125 \r\nQ 39.59375 6.203125 44.453125 7.46875 \r\nQ 49.3125 8.734375 54.109375 11.28125 \r\nL 54.109375 2.78125 \r\nQ 49.265625 0.734375 44.1875 -0.34375 \r\nQ 39.109375 -1.421875 33.890625 -1.421875 \r\nQ 20.796875 -1.421875 13.15625 6.1875 \r\nQ 5.515625 13.8125 5.515625 26.8125 \r\nQ 5.515625 40.234375 12.765625 48.109375 \r\nQ 20.015625 56 32.328125 56 \r\nQ 43.359375 56 49.78125 48.890625 \r\nQ 56.203125 41.796875 56.203125 29.59375 \r\nz\r\nM 47.21875 32.234375 \r\nQ 47.125 39.59375 43.09375 43.984375 \r\nQ 39.0625 48.390625 32.421875 48.390625 \r\nQ 24.90625 48.390625 20.390625 44.140625 \r\nQ 15.875 39.890625 15.1875 32.171875 \r\nz\r\n\" id=\"DejaVuSans-101\"/>\r\n      </defs>\r\n      <g transform=\"translate(192.848142 343.68359)rotate(-60)scale(0.1 -0.1)\">\r\n       <use xlink:href=\"#DejaVuSans-108\"/>\r\n       <use x=\"27.783203\" xlink:href=\"#DejaVuSans-97\"/>\r\n       <use x=\"89.0625\" xlink:href=\"#DejaVuSans-98\"/>\r\n       <use x=\"152.539062\" xlink:href=\"#DejaVuSans-111\"/>\r\n       <use x=\"213.720703\" xlink:href=\"#DejaVuSans-117\"/>\r\n       <use x=\"277.099609\" xlink:href=\"#DejaVuSans-114\"/>\r\n       <use x=\"318.212891\" xlink:href=\"#DejaVuSans-95\"/>\r\n       <use x=\"368.212891\" xlink:href=\"#DejaVuSans-102\"/>\r\n       <use x=\"403.417969\" xlink:href=\"#DejaVuSans-111\"/>\r\n       <use x=\"464.599609\" xlink:href=\"#DejaVuSans-114\"/>\r\n       <use x=\"505.681641\" xlink:href=\"#DejaVuSans-99\"/>\r\n       <use x=\"560.662109\" xlink:href=\"#DejaVuSans-101\"/>\r\n      </g>\r\n     </g>\r\n    </g>\r\n    <g id=\"xtick_2\">\r\n     <g id=\"line2d_2\">\r\n      <g>\r\n       <use style=\"stroke:#000000;stroke-width:0.8;\" x=\"321.222067\" xlink:href=\"#m6bd11fe064\" y=\"279\"/>\r\n      </g>\r\n     </g>\r\n     <g id=\"text_2\">\r\n      <!-- unemp -->\r\n      <defs>\r\n       <path d=\"M 54.890625 33.015625 \r\nL 54.890625 0 \r\nL 45.90625 0 \r\nL 45.90625 32.71875 \r\nQ 45.90625 40.484375 42.875 44.328125 \r\nQ 39.84375 48.1875 33.796875 48.1875 \r\nQ 26.515625 48.1875 22.3125 43.546875 \r\nQ 18.109375 38.921875 18.109375 30.90625 \r\nL 18.109375 0 \r\nL 9.078125 0 \r\nL 9.078125 54.6875 \r\nL 18.109375 54.6875 \r\nL 18.109375 46.1875 \r\nQ 21.34375 51.125 25.703125 53.5625 \r\nQ 30.078125 56 35.796875 56 \r\nQ 45.21875 56 50.046875 50.171875 \r\nQ 54.890625 44.34375 54.890625 33.015625 \r\nz\r\n\" id=\"DejaVuSans-110\"/>\r\n       <path d=\"M 52 44.1875 \r\nQ 55.375 50.25 60.0625 53.125 \r\nQ 64.75 56 71.09375 56 \r\nQ 79.640625 56 84.28125 50.015625 \r\nQ 88.921875 44.046875 88.921875 33.015625 \r\nL 88.921875 0 \r\nL 79.890625 0 \r\nL 79.890625 32.71875 \r\nQ 79.890625 40.578125 77.09375 44.375 \r\nQ 74.3125 48.1875 68.609375 48.1875 \r\nQ 61.625 48.1875 57.5625 43.546875 \r\nQ 53.515625 38.921875 53.515625 30.90625 \r\nL 53.515625 0 \r\nL 44.484375 0 \r\nL 44.484375 32.71875 \r\nQ 44.484375 40.625 41.703125 44.40625 \r\nQ 38.921875 48.1875 33.109375 48.1875 \r\nQ 26.21875 48.1875 22.15625 43.53125 \r\nQ 18.109375 38.875 18.109375 30.90625 \r\nL 18.109375 0 \r\nL 9.078125 0 \r\nL 9.078125 54.6875 \r\nL 18.109375 54.6875 \r\nL 18.109375 46.1875 \r\nQ 21.1875 51.21875 25.484375 53.609375 \r\nQ 29.78125 56 35.6875 56 \r\nQ 41.65625 56 45.828125 52.96875 \r\nQ 50 49.953125 52 44.1875 \r\nz\r\n\" id=\"DejaVuSans-109\"/>\r\n       <path d=\"M 18.109375 8.203125 \r\nL 18.109375 -20.796875 \r\nL 9.078125 -20.796875 \r\nL 9.078125 54.6875 \r\nL 18.109375 54.6875 \r\nL 18.109375 46.390625 \r\nQ 20.953125 51.265625 25.265625 53.625 \r\nQ 29.59375 56 35.59375 56 \r\nQ 45.5625 56 51.78125 48.09375 \r\nQ 58.015625 40.1875 58.015625 27.296875 \r\nQ 58.015625 14.40625 51.78125 6.484375 \r\nQ 45.5625 -1.421875 35.59375 -1.421875 \r\nQ 29.59375 -1.421875 25.265625 0.953125 \r\nQ 20.953125 3.328125 18.109375 8.203125 \r\nz\r\nM 48.6875 27.296875 \r\nQ 48.6875 37.203125 44.609375 42.84375 \r\nQ 40.53125 48.484375 33.40625 48.484375 \r\nQ 26.265625 48.484375 22.1875 42.84375 \r\nQ 18.109375 37.203125 18.109375 27.296875 \r\nQ 18.109375 17.390625 22.1875 11.75 \r\nQ 26.265625 6.109375 33.40625 6.109375 \r\nQ 40.53125 6.109375 44.609375 11.75 \r\nQ 48.6875 17.390625 48.6875 27.296875 \r\nz\r\n\" id=\"DejaVuSans-112\"/>\r\n      </defs>\r\n      <g transform=\"translate(301.962411 320.03839)rotate(-60)scale(0.1 -0.1)\">\r\n       <use xlink:href=\"#DejaVuSans-117\"/>\r\n       <use x=\"63.378906\" xlink:href=\"#DejaVuSans-110\"/>\r\n       <use x=\"126.757812\" xlink:href=\"#DejaVuSans-101\"/>\r\n       <use x=\"188.28125\" xlink:href=\"#DejaVuSans-109\"/>\r\n       <use x=\"285.693359\" xlink:href=\"#DejaVuSans-112\"/>\r\n      </g>\r\n     </g>\r\n    </g>\r\n    <g id=\"xtick_3\">\r\n     <g id=\"line2d_3\">\r\n      <g>\r\n       <use style=\"stroke:#000000;stroke-width:0.8;\" x=\"416.44391\" xlink:href=\"#m6bd11fe064\" y=\"279\"/>\r\n      </g>\r\n     </g>\r\n     <g id=\"text_3\">\r\n      <!-- poverty -->\r\n      <defs>\r\n       <path d=\"M 2.984375 54.6875 \r\nL 12.5 54.6875 \r\nL 29.59375 8.796875 \r\nL 46.6875 54.6875 \r\nL 56.203125 54.6875 \r\nL 35.6875 0 \r\nL 23.484375 0 \r\nz\r\n\" id=\"DejaVuSans-118\"/>\r\n       <path d=\"M 18.3125 70.21875 \r\nL 18.3125 54.6875 \r\nL 36.8125 54.6875 \r\nL 36.8125 47.703125 \r\nL 18.3125 47.703125 \r\nL 18.3125 18.015625 \r\nQ 18.3125 11.328125 20.140625 9.421875 \r\nQ 21.96875 7.515625 27.59375 7.515625 \r\nL 36.8125 7.515625 \r\nL 36.8125 0 \r\nL 27.59375 0 \r\nQ 17.1875 0 13.234375 3.875 \r\nQ 9.28125 7.765625 9.28125 18.015625 \r\nL 9.28125 47.703125 \r\nL 2.6875 47.703125 \r\nL 2.6875 54.6875 \r\nL 9.28125 54.6875 \r\nL 9.28125 70.21875 \r\nz\r\n\" id=\"DejaVuSans-116\"/>\r\n       <path d=\"M 32.171875 -5.078125 \r\nQ 28.375 -14.84375 24.75 -17.8125 \r\nQ 21.140625 -20.796875 15.09375 -20.796875 \r\nL 7.90625 -20.796875 \r\nL 7.90625 -13.28125 \r\nL 13.1875 -13.28125 \r\nQ 16.890625 -13.28125 18.9375 -11.515625 \r\nQ 21 -9.765625 23.484375 -3.21875 \r\nL 25.09375 0.875 \r\nL 2.984375 54.6875 \r\nL 12.5 54.6875 \r\nL 29.59375 11.921875 \r\nL 46.6875 54.6875 \r\nL 56.203125 54.6875 \r\nz\r\n\" id=\"DejaVuSans-121\"/>\r\n      </defs>\r\n      <g transform=\"translate(395.398317 323.131725)rotate(-60)scale(0.1 -0.1)\">\r\n       <use xlink:href=\"#DejaVuSans-112\"/>\r\n       <use x=\"63.476562\" xlink:href=\"#DejaVuSans-111\"/>\r\n       <use x=\"124.658203\" xlink:href=\"#DejaVuSans-118\"/>\r\n       <use x=\"183.837891\" xlink:href=\"#DejaVuSans-101\"/>\r\n       <use x=\"245.361328\" xlink:href=\"#DejaVuSans-114\"/>\r\n       <use x=\"286.474609\" xlink:href=\"#DejaVuSans-116\"/>\r\n       <use x=\"325.683594\" xlink:href=\"#DejaVuSans-121\"/>\r\n      </g>\r\n     </g>\r\n    </g>\r\n    <g id=\"xtick_4\">\r\n     <g id=\"line2d_4\">\r\n      <g>\r\n       <use style=\"stroke:#000000;stroke-width:0.8;\" x=\"511.665753\" xlink:href=\"#m6bd11fe064\" y=\"279\"/>\r\n      </g>\r\n     </g>\r\n     <g id=\"text_4\">\r\n      <!-- mil_xpnd -->\r\n      <defs>\r\n       <path d=\"M 9.421875 54.6875 \r\nL 18.40625 54.6875 \r\nL 18.40625 0 \r\nL 9.421875 0 \r\nz\r\nM 9.421875 75.984375 \r\nL 18.40625 75.984375 \r\nL 18.40625 64.59375 \r\nL 9.421875 64.59375 \r\nz\r\n\" id=\"DejaVuSans-105\"/>\r\n       <path d=\"M 54.890625 54.6875 \r\nL 35.109375 28.078125 \r\nL 55.90625 0 \r\nL 45.3125 0 \r\nL 29.390625 21.484375 \r\nL 13.484375 0 \r\nL 2.875 0 \r\nL 24.125 28.609375 \r\nL 4.6875 54.6875 \r\nL 15.28125 54.6875 \r\nL 29.78125 35.203125 \r\nL 44.28125 54.6875 \r\nz\r\n\" id=\"DejaVuSans-120\"/>\r\n       <path d=\"M 45.40625 46.390625 \r\nL 45.40625 75.984375 \r\nL 54.390625 75.984375 \r\nL 54.390625 0 \r\nL 45.40625 0 \r\nL 45.40625 8.203125 \r\nQ 42.578125 3.328125 38.25 0.953125 \r\nQ 33.9375 -1.421875 27.875 -1.421875 \r\nQ 17.96875 -1.421875 11.734375 6.484375 \r\nQ 5.515625 14.40625 5.515625 27.296875 \r\nQ 5.515625 40.1875 11.734375 48.09375 \r\nQ 17.96875 56 27.875 56 \r\nQ 33.9375 56 38.25 53.625 \r\nQ 42.578125 51.265625 45.40625 46.390625 \r\nz\r\nM 14.796875 27.296875 \r\nQ 14.796875 17.390625 18.875 11.75 \r\nQ 22.953125 6.109375 30.078125 6.109375 \r\nQ 37.203125 6.109375 41.296875 11.75 \r\nQ 45.40625 17.390625 45.40625 27.296875 \r\nQ 45.40625 37.203125 41.296875 42.84375 \r\nQ 37.203125 48.484375 30.078125 48.484375 \r\nQ 22.953125 48.484375 18.875 42.84375 \r\nQ 14.796875 37.203125 14.796875 27.296875 \r\nz\r\n\" id=\"DejaVuSans-100\"/>\r\n      </defs>\r\n      <g transform=\"translate(486.998827 328.986868)rotate(-60)scale(0.1 -0.1)\">\r\n       <use xlink:href=\"#DejaVuSans-109\"/>\r\n       <use x=\"97.412109\" xlink:href=\"#DejaVuSans-105\"/>\r\n       <use x=\"125.195312\" xlink:href=\"#DejaVuSans-108\"/>\r\n       <use x=\"152.978516\" xlink:href=\"#DejaVuSans-95\"/>\r\n       <use x=\"202.978516\" xlink:href=\"#DejaVuSans-120\"/>\r\n       <use x=\"262.158203\" xlink:href=\"#DejaVuSans-112\"/>\r\n       <use x=\"325.634766\" xlink:href=\"#DejaVuSans-110\"/>\r\n       <use x=\"389.013672\" xlink:href=\"#DejaVuSans-100\"/>\r\n      </g>\r\n     </g>\r\n    </g>\r\n    <g id=\"xtick_5\">\r\n     <g id=\"line2d_5\">\r\n      <g>\r\n       <use style=\"stroke:#000000;stroke-width:0.8;\" x=\"606.887596\" xlink:href=\"#m6bd11fe064\" y=\"279\"/>\r\n      </g>\r\n     </g>\r\n     <g id=\"text_5\">\r\n      <!-- life_exp -->\r\n      <g transform=\"translate(585.521452 323.269747)rotate(-60)scale(0.1 -0.1)\">\r\n       <use xlink:href=\"#DejaVuSans-108\"/>\r\n       <use x=\"27.783203\" xlink:href=\"#DejaVuSans-105\"/>\r\n       <use x=\"55.566406\" xlink:href=\"#DejaVuSans-102\"/>\r\n       <use x=\"90.771484\" xlink:href=\"#DejaVuSans-101\"/>\r\n       <use x=\"152.294922\" xlink:href=\"#DejaVuSans-95\"/>\r\n       <use x=\"202.294922\" xlink:href=\"#DejaVuSans-101\"/>\r\n       <use x=\"263.802734\" xlink:href=\"#DejaVuSans-120\"/>\r\n       <use x=\"322.982422\" xlink:href=\"#DejaVuSans-112\"/>\r\n      </g>\r\n     </g>\r\n    </g>\r\n    <g id=\"xtick_6\">\r\n     <g id=\"line2d_6\">\r\n      <g>\r\n       <use style=\"stroke:#000000;stroke-width:0.8;\" x=\"702.109439\" xlink:href=\"#m6bd11fe064\" y=\"279\"/>\r\n      </g>\r\n     </g>\r\n     <g id=\"text_6\">\r\n      <!-- lit_rate -->\r\n      <g transform=\"translate(682.672982 319.927431)rotate(-60)scale(0.1 -0.1)\">\r\n       <use xlink:href=\"#DejaVuSans-108\"/>\r\n       <use x=\"27.783203\" xlink:href=\"#DejaVuSans-105\"/>\r\n       <use x=\"55.566406\" xlink:href=\"#DejaVuSans-116\"/>\r\n       <use x=\"94.775391\" xlink:href=\"#DejaVuSans-95\"/>\r\n       <use x=\"144.775391\" xlink:href=\"#DejaVuSans-114\"/>\r\n       <use x=\"185.888672\" xlink:href=\"#DejaVuSans-97\"/>\r\n       <use x=\"247.167969\" xlink:href=\"#DejaVuSans-116\"/>\r\n       <use x=\"286.376953\" xlink:href=\"#DejaVuSans-101\"/>\r\n      </g>\r\n     </g>\r\n    </g>\r\n    <g id=\"xtick_7\">\r\n     <g id=\"line2d_7\">\r\n      <g>\r\n       <use style=\"stroke:#000000;stroke-width:0.8;\" x=\"797.331282\" xlink:href=\"#m6bd11fe064\" y=\"279\"/>\r\n      </g>\r\n     </g>\r\n     <g id=\"text_7\">\r\n      <!-- gini_index -->\r\n      <defs>\r\n       <path d=\"M 45.40625 27.984375 \r\nQ 45.40625 37.75 41.375 43.109375 \r\nQ 37.359375 48.484375 30.078125 48.484375 \r\nQ 22.859375 48.484375 18.828125 43.109375 \r\nQ 14.796875 37.75 14.796875 27.984375 \r\nQ 14.796875 18.265625 18.828125 12.890625 \r\nQ 22.859375 7.515625 30.078125 7.515625 \r\nQ 37.359375 7.515625 41.375 12.890625 \r\nQ 45.40625 18.265625 45.40625 27.984375 \r\nz\r\nM 54.390625 6.78125 \r\nQ 54.390625 -7.171875 48.1875 -13.984375 \r\nQ 42 -20.796875 29.203125 -20.796875 \r\nQ 24.46875 -20.796875 20.265625 -20.09375 \r\nQ 16.0625 -19.390625 12.109375 -17.921875 \r\nL 12.109375 -9.1875 \r\nQ 16.0625 -11.328125 19.921875 -12.34375 \r\nQ 23.78125 -13.375 27.78125 -13.375 \r\nQ 36.625 -13.375 41.015625 -8.765625 \r\nQ 45.40625 -4.15625 45.40625 5.171875 \r\nL 45.40625 9.625 \r\nQ 42.625 4.78125 38.28125 2.390625 \r\nQ 33.9375 0 27.875 0 \r\nQ 17.828125 0 11.671875 7.65625 \r\nQ 5.515625 15.328125 5.515625 27.984375 \r\nQ 5.515625 40.671875 11.671875 48.328125 \r\nQ 17.828125 56 27.875 56 \r\nQ 33.9375 56 38.28125 53.609375 \r\nQ 42.625 51.21875 45.40625 46.390625 \r\nL 45.40625 54.6875 \r\nL 54.390625 54.6875 \r\nz\r\n\" id=\"DejaVuSans-103\"/>\r\n      </defs>\r\n      <g transform=\"translate(769.901075 333.773012)rotate(-60)scale(0.1 -0.1)\">\r\n       <use xlink:href=\"#DejaVuSans-103\"/>\r\n       <use x=\"63.476562\" xlink:href=\"#DejaVuSans-105\"/>\r\n       <use x=\"91.259766\" xlink:href=\"#DejaVuSans-110\"/>\r\n       <use x=\"154.638672\" xlink:href=\"#DejaVuSans-105\"/>\r\n       <use x=\"182.421875\" xlink:href=\"#DejaVuSans-95\"/>\r\n       <use x=\"232.421875\" xlink:href=\"#DejaVuSans-105\"/>\r\n       <use x=\"260.205078\" xlink:href=\"#DejaVuSans-110\"/>\r\n       <use x=\"323.583984\" xlink:href=\"#DejaVuSans-100\"/>\r\n       <use x=\"387.060547\" xlink:href=\"#DejaVuSans-101\"/>\r\n       <use x=\"448.568359\" xlink:href=\"#DejaVuSans-120\"/>\r\n      </g>\r\n     </g>\r\n    </g>\r\n    <g id=\"xtick_8\">\r\n     <g id=\"line2d_8\">\r\n      <g>\r\n       <use style=\"stroke:#000000;stroke-width:0.8;\" x=\"892.553125\" xlink:href=\"#m6bd11fe064\" y=\"279\"/>\r\n      </g>\r\n     </g>\r\n     <g id=\"text_8\">\r\n      <!-- refugee_asylum -->\r\n      <defs>\r\n       <path d=\"M 44.28125 53.078125 \r\nL 44.28125 44.578125 \r\nQ 40.484375 46.53125 36.375 47.5 \r\nQ 32.28125 48.484375 27.875 48.484375 \r\nQ 21.1875 48.484375 17.84375 46.4375 \r\nQ 14.5 44.390625 14.5 40.28125 \r\nQ 14.5 37.15625 16.890625 35.375 \r\nQ 19.28125 33.59375 26.515625 31.984375 \r\nL 29.59375 31.296875 \r\nQ 39.15625 29.25 43.1875 25.515625 \r\nQ 47.21875 21.78125 47.21875 15.09375 \r\nQ 47.21875 7.46875 41.1875 3.015625 \r\nQ 35.15625 -1.421875 24.609375 -1.421875 \r\nQ 20.21875 -1.421875 15.453125 -0.5625 \r\nQ 10.6875 0.296875 5.421875 2 \r\nL 5.421875 11.28125 \r\nQ 10.40625 8.6875 15.234375 7.390625 \r\nQ 20.0625 6.109375 24.8125 6.109375 \r\nQ 31.15625 6.109375 34.5625 8.28125 \r\nQ 37.984375 10.453125 37.984375 14.40625 \r\nQ 37.984375 18.0625 35.515625 20.015625 \r\nQ 33.0625 21.96875 24.703125 23.78125 \r\nL 21.578125 24.515625 \r\nQ 13.234375 26.265625 9.515625 29.90625 \r\nQ 5.8125 33.546875 5.8125 39.890625 \r\nQ 5.8125 47.609375 11.28125 51.796875 \r\nQ 16.75 56 26.8125 56 \r\nQ 31.78125 56 36.171875 55.265625 \r\nQ 40.578125 54.546875 44.28125 53.078125 \r\nz\r\n\" id=\"DejaVuSans-115\"/>\r\n      </defs>\r\n      <g transform=\"translate(850.568231 358.98247)rotate(-60)scale(0.1 -0.1)\">\r\n       <use xlink:href=\"#DejaVuSans-114\"/>\r\n       <use x=\"41.082031\" xlink:href=\"#DejaVuSans-101\"/>\r\n       <use x=\"102.605469\" xlink:href=\"#DejaVuSans-102\"/>\r\n       <use x=\"137.810547\" xlink:href=\"#DejaVuSans-117\"/>\r\n       <use x=\"201.189453\" xlink:href=\"#DejaVuSans-103\"/>\r\n       <use x=\"264.666016\" xlink:href=\"#DejaVuSans-101\"/>\r\n       <use x=\"326.189453\" xlink:href=\"#DejaVuSans-101\"/>\r\n       <use x=\"387.712891\" xlink:href=\"#DejaVuSans-95\"/>\r\n       <use x=\"437.712891\" xlink:href=\"#DejaVuSans-97\"/>\r\n       <use x=\"498.992188\" xlink:href=\"#DejaVuSans-115\"/>\r\n       <use x=\"551.091797\" xlink:href=\"#DejaVuSans-121\"/>\r\n       <use x=\"610.271484\" xlink:href=\"#DejaVuSans-108\"/>\r\n       <use x=\"638.054688\" xlink:href=\"#DejaVuSans-117\"/>\r\n       <use x=\"701.433594\" xlink:href=\"#DejaVuSans-109\"/>\r\n      </g>\r\n     </g>\r\n    </g>\r\n   </g>\r\n   <g id=\"matplotlib.axis_2\">\r\n    <g id=\"ytick_1\">\r\n     <g id=\"line2d_9\">\r\n      <defs>\r\n       <path d=\"M 0 0 \r\nL -3.5 0 \r\n\" id=\"mfce9bb1a69\" style=\"stroke:#000000;stroke-width:0.8;\"/>\r\n      </defs>\r\n      <g>\r\n       <use style=\"stroke:#000000;stroke-width:0.8;\" x=\"55.553125\" xlink:href=\"#mfce9bb1a69\" y=\"266.009865\"/>\r\n      </g>\r\n     </g>\r\n     <g id=\"text_9\">\r\n      <!-- 0.00000 -->\r\n      <defs>\r\n       <path d=\"M 31.78125 66.40625 \r\nQ 24.171875 66.40625 20.328125 58.90625 \r\nQ 16.5 51.421875 16.5 36.375 \r\nQ 16.5 21.390625 20.328125 13.890625 \r\nQ 24.171875 6.390625 31.78125 6.390625 \r\nQ 39.453125 6.390625 43.28125 13.890625 \r\nQ 47.125 21.390625 47.125 36.375 \r\nQ 47.125 51.421875 43.28125 58.90625 \r\nQ 39.453125 66.40625 31.78125 66.40625 \r\nz\r\nM 31.78125 74.21875 \r\nQ 44.046875 74.21875 50.515625 64.515625 \r\nQ 56.984375 54.828125 56.984375 36.375 \r\nQ 56.984375 17.96875 50.515625 8.265625 \r\nQ 44.046875 -1.421875 31.78125 -1.421875 \r\nQ 19.53125 -1.421875 13.0625 8.265625 \r\nQ 6.59375 17.96875 6.59375 36.375 \r\nQ 6.59375 54.828125 13.0625 64.515625 \r\nQ 19.53125 74.21875 31.78125 74.21875 \r\nz\r\n\" id=\"DejaVuSans-48\"/>\r\n       <path d=\"M 10.6875 12.40625 \r\nL 21 12.40625 \r\nL 21 0 \r\nL 10.6875 0 \r\nz\r\n\" id=\"DejaVuSans-46\"/>\r\n      </defs>\r\n      <g transform=\"translate(7.2 269.809083)scale(0.1 -0.1)\">\r\n       <use xlink:href=\"#DejaVuSans-48\"/>\r\n       <use x=\"63.623047\" xlink:href=\"#DejaVuSans-46\"/>\r\n       <use x=\"95.410156\" xlink:href=\"#DejaVuSans-48\"/>\r\n       <use x=\"159.033203\" xlink:href=\"#DejaVuSans-48\"/>\r\n       <use x=\"222.65625\" xlink:href=\"#DejaVuSans-48\"/>\r\n       <use x=\"286.279297\" xlink:href=\"#DejaVuSans-48\"/>\r\n       <use x=\"349.902344\" xlink:href=\"#DejaVuSans-48\"/>\r\n      </g>\r\n     </g>\r\n    </g>\r\n    <g id=\"ytick_2\">\r\n     <g id=\"line2d_10\">\r\n      <g>\r\n       <use style=\"stroke:#000000;stroke-width:0.8;\" x=\"55.553125\" xlink:href=\"#mfce9bb1a69\" y=\"234.293775\"/>\r\n      </g>\r\n     </g>\r\n     <g id=\"text_10\">\r\n      <!-- 0.00005 -->\r\n      <defs>\r\n       <path d=\"M 10.796875 72.90625 \r\nL 49.515625 72.90625 \r\nL 49.515625 64.59375 \r\nL 19.828125 64.59375 \r\nL 19.828125 46.734375 \r\nQ 21.96875 47.46875 24.109375 47.828125 \r\nQ 26.265625 48.1875 28.421875 48.1875 \r\nQ 40.625 48.1875 47.75 41.5 \r\nQ 54.890625 34.8125 54.890625 23.390625 \r\nQ 54.890625 11.625 47.5625 5.09375 \r\nQ 40.234375 -1.421875 26.90625 -1.421875 \r\nQ 22.3125 -1.421875 17.546875 -0.640625 \r\nQ 12.796875 0.140625 7.71875 1.703125 \r\nL 7.71875 11.625 \r\nQ 12.109375 9.234375 16.796875 8.0625 \r\nQ 21.484375 6.890625 26.703125 6.890625 \r\nQ 35.15625 6.890625 40.078125 11.328125 \r\nQ 45.015625 15.765625 45.015625 23.390625 \r\nQ 45.015625 31 40.078125 35.4375 \r\nQ 35.15625 39.890625 26.703125 39.890625 \r\nQ 22.75 39.890625 18.8125 39.015625 \r\nQ 14.890625 38.140625 10.796875 36.28125 \r\nz\r\n\" id=\"DejaVuSans-53\"/>\r\n      </defs>\r\n      <g transform=\"translate(7.2 238.092994)scale(0.1 -0.1)\">\r\n       <use xlink:href=\"#DejaVuSans-48\"/>\r\n       <use x=\"63.623047\" xlink:href=\"#DejaVuSans-46\"/>\r\n       <use x=\"95.410156\" xlink:href=\"#DejaVuSans-48\"/>\r\n       <use x=\"159.033203\" xlink:href=\"#DejaVuSans-48\"/>\r\n       <use x=\"222.65625\" xlink:href=\"#DejaVuSans-48\"/>\r\n       <use x=\"286.279297\" xlink:href=\"#DejaVuSans-48\"/>\r\n       <use x=\"349.902344\" xlink:href=\"#DejaVuSans-53\"/>\r\n      </g>\r\n     </g>\r\n    </g>\r\n    <g id=\"ytick_3\">\r\n     <g id=\"line2d_11\">\r\n      <g>\r\n       <use style=\"stroke:#000000;stroke-width:0.8;\" x=\"55.553125\" xlink:href=\"#mfce9bb1a69\" y=\"202.577685\"/>\r\n      </g>\r\n     </g>\r\n     <g id=\"text_11\">\r\n      <!-- 0.00010 -->\r\n      <defs>\r\n       <path d=\"M 12.40625 8.296875 \r\nL 28.515625 8.296875 \r\nL 28.515625 63.921875 \r\nL 10.984375 60.40625 \r\nL 10.984375 69.390625 \r\nL 28.421875 72.90625 \r\nL 38.28125 72.90625 \r\nL 38.28125 8.296875 \r\nL 54.390625 8.296875 \r\nL 54.390625 0 \r\nL 12.40625 0 \r\nz\r\n\" id=\"DejaVuSans-49\"/>\r\n      </defs>\r\n      <g transform=\"translate(7.2 206.376904)scale(0.1 -0.1)\">\r\n       <use xlink:href=\"#DejaVuSans-48\"/>\r\n       <use x=\"63.623047\" xlink:href=\"#DejaVuSans-46\"/>\r\n       <use x=\"95.410156\" xlink:href=\"#DejaVuSans-48\"/>\r\n       <use x=\"159.033203\" xlink:href=\"#DejaVuSans-48\"/>\r\n       <use x=\"222.65625\" xlink:href=\"#DejaVuSans-48\"/>\r\n       <use x=\"286.279297\" xlink:href=\"#DejaVuSans-49\"/>\r\n       <use x=\"349.902344\" xlink:href=\"#DejaVuSans-48\"/>\r\n      </g>\r\n     </g>\r\n    </g>\r\n    <g id=\"ytick_4\">\r\n     <g id=\"line2d_12\">\r\n      <g>\r\n       <use style=\"stroke:#000000;stroke-width:0.8;\" x=\"55.553125\" xlink:href=\"#mfce9bb1a69\" y=\"170.861596\"/>\r\n      </g>\r\n     </g>\r\n     <g id=\"text_12\">\r\n      <!-- 0.00015 -->\r\n      <g transform=\"translate(7.2 174.660814)scale(0.1 -0.1)\">\r\n       <use xlink:href=\"#DejaVuSans-48\"/>\r\n       <use x=\"63.623047\" xlink:href=\"#DejaVuSans-46\"/>\r\n       <use x=\"95.410156\" xlink:href=\"#DejaVuSans-48\"/>\r\n       <use x=\"159.033203\" xlink:href=\"#DejaVuSans-48\"/>\r\n       <use x=\"222.65625\" xlink:href=\"#DejaVuSans-48\"/>\r\n       <use x=\"286.279297\" xlink:href=\"#DejaVuSans-49\"/>\r\n       <use x=\"349.902344\" xlink:href=\"#DejaVuSans-53\"/>\r\n      </g>\r\n     </g>\r\n    </g>\r\n    <g id=\"ytick_5\">\r\n     <g id=\"line2d_13\">\r\n      <g>\r\n       <use style=\"stroke:#000000;stroke-width:0.8;\" x=\"55.553125\" xlink:href=\"#mfce9bb1a69\" y=\"139.145506\"/>\r\n      </g>\r\n     </g>\r\n     <g id=\"text_13\">\r\n      <!-- 0.00020 -->\r\n      <defs>\r\n       <path d=\"M 19.1875 8.296875 \r\nL 53.609375 8.296875 \r\nL 53.609375 0 \r\nL 7.328125 0 \r\nL 7.328125 8.296875 \r\nQ 12.9375 14.109375 22.625 23.890625 \r\nQ 32.328125 33.6875 34.8125 36.53125 \r\nQ 39.546875 41.84375 41.421875 45.53125 \r\nQ 43.3125 49.21875 43.3125 52.78125 \r\nQ 43.3125 58.59375 39.234375 62.25 \r\nQ 35.15625 65.921875 28.609375 65.921875 \r\nQ 23.96875 65.921875 18.8125 64.3125 \r\nQ 13.671875 62.703125 7.8125 59.421875 \r\nL 7.8125 69.390625 \r\nQ 13.765625 71.78125 18.9375 73 \r\nQ 24.125 74.21875 28.421875 74.21875 \r\nQ 39.75 74.21875 46.484375 68.546875 \r\nQ 53.21875 62.890625 53.21875 53.421875 \r\nQ 53.21875 48.921875 51.53125 44.890625 \r\nQ 49.859375 40.875 45.40625 35.40625 \r\nQ 44.1875 33.984375 37.640625 27.21875 \r\nQ 31.109375 20.453125 19.1875 8.296875 \r\nz\r\n\" id=\"DejaVuSans-50\"/>\r\n      </defs>\r\n      <g transform=\"translate(7.2 142.944725)scale(0.1 -0.1)\">\r\n       <use xlink:href=\"#DejaVuSans-48\"/>\r\n       <use x=\"63.623047\" xlink:href=\"#DejaVuSans-46\"/>\r\n       <use x=\"95.410156\" xlink:href=\"#DejaVuSans-48\"/>\r\n       <use x=\"159.033203\" xlink:href=\"#DejaVuSans-48\"/>\r\n       <use x=\"222.65625\" xlink:href=\"#DejaVuSans-48\"/>\r\n       <use x=\"286.279297\" xlink:href=\"#DejaVuSans-50\"/>\r\n       <use x=\"349.902344\" xlink:href=\"#DejaVuSans-48\"/>\r\n      </g>\r\n     </g>\r\n    </g>\r\n    <g id=\"ytick_6\">\r\n     <g id=\"line2d_14\">\r\n      <g>\r\n       <use style=\"stroke:#000000;stroke-width:0.8;\" x=\"55.553125\" xlink:href=\"#mfce9bb1a69\" y=\"107.429416\"/>\r\n      </g>\r\n     </g>\r\n     <g id=\"text_14\">\r\n      <!-- 0.00025 -->\r\n      <g transform=\"translate(7.2 111.228635)scale(0.1 -0.1)\">\r\n       <use xlink:href=\"#DejaVuSans-48\"/>\r\n       <use x=\"63.623047\" xlink:href=\"#DejaVuSans-46\"/>\r\n       <use x=\"95.410156\" xlink:href=\"#DejaVuSans-48\"/>\r\n       <use x=\"159.033203\" xlink:href=\"#DejaVuSans-48\"/>\r\n       <use x=\"222.65625\" xlink:href=\"#DejaVuSans-48\"/>\r\n       <use x=\"286.279297\" xlink:href=\"#DejaVuSans-50\"/>\r\n       <use x=\"349.902344\" xlink:href=\"#DejaVuSans-53\"/>\r\n      </g>\r\n     </g>\r\n    </g>\r\n    <g id=\"ytick_7\">\r\n     <g id=\"line2d_15\">\r\n      <g>\r\n       <use style=\"stroke:#000000;stroke-width:0.8;\" x=\"55.553125\" xlink:href=\"#mfce9bb1a69\" y=\"75.713327\"/>\r\n      </g>\r\n     </g>\r\n     <g id=\"text_15\">\r\n      <!-- 0.00030 -->\r\n      <defs>\r\n       <path d=\"M 40.578125 39.3125 \r\nQ 47.65625 37.796875 51.625 33 \r\nQ 55.609375 28.21875 55.609375 21.1875 \r\nQ 55.609375 10.40625 48.1875 4.484375 \r\nQ 40.765625 -1.421875 27.09375 -1.421875 \r\nQ 22.515625 -1.421875 17.65625 -0.515625 \r\nQ 12.796875 0.390625 7.625 2.203125 \r\nL 7.625 11.71875 \r\nQ 11.71875 9.328125 16.59375 8.109375 \r\nQ 21.484375 6.890625 26.8125 6.890625 \r\nQ 36.078125 6.890625 40.9375 10.546875 \r\nQ 45.796875 14.203125 45.796875 21.1875 \r\nQ 45.796875 27.640625 41.28125 31.265625 \r\nQ 36.765625 34.90625 28.71875 34.90625 \r\nL 20.21875 34.90625 \r\nL 20.21875 43.015625 \r\nL 29.109375 43.015625 \r\nQ 36.375 43.015625 40.234375 45.921875 \r\nQ 44.09375 48.828125 44.09375 54.296875 \r\nQ 44.09375 59.90625 40.109375 62.90625 \r\nQ 36.140625 65.921875 28.71875 65.921875 \r\nQ 24.65625 65.921875 20.015625 65.03125 \r\nQ 15.375 64.15625 9.8125 62.3125 \r\nL 9.8125 71.09375 \r\nQ 15.4375 72.65625 20.34375 73.4375 \r\nQ 25.25 74.21875 29.59375 74.21875 \r\nQ 40.828125 74.21875 47.359375 69.109375 \r\nQ 53.90625 64.015625 53.90625 55.328125 \r\nQ 53.90625 49.265625 50.4375 45.09375 \r\nQ 46.96875 40.921875 40.578125 39.3125 \r\nz\r\n\" id=\"DejaVuSans-51\"/>\r\n      </defs>\r\n      <g transform=\"translate(7.2 79.512545)scale(0.1 -0.1)\">\r\n       <use xlink:href=\"#DejaVuSans-48\"/>\r\n       <use x=\"63.623047\" xlink:href=\"#DejaVuSans-46\"/>\r\n       <use x=\"95.410156\" xlink:href=\"#DejaVuSans-48\"/>\r\n       <use x=\"159.033203\" xlink:href=\"#DejaVuSans-48\"/>\r\n       <use x=\"222.65625\" xlink:href=\"#DejaVuSans-48\"/>\r\n       <use x=\"286.279297\" xlink:href=\"#DejaVuSans-51\"/>\r\n       <use x=\"349.902344\" xlink:href=\"#DejaVuSans-48\"/>\r\n      </g>\r\n     </g>\r\n    </g>\r\n    <g id=\"ytick_8\">\r\n     <g id=\"line2d_16\">\r\n      <g>\r\n       <use style=\"stroke:#000000;stroke-width:0.8;\" x=\"55.553125\" xlink:href=\"#mfce9bb1a69\" y=\"43.997237\"/>\r\n      </g>\r\n     </g>\r\n     <g id=\"text_16\">\r\n      <!-- 0.00035 -->\r\n      <g transform=\"translate(7.2 47.796456)scale(0.1 -0.1)\">\r\n       <use xlink:href=\"#DejaVuSans-48\"/>\r\n       <use x=\"63.623047\" xlink:href=\"#DejaVuSans-46\"/>\r\n       <use x=\"95.410156\" xlink:href=\"#DejaVuSans-48\"/>\r\n       <use x=\"159.033203\" xlink:href=\"#DejaVuSans-48\"/>\r\n       <use x=\"222.65625\" xlink:href=\"#DejaVuSans-48\"/>\r\n       <use x=\"286.279297\" xlink:href=\"#DejaVuSans-51\"/>\r\n       <use x=\"349.902344\" xlink:href=\"#DejaVuSans-53\"/>\r\n      </g>\r\n     </g>\r\n    </g>\r\n    <g id=\"ytick_9\">\r\n     <g id=\"line2d_17\">\r\n      <g>\r\n       <use style=\"stroke:#000000;stroke-width:0.8;\" x=\"55.553125\" xlink:href=\"#mfce9bb1a69\" y=\"12.281147\"/>\r\n      </g>\r\n     </g>\r\n     <g id=\"text_17\">\r\n      <!-- 0.00040 -->\r\n      <defs>\r\n       <path d=\"M 37.796875 64.3125 \r\nL 12.890625 25.390625 \r\nL 37.796875 25.390625 \r\nz\r\nM 35.203125 72.90625 \r\nL 47.609375 72.90625 \r\nL 47.609375 25.390625 \r\nL 58.015625 25.390625 \r\nL 58.015625 17.1875 \r\nL 47.609375 17.1875 \r\nL 47.609375 0 \r\nL 37.796875 0 \r\nL 37.796875 17.1875 \r\nL 4.890625 17.1875 \r\nL 4.890625 26.703125 \r\nz\r\n\" id=\"DejaVuSans-52\"/>\r\n      </defs>\r\n      <g transform=\"translate(7.2 16.080366)scale(0.1 -0.1)\">\r\n       <use xlink:href=\"#DejaVuSans-48\"/>\r\n       <use x=\"63.623047\" xlink:href=\"#DejaVuSans-46\"/>\r\n       <use x=\"95.410156\" xlink:href=\"#DejaVuSans-48\"/>\r\n       <use x=\"159.033203\" xlink:href=\"#DejaVuSans-48\"/>\r\n       <use x=\"222.65625\" xlink:href=\"#DejaVuSans-48\"/>\r\n       <use x=\"286.279297\" xlink:href=\"#DejaVuSans-52\"/>\r\n       <use x=\"349.902344\" xlink:href=\"#DejaVuSans-48\"/>\r\n      </g>\r\n     </g>\r\n    </g>\r\n   </g>\r\n   <g id=\"patch_11\">\r\n    <path d=\"M 55.553125 279 \r\nL 55.553125 7.2 \r\n\" style=\"fill:none;stroke:#000000;stroke-linecap:square;stroke-linejoin:miter;stroke-width:0.8;\"/>\r\n   </g>\r\n   <g id=\"patch_12\">\r\n    <path d=\"M 892.553125 279 \r\nL 892.553125 7.2 \r\n\" style=\"fill:none;stroke:#000000;stroke-linecap:square;stroke-linejoin:miter;stroke-width:0.8;\"/>\r\n   </g>\r\n   <g id=\"patch_13\">\r\n    <path d=\"M 55.553125 279 \r\nL 892.553125 279 \r\n\" style=\"fill:none;stroke:#000000;stroke-linecap:square;stroke-linejoin:miter;stroke-width:0.8;\"/>\r\n   </g>\r\n   <g id=\"patch_14\">\r\n    <path d=\"M 55.553125 7.2 \r\nL 892.553125 7.2 \r\n\" style=\"fill:none;stroke:#000000;stroke-linecap:square;stroke-linejoin:miter;stroke-width:0.8;\"/>\r\n   </g>\r\n  </g>\r\n </g>\r\n <defs>\r\n  <clipPath id=\"p6aae88a7ba\">\r\n   <rect height=\"271.8\" width=\"837\" x=\"55.553125\" y=\"7.2\"/>\r\n  </clipPath>\r\n </defs>\r\n</svg>\r\n",
      "image/png": "[encoded data removed]"
     },
     "metadata": {
      "needs_background": "light"
     }
    }
   ],
   "source": [
    "def plot_coefficients(model, feature_names, top_features=4):\n",
    " coef = model.coef_.ravel()\n",
    " top_positive_coefficients = np.argsort(coef)[-top_features:]\n",
    " top_negative_coefficients = np.argsort(coef)[:top_features]\n",
    " top_coefficients = np.hstack([top_negative_coefficients, top_positive_coefficients])\n",
    " # create plot\n",
    " plt.figure(figsize=(15, 5))\n",
    " colors = ['red' if c < 0 else 'blue' for c in coef[top_coefficients]]\n",
    " plt.bar(np.arange(2 * top_features), coef[top_coefficients], color=colors)\n",
    " feature_names = np.array(feature_names)\n",
    " plt.xticks(np.arange(1, 1 + 2 * top_features), feature_names[top_coefficients], rotation=60, ha='right')\n",
    "#  plt.xlim(-1,1)\n",
    " plt.show()\n",
    "\n",
    "plot_coefficients(linSVR, attributes)"
   ]
  },
  {
   "cell_type": "code",
   "execution_count": 53,
   "metadata": {},
   "outputs": [
    {
     "output_type": "execute_result",
     "data": {
      "text/plain": [
       "[1.1969621591070794e-07,\n",
       " 4.379676967886106e-07,\n",
       " -1.1750078918834596e-07,\n",
       " 2.2171958712923874e-07,\n",
       " 2.844375648216469e-09,\n",
       " 6.50605582085156e-08,\n",
       " 3.8049721222859444e-07,\n",
       " -1.0019992168281784e-06,\n",
       " 0.00038853358330293264]"
      ]
     },
     "metadata": {},
     "execution_count": 53
    }
   ],
   "source": [
    "weights = list(linSVR.coef_.ravel())\n",
    "weights"
   ]
  },
  {
   "cell_type": "code",
   "execution_count": 54,
   "metadata": {},
   "outputs": [
    {
     "output_type": "execute_result",
     "data": {
      "text/plain": [
       "-4.507110607725664"
      ]
     },
     "metadata": {},
     "execution_count": 54
    }
   ],
   "source": [
    "# linSVR.predict(X_test)\n",
    "linSVR.score(X_test,y_test) # lmao this is so bad"
   ]
  },
  {
   "cell_type": "code",
   "execution_count": null,
   "metadata": {},
   "outputs": [],
   "source": []
  }
 ]
}