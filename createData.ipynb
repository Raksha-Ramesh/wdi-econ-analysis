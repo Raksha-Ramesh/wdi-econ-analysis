{
 "metadata": {
  "language_info": {
   "codemirror_mode": {
    "name": "ipython",
    "version": 3
   },
   "file_extension": ".py",
   "mimetype": "text/x-python",
   "name": "python",
   "nbconvert_exporter": "python",
   "pygments_lexer": "ipython3",
   "version": "3.7.6-final"
  },
  "orig_nbformat": 2,
  "kernelspec": {
   "name": "python3",
   "display_name": "Python 3"
  }
 },
 "nbformat": 4,
 "nbformat_minor": 2,
 "cells": [
  {
   "cell_type": "code",
   "execution_count": 1,
   "metadata": {},
   "outputs": [],
   "source": [
    "import pandas as pd \n",
    "import numpy as np \n",
    "import matplotlib.pyplot as plt \n",
    "import os "
   ]
  },
  {
   "cell_type": "code",
   "execution_count": 2,
   "metadata": {},
   "outputs": [],
   "source": [
    "indicatorList = pd.read_csv('Indicator.csv')\n",
    "\n",
    "indicatorsToPick = indicatorList[indicatorList['included']==1]\n",
    "gdp_percap = indicatorsToPick[indicatorsToPick['feature_name']=='gdp_percap']\n",
    "indicatorsToPick = indicatorsToPick.drop(index=2) # GDP is Index 2"
   ]
  },
  {
   "cell_type": "code",
   "execution_count": 3,
   "metadata": {},
   "outputs": [
    {
     "output_type": "execute_result",
     "data": {
      "text/plain": [
       "       Indicator_Code                                     Indicator_Name  \\\n",
       "0         SP.POP.GROW                           Population Growth (in %)   \n",
       "1         SI.POV.GINI                                         Gini Index   \n",
       "7      SL.UEM.TOTL.ZS  Unemployment, total (% of labour force) (model...   \n",
       "10     SP.DYN.LE00.IN            Life expectancy at birth, total (years)   \n",
       "11        SI.POV.DDAY  Poverty headcount ratio at $1.90 a day (% of p...   \n",
       "12  MS.MIL.XPND.GD.ZS                    Military expenditure (% of GDP)   \n",
       "13     SE.ADT.LITR.ZS                         Literacy Rate, adult total   \n",
       "14     SL.TLF.TOTL.IN                                Labour force, total   \n",
       "15        SM.POP.REFG            Refguee population by country of asylum   \n",
       "\n",
       "    included    feature_name  \n",
       "0          1        pop_grow  \n",
       "1          1      gini_index  \n",
       "7          1           unemp  \n",
       "10         1        life_exp  \n",
       "11         1         poverty  \n",
       "12         1        mil_xpnd  \n",
       "13         1        lit_rate  \n",
       "14         1    labour_force  \n",
       "15         1  refugee_asylum  "
      ],
      "text/html": "<div>\n<style scoped>\n    .dataframe tbody tr th:only-of-type {\n        vertical-align: middle;\n    }\n\n    .dataframe tbody tr th {\n        vertical-align: top;\n    }\n\n    .dataframe thead th {\n        text-align: right;\n    }\n</style>\n<table border=\"1\" class=\"dataframe\">\n  <thead>\n    <tr style=\"text-align: right;\">\n      <th></th>\n      <th>Indicator_Code</th>\n      <th>Indicator_Name</th>\n      <th>included</th>\n      <th>feature_name</th>\n    </tr>\n  </thead>\n  <tbody>\n    <tr>\n      <th>0</th>\n      <td>SP.POP.GROW</td>\n      <td>Population Growth (in %)</td>\n      <td>1</td>\n      <td>pop_grow</td>\n    </tr>\n    <tr>\n      <th>1</th>\n      <td>SI.POV.GINI</td>\n      <td>Gini Index</td>\n      <td>1</td>\n      <td>gini_index</td>\n    </tr>\n    <tr>\n      <th>7</th>\n      <td>SL.UEM.TOTL.ZS</td>\n      <td>Unemployment, total (% of labour force) (model...</td>\n      <td>1</td>\n      <td>unemp</td>\n    </tr>\n    <tr>\n      <th>10</th>\n      <td>SP.DYN.LE00.IN</td>\n      <td>Life expectancy at birth, total (years)</td>\n      <td>1</td>\n      <td>life_exp</td>\n    </tr>\n    <tr>\n      <th>11</th>\n      <td>SI.POV.DDAY</td>\n      <td>Poverty headcount ratio at $1.90 a day (% of p...</td>\n      <td>1</td>\n      <td>poverty</td>\n    </tr>\n    <tr>\n      <th>12</th>\n      <td>MS.MIL.XPND.GD.ZS</td>\n      <td>Military expenditure (% of GDP)</td>\n      <td>1</td>\n      <td>mil_xpnd</td>\n    </tr>\n    <tr>\n      <th>13</th>\n      <td>SE.ADT.LITR.ZS</td>\n      <td>Literacy Rate, adult total</td>\n      <td>1</td>\n      <td>lit_rate</td>\n    </tr>\n    <tr>\n      <th>14</th>\n      <td>SL.TLF.TOTL.IN</td>\n      <td>Labour force, total</td>\n      <td>1</td>\n      <td>labour_force</td>\n    </tr>\n    <tr>\n      <th>15</th>\n      <td>SM.POP.REFG</td>\n      <td>Refguee population by country of asylum</td>\n      <td>1</td>\n      <td>refugee_asylum</td>\n    </tr>\n  </tbody>\n</table>\n</div>"
     },
     "metadata": {},
     "execution_count": 3
    }
   ],
   "source": [
    "indicatorsToPick.head(10)"
   ]
  },
  {
   "cell_type": "code",
   "execution_count": 4,
   "metadata": {},
   "outputs": [],
   "source": [
    "def getDF(code):\n",
    "    path = os.getcwd() + \"\\Datasets\\\\\"\n",
    "    newPath = path + code\n",
    "    df = pd.read_csv(newPath + \"\\\\\" + os.listdir(newPath)[0])\n",
    "    return df"
   ]
  },
  {
   "cell_type": "code",
   "execution_count": 5,
   "metadata": {},
   "outputs": [],
   "source": [
    "indicators = list(indicatorsToPick.Indicator_Code)\n",
    "features = []\n",
    "target = getDF(\"NY.GDP.PCAP.KD.ZG\")\n",
    "\n",
    "for i in indicators:\n",
    "    features.append(getDF(i))"
   ]
  },
  {
   "cell_type": "code",
   "execution_count": 6,
   "metadata": {},
   "outputs": [],
   "source": [
    "attributes = list(indicatorsToPick.feature_name)"
   ]
  },
  {
   "cell_type": "code",
   "execution_count": 7,
   "metadata": {},
   "outputs": [],
   "source": [
    "Developed = set([\"Andorra\",\"Austria\",\"Belgium\",\"Cyprus\",\"Czech Republic\",\"Denmark\",\"Estonia\",\"Faroe Islands\",\"Finland\",\"France\",\"Germany\",\"Greece\",\"Guernsey\",\"Holy See\",\"Iceland\",\"Ireland\",\"Italy\",\"Jersey\",\"Latvia\",\"Liechtenstein\",\"Lithuania\",\"Luxembourg\",\"Malta\",\"Monaco\",\"Netherlands\",\"Norway\",\"Portugal\",\"San Marino\",\"Slovakia\",\"Slovenia\",\"Spain\",\"Sweden\",\"Switzerland\",\"United Kingdom\",\"Hong Kong\",\"Israel\",\"Japan\",\"Macau\",\"Singapore\",\"South Korea\",\"Taiwan\",\"Bermuda\",\"Canada\",\"Puerto Rico\",\"United States\",\"Australia\",\"New Zealand\"])\n",
    "\n",
    "Developing = set(features[0]['Country Name'])\n",
    "Developing -= Developed"
   ]
  },
  {
   "cell_type": "code",
   "execution_count": 8,
   "metadata": {},
   "outputs": [],
   "source": [
    "dev = [None]*(len(features)+1)\n",
    "dev1 = [None]*(len(features)+1)\n",
    "n = len(features)\n",
    "\n",
    "for i in range(n):\n",
    "    dev[i] = features[i][features[i]['Country Name'].isin(Developed)]\n",
    "    dev1[i] = features[i][features[i]['Country Name'].isin(Developing)]\n",
    "\n",
    "# i+=1\n",
    "dev[n] = target[target['Country Name'].isin(Developed)]\n",
    "dev1[n] = target[target['Country Name'].isin(Developing)]\n"
   ]
  },
  {
   "cell_type": "code",
   "execution_count": 9,
   "metadata": {},
   "outputs": [],
   "source": [
    "def createDataset(year,dfList):\n",
    "    factors = [dfList[0][\"Country Name\"]]\n",
    "    for x in dfList:\n",
    "        factors.append(x[year])\n",
    "    df = pd.concat(factors,axis =1, sort = False)\n",
    "    # print(df.head)\n",
    "    df.columns = ['country'] + attributes + ['gdp_percap']\n",
    "    total_rows = max(df.count())\n",
    "    \n",
    "    return df"
   ]
  },
  {
   "cell_type": "code",
   "execution_count": 10,
   "metadata": {},
   "outputs": [],
   "source": [
    "years = [str(i) for i in range(2010,2018)]\n",
    "developed = [createDataset(i,dev) for i in years]\n",
    "developing = [createDataset(i,dev1) for i in years]"
   ]
  },
  {
   "source": [
    "## Cleaning the Data \n",
    "\n",
    "- Removing all rows with missing values for GDP\n",
    "- Median replacement for all other parameters"
   ],
   "cell_type": "markdown",
   "metadata": {}
  },
  {
   "source": [
    "### 1. Removing all rows that have NaNs/missing values in the target attribute"
   ],
   "cell_type": "markdown",
   "metadata": {}
  },
  {
   "cell_type": "code",
   "execution_count": 11,
   "metadata": {},
   "outputs": [
    {
     "output_type": "execute_result",
     "data": {
      "text/plain": [
       "      country  pop_grow  gini_index  unemp   life_exp  poverty  mil_xpnd  \\\n",
       "4     Andorra -1.529058         NaN    NaN        NaN      NaN       NaN   \n",
       "11  Australia  1.439217         NaN  6.054  82.400000      NaN  1.950601   \n",
       "12    Austria  1.120993        30.5  5.723  81.190244      0.7  0.698138   \n",
       "15    Belgium  0.579446        27.7  8.482  80.992683      0.1  0.921668   \n",
       "33     Canada  0.746339         NaN  6.906  81.900000      NaN  1.150126   \n",
       "\n",
       "    lit_rate  labour_force  refugee_asylum  gdp_percap  \n",
       "4        NaN           NaN             NaN    2.997046  \n",
       "11       NaN    12585539.0         36917.0    0.732400  \n",
       "12       NaN     4460833.0         72198.0   -0.111540  \n",
       "15       NaN     5000910.0         35302.0    1.443273  \n",
       "33       NaN    19679325.0        135890.0   -0.089286  "
      ],
      "text/html": "<div>\n<style scoped>\n    .dataframe tbody tr th:only-of-type {\n        vertical-align: middle;\n    }\n\n    .dataframe tbody tr th {\n        vertical-align: top;\n    }\n\n    .dataframe thead th {\n        text-align: right;\n    }\n</style>\n<table border=\"1\" class=\"dataframe\">\n  <thead>\n    <tr style=\"text-align: right;\">\n      <th></th>\n      <th>country</th>\n      <th>pop_grow</th>\n      <th>gini_index</th>\n      <th>unemp</th>\n      <th>life_exp</th>\n      <th>poverty</th>\n      <th>mil_xpnd</th>\n      <th>lit_rate</th>\n      <th>labour_force</th>\n      <th>refugee_asylum</th>\n      <th>gdp_percap</th>\n    </tr>\n  </thead>\n  <tbody>\n    <tr>\n      <th>4</th>\n      <td>Andorra</td>\n      <td>-1.529058</td>\n      <td>NaN</td>\n      <td>NaN</td>\n      <td>NaN</td>\n      <td>NaN</td>\n      <td>NaN</td>\n      <td>NaN</td>\n      <td>NaN</td>\n      <td>NaN</td>\n      <td>2.997046</td>\n    </tr>\n    <tr>\n      <th>11</th>\n      <td>Australia</td>\n      <td>1.439217</td>\n      <td>NaN</td>\n      <td>6.054</td>\n      <td>82.400000</td>\n      <td>NaN</td>\n      <td>1.950601</td>\n      <td>NaN</td>\n      <td>12585539.0</td>\n      <td>36917.0</td>\n      <td>0.732400</td>\n    </tr>\n    <tr>\n      <th>12</th>\n      <td>Austria</td>\n      <td>1.120993</td>\n      <td>30.5</td>\n      <td>5.723</td>\n      <td>81.190244</td>\n      <td>0.7</td>\n      <td>0.698138</td>\n      <td>NaN</td>\n      <td>4460833.0</td>\n      <td>72198.0</td>\n      <td>-0.111540</td>\n    </tr>\n    <tr>\n      <th>15</th>\n      <td>Belgium</td>\n      <td>0.579446</td>\n      <td>27.7</td>\n      <td>8.482</td>\n      <td>80.992683</td>\n      <td>0.1</td>\n      <td>0.921668</td>\n      <td>NaN</td>\n      <td>5000910.0</td>\n      <td>35302.0</td>\n      <td>1.443273</td>\n    </tr>\n    <tr>\n      <th>33</th>\n      <td>Canada</td>\n      <td>0.746339</td>\n      <td>NaN</td>\n      <td>6.906</td>\n      <td>81.900000</td>\n      <td>NaN</td>\n      <td>1.150126</td>\n      <td>NaN</td>\n      <td>19679325.0</td>\n      <td>135890.0</td>\n      <td>-0.089286</td>\n    </tr>\n  </tbody>\n</table>\n</div>"
     },
     "metadata": {},
     "execution_count": 11
    }
   ],
   "source": [
    "for i in range(len(years)):\n",
    "    developed[i] = developed[i].dropna(subset=[\"gdp_percap\"])\n",
    "    developing[i] = developing[i].dropna(subset = [\"gdp_percap\"])\n",
    "developed[5].head()\n",
    "\n"
   ]
  },
  {
   "source": [
    "### 2. Median replacement of missing values for the other features"
   ],
   "cell_type": "markdown",
   "metadata": {}
  },
  {
   "cell_type": "code",
   "execution_count": 12,
   "metadata": {},
   "outputs": [],
   "source": [
    "def cleanData(df):\n",
    "\n",
    "    for i in range(len(years)):\n",
    "        #print(\"\\n\\n\\n\",years[i])\n",
    "        for j in df[i].iloc[:,1:]:\n",
    "            df[i][j] = df[i][j].fillna(np.nanmedian(df[i][j]))\n",
    "            #print(j,np.nanmedian(df[i][j]))"
   ]
  },
  {
   "cell_type": "code",
   "execution_count": 13,
   "metadata": {},
   "outputs": [],
   "source": [
    "cleanData(developed)\n",
    "cleanData(developing)"
   ]
  },
  {
   "cell_type": "code",
   "execution_count": 14,
   "metadata": {},
   "outputs": [],
   "source": [
    "def checkLinearRelationship(df):\n",
    "    for j in df.iloc[:,1:-1]:\n",
    "        plt.title(\"GDP vs \"+j)\n",
    "        plt.scatter(df[j],df.gdp_percap)\n",
    "        plt.show()"
   ]
  },
  {
   "cell_type": "code",
   "execution_count": null,
   "metadata": {},
   "outputs": [],
   "source": []
  },
  {
   "source": [
    "## Sparse PCA for Developed and Developing \n",
    "\n",
    "Done to check what are the important features for each to try and bring about a comparison"
   ],
   "cell_type": "markdown",
   "metadata": {}
  },
  {
   "cell_type": "code",
   "execution_count": 24,
   "metadata": {},
   "outputs": [
    {
     "output_type": "execute_result",
     "data": {
      "text/plain": [
       "(37, 9)"
      ]
     },
     "metadata": {},
     "execution_count": 24
    }
   ],
   "source": [
    "X_dev = developed[0].drop(columns=['country','gdp_percap'])\n",
    "X_deving = developing[0].drop(columns=['country','gdp_percap'])\n",
    "\n",
    "X_dev.shape"
   ]
  },
  {
   "cell_type": "code",
   "execution_count": 16,
   "metadata": {},
   "outputs": [],
   "source": [
    "from sklearn.decomposition import SparsePCA\n",
    "\n",
    "PCA = SparsePCA(n_components=5, random_state=0)\n",
    "dev2010New = PCA.fit_transform(X_dev)\n",
    "paramdev2010 = PCA.get_params(deep=True)"
   ]
  },
  {
   "cell_type": "code",
   "execution_count": 17,
   "metadata": {},
   "outputs": [
    {
     "output_type": "execute_result",
     "data": {
      "text/plain": [
       "{'U_init': None,\n",
       " 'V_init': None,\n",
       " 'alpha': 1,\n",
       " 'max_iter': 1000,\n",
       " 'method': 'lars',\n",
       " 'n_components': 5,\n",
       " 'n_jobs': None,\n",
       " 'normalize_components': 'deprecated',\n",
       " 'random_state': 0,\n",
       " 'ridge_alpha': 0.01,\n",
       " 'tol': 1e-08,\n",
       " 'verbose': False}"
      ]
     },
     "metadata": {},
     "execution_count": 17
    }
   ],
   "source": [
    "paramdev2010"
   ]
  },
  {
   "source": [
    "## Trying Polynomial Regression"
   ],
   "cell_type": "markdown",
   "metadata": {}
  },
  {
   "cell_type": "code",
   "execution_count": 30,
   "metadata": {},
   "outputs": [
    {
     "output_type": "stream",
     "name": "stdout",
     "text": [
      "(213, 46)\n(213, 1)\n"
     ]
    }
   ],
   "source": [
    "from sklearn.preprocessing import PolynomialFeatures\n",
    "\n",
    "poly = PolynomialFeatures(degree=2, interaction_only=True)\n",
    "newXdeving = poly.fit_transform(X_deving)\n",
    "Y = developing[0][['gdp_percap']]\n",
    "\n",
    "print(newXdeving.shape)\n",
    "print(Y.shape)"
   ]
  },
  {
   "cell_type": "code",
   "execution_count": 34,
   "metadata": {},
   "outputs": [
    {
     "output_type": "stream",
     "name": "stdout",
     "text": [
      "                            OLS Regression Results                            \n==============================================================================\nDep. Variable:             gdp_percap   R-squared:                       0.923\nModel:                            OLS   Adj. R-squared:                  0.305\nMethod:                 Least Squares   F-statistic:                     1.495\nDate:                Fri, 06 Nov 2020   Prob (F-statistic):              0.382\nTime:                        23:11:37   Log-Likelihood:                -47.133\nNo. Observations:                  37   AIC:                             160.3\nDf Residuals:                       4   BIC:                             213.4\nDf Model:                          32                                         \nCovariance Type:            nonrobust                                         \n==============================================================================\n                 coef    std err          t      P>|t|      [0.025      0.975]\n------------------------------------------------------------------------------\nconst         -0.5941      0.998     -0.595      0.584      -3.365       2.177\nx1             0.0446      0.039      1.137      0.319      -0.064       0.154\nx2             0.0016      0.006      0.252      0.814      -0.016       0.019\nx3             0.0041      0.011      0.376      0.726      -0.026       0.034\nx4            -0.0029      0.006     -0.506      0.639      -0.019       0.013\nx5             0.0037      0.022      0.171      0.873      -0.056       0.064\nx6            -0.0005      0.051     -0.011      0.992      -0.143       0.142\nx7           -15.1805     17.459     -0.870      0.434     -63.653      33.292\nx8            -0.0005      0.000     -0.999      0.375      -0.002       0.001\nx9             0.2079      0.288      0.723      0.510      -0.590       1.006\nx10           -0.3274      1.648     -0.199      0.852      -4.904       4.249\nx11           -1.7978      2.180     -0.825      0.456      -7.851       4.256\nx12           -4.1858      4.031     -1.038      0.358     -15.377       7.005\nx13           -8.6162      5.856     -1.471      0.215     -24.875       7.642\nx14           -6.2580     12.256     -0.511      0.637     -40.287      27.771\nx15            4.0251      3.512      1.146      0.316      -5.725      13.776\nx16        -3.955e-06   1.68e-06     -2.348      0.079   -8.63e-06    7.22e-07\nx17            0.0001      0.000      0.378      0.725      -0.001       0.001\nx18           -0.5772      0.693     -0.833      0.452      -2.500       1.346\nx19           -0.2118      0.808     -0.262      0.806      -2.456       2.032\nx20           10.8570     12.282      0.884      0.427     -23.244      44.958\nx21            0.9368      1.591      0.589      0.588      -3.482       5.355\nx22            0.1720      0.655      0.263      0.806      -1.647       1.991\nx23         6.951e-07   6.68e-07      1.040      0.357   -1.16e-06    2.55e-06\nx24        -2.244e-05   6.63e-05     -0.339      0.752      -0.000       0.000\nx25           -0.7254      0.961     -0.755      0.492      -3.393       1.942\nx26          -11.7725      7.870     -1.496      0.209     -33.623      10.078\nx27           -1.9106      3.977     -0.480      0.656     -12.953       9.132\nx28            0.8741      1.005      0.869      0.434      -1.917       3.665\nx29        -1.007e-06   1.11e-06     -0.906      0.416   -4.09e-06    2.08e-06\nx30            0.0001   9.72e-05      1.456      0.219      -0.000       0.000\nx31           -2.5468      2.801     -0.909      0.415     -10.322       5.229\nx32            0.0320      5.881      0.005      0.996     -16.296      16.360\nx33            0.1791      0.221      0.809      0.464      -0.436       0.794\nx34        -1.932e-06   1.27e-06     -1.523      0.202   -5.45e-06    1.59e-06\nx35            0.0002      0.000      1.316      0.259      -0.000       0.001\nx36          -12.0051      6.174     -1.944      0.124     -29.147       5.136\nx37            0.3633      2.080      0.175      0.870      -5.411       6.138\nx38         4.172e-07    3.9e-06      0.107      0.920   -1.04e-05    1.12e-05\nx39           -0.0015      0.001     -1.886      0.132      -0.004       0.001\nx40           -0.0722      4.924     -0.015      0.989     -13.744      13.600\nx41        -5.279e-07   1.75e-06     -0.301      0.778   -5.39e-06    4.33e-06\nx42        -5.093e-05   7.93e-05     -0.643      0.555      -0.000       0.000\nx43          6.42e-06   5.42e-06      1.185      0.302   -8.62e-06    2.15e-05\nx44           -0.0023      0.003     -0.765      0.487      -0.011       0.006\nx45        -1.283e-11   9.29e-12     -1.381      0.240   -3.86e-11     1.3e-11\n==============================================================================\nOmnibus:                       31.789   Durbin-Watson:                   1.982\nProb(Omnibus):                  0.000   Jarque-Bera (JB):              366.254\nSkew:                           1.090   Prob(JB):                     2.94e-80\nKurtosis:                      18.258   Cond. No.                     1.00e+16\n==============================================================================\n\nWarnings:\n[1] Standard Errors assume that the covariance matrix of the errors is correctly specified.\n[2] The input rank is higher than the number of observations.\n[3] The condition number is large,  1e+16. This might indicate that there are\nstrong multicollinearity or other numerical problems.\n"
     ]
    }
   ],
   "source": [
    "import statsmodels.api as sm \n",
    "\n",
    "newXdev = sm.add_constant(newXdev) # adding a constant\n",
    "Y = developed[0][['gdp_percap']]\n",
    "\n",
    "model = sm.OLS(Y, newXdev).fit()\n",
    "predictions = model.predict(newXdev) \n",
    " \n",
    "summary = str(model.summary())\n",
    "print(summary)"
   ]
  },
  {
   "source": [
    "## Trying SVM because nothing else seems to be working ffs"
   ],
   "cell_type": "markdown",
   "metadata": {}
  },
  {
   "cell_type": "code",
   "execution_count": null,
   "metadata": {},
   "outputs": [],
   "source": []
  }
 ]
}