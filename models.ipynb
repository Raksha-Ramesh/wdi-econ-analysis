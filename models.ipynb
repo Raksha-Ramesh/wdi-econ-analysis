{
 "metadata": {
  "language_info": {
   "codemirror_mode": {
    "name": "ipython",
    "version": 3
   },
   "file_extension": ".py",
   "mimetype": "text/x-python",
   "name": "python",
   "nbconvert_exporter": "python",
   "pygments_lexer": "ipython3",
   "version": "3.7.6-final"
  },
  "orig_nbformat": 2,
  "kernelspec": {
   "name": "python3",
   "display_name": "Python 3"
  }
 },
 "nbformat": 4,
 "nbformat_minor": 2,
 "cells": [
  {
   "source": [
    "# Models for Analysis"
   ],
   "cell_type": "markdown",
   "metadata": {}
  },
  {
   "cell_type": "code",
   "execution_count": 1,
   "metadata": {},
   "outputs": [],
   "source": [
    "import pandas as pd \n",
    "import numpy as np \n",
    "import matplotlib.pyplot as plt \n",
    "import os \n",
    "from sklearn.model_selection import train_test_split\n",
    "from create_datasets import createData, cleanData\n",
    "from create_datasets import createSplits"
   ]
  },
  {
   "source": [
    "## Creating the required datasets and cleaning"
   ],
   "cell_type": "markdown",
   "metadata": {}
  },
  {
   "cell_type": "code",
   "execution_count": 2,
   "metadata": {},
   "outputs": [],
   "source": [
    "developed,developing = createData()\n",
    "cleanData(developed)\n",
    "cleanData(developing)\n",
    "\n",
    "# print(type(developed))\n",
    "\n",
    "indicatorList = pd.read_csv('Indicator.csv')\n",
    "indicatorsToPick = indicatorList[indicatorList['included']==1].drop(index=2)\n",
    "attributes = list(indicatorsToPick.feature_name)\n"
   ]
  },
  {
   "cell_type": "code",
   "execution_count": 4,
   "metadata": {},
   "outputs": [],
   "source": [
    "def print_coeff(coeff):\n",
    "    attCoef = {}\n",
    "    if len(attributes)==len(coeff):\n",
    "        for i in range(len(coeff)):\n",
    "            attCoef[attributes[i]] = coeff[i]\n",
    "        print(attCoef)\n",
    "    else:\n",
    "        print(\"Len att:\",len(attributes))\n",
    "        print(\"Len coeff:\",len(coeff))"
   ]
  },
  {
   "source": [
    "## Decision Tree Regression"
   ],
   "cell_type": "markdown",
   "metadata": {}
  },
  {
   "cell_type": "code",
   "execution_count": 11,
   "metadata": {},
   "outputs": [
    {
     "output_type": "stream",
     "name": "stdout",
     "text": [
      "{'pop_grow': 0.3090979551521467, 'gini_index': 0.026957213480958038, 'unemp': 0.42304318382451206, 'life_exp': 0.0, 'poverty': 0.0019014366737590584, 'mil_xpnd': 0.04160889551467804, 'lit_rate': 0.01482417466930584, 'labour_force': 0.10268424736742476, 'refugee_asylum': 0.0798828933172154}\n-3.8389350453729687\n"
     ]
    }
   ],
   "source": [
    "from sklearn.tree import DecisionTreeRegressor\n",
    "\n",
    "DCR = DecisionTreeRegressor(random_state=0)\n",
    "\n",
    "splits2010 = createSplits(0,developed,0.20)\n",
    "DCR.fit(splits2010[0], splits2010[2])\n",
    "print_coeff(DCR.feature_importances_)\n",
    "print(DCR.score(splits2010[1],splits2010[3])) # Lol this is also terrible :)"
   ]
  },
  {
   "source": [
    "## Lasso Regression for Feature Selection"
   ],
   "cell_type": "markdown",
   "metadata": {}
  },
  {
   "cell_type": "code",
   "execution_count": 25,
   "metadata": {},
   "outputs": [
    {
     "output_type": "stream",
     "name": "stdout",
     "text": [
      "{'pop_grow': 0.0, 'gini_index': -0.0, 'unemp': -0.14712717411066126, 'life_exp': 0.0, 'poverty': -0.0, 'mil_xpnd': 0.21288755932488881, 'lit_rate': 0.0, 'labour_force': -9.013417546509046e-10, 'refugee_asylum': 3.7845592916933612e-06}\n"
     ]
    }
   ],
   "source": [
    "from sklearn.linear_model import Lasso, LassoCV\n",
    "\n",
    "model = Lasso(alpha=0.75)\n",
    "splits2010 = createSplits(0,developed,0.15) # For Developed countries for the year 2010 \n",
    "# print(splits2010[0])\n",
    "\n",
    "model.fit(splits2010[0], splits2010[2])\n",
    "print_coeff(model.coef_)"
   ]
  },
  {
   "source": [
    "## Ridge Regression"
   ],
   "cell_type": "markdown",
   "metadata": {}
  },
  {
   "cell_type": "code",
   "execution_count": 38,
   "metadata": {},
   "outputs": [
    {
     "output_type": "stream",
     "name": "stdout",
     "text": [
      "{'pop_grow': -0.39008838005730895, 'gini_index': 0.052294435688968216, 'unemp': -0.10387788228213231, 'life_exp': -0.02923358997740811, 'poverty': -0.01727669576061264, 'mil_xpnd': -0.098651465161892, 'lit_rate': -0.011724339020555925, 'labour_force': 2.1215463634107873e-09, 'refugee_asylum': -2.221463573056527e-07}\n0.10817927772606349\n"
     ]
    }
   ],
   "source": [
    "from sklearn.model_selection import cross_val_score\n",
    "from sklearn.model_selection import RepeatedKFold\n",
    "from sklearn.linear_model import Ridge\n",
    "\n",
    "splits2010 = createSplits(0,developing,0.15)\n",
    "ridge_model = Ridge(alpha=1.0)\n",
    "\n",
    "ridge_model.fit(splits2010[0],splits2010[2])\n",
    "# print(ridge_model.coef_[0])\n",
    "print_coeff(ridge_model.coef_[0])\n",
    "print(ridge_model.score(splits2010[1],splits2010[3]))"
   ]
  },
  {
   "cell_type": "code",
   "execution_count": 39,
   "metadata": {},
   "outputs": [
    {
     "output_type": "stream",
     "name": "stdout",
     "text": [
      "RMSE: 3.864 (0.912)\n"
     ]
    }
   ],
   "source": [
    "cv = RepeatedKFold(n_splits=10, n_repeats=3, random_state=1)\n",
    "# evaluate model\n",
    "scores = cross_val_score(ridge_model, splits2010[0], splits2010[2], scoring='neg_root_mean_squared_error', cv=cv, n_jobs=-1)\n",
    "# force scores to be positive\n",
    "scores = np.absolute(scores)\n",
    "print('RMSE: %.3f (%.3f)' % (np.mean(scores), np.std(scores)))"
   ]
  },
  {
   "source": [
    "### Tuning Hyperparameters"
   ],
   "cell_type": "markdown",
   "metadata": {}
  },
  {
   "cell_type": "code",
   "execution_count": 40,
   "metadata": {},
   "outputs": [
    {
     "output_type": "stream",
     "name": "stdout",
     "text": [
      "R^2: -3.373\nConfig: {'alpha': 0.99}\n"
     ]
    }
   ],
   "source": [
    "from sklearn.model_selection import GridSearchCV\n",
    "\n",
    "ridge = Ridge()\n",
    "# define model evaluation method\n",
    "cv = RepeatedKFold(n_splits=10, n_repeats=3, random_state=1)\n",
    "# define grid\n",
    "grid = dict()\n",
    "grid['alpha'] = np.arange(0, 1, 0.01)\n",
    "# define search\n",
    "search = GridSearchCV(ridge, grid, scoring='neg_root_mean_squared_error', cv=cv, n_jobs=-1)\n",
    "# perform the search\n",
    "results = search.fit(splits2010[0],splits2010[2])\n",
    "# summarize\n",
    "print('R^2: %.3f' % results.score(splits2010[1],splits2010[3]))\n",
    "print('Config: %s' % results.best_params_)"
   ]
  },
  {
   "cell_type": "code",
   "execution_count": 41,
   "metadata": {},
   "outputs": [
    {
     "output_type": "stream",
     "name": "stdout",
     "text": [
      "R^2: -3.736\n"
     ]
    }
   ],
   "source": [
    "print('R^2: %.3f' % results.score(splits2010[0],splits2010[2]))\n",
    "# print('Config: %s' % results.best_params_)"
   ]
  },
  {
   "source": [
    "## PCA for Developed and Developing \n",
    "\n",
    "Done to check what are the important features for each to try and bring about a comparison"
   ],
   "cell_type": "markdown",
   "metadata": {}
  },
  {
   "cell_type": "code",
   "execution_count": 24,
   "metadata": {},
   "outputs": [
    {
     "output_type": "execute_result",
     "data": {
      "text/plain": [
       "(37, 9)"
      ]
     },
     "metadata": {},
     "execution_count": 24
    }
   ],
   "source": [
    "X_dev = developed[0].drop(columns=['country','gdp_percap'])\n",
    "X_deving = developing[0].drop(columns=['country','gdp_percap'])\n",
    "\n",
    "X_dev.shape"
   ]
  },
  {
   "cell_type": "code",
   "execution_count": 12,
   "metadata": {},
   "outputs": [
    {
     "output_type": "stream",
     "name": "stdout",
     "text": [
      "                                 OLS Regression Results                                \n=======================================================================================\nDep. Variable:             gdp_percap   R-squared (uncentered):                   0.049\nModel:                            OLS   Adj. R-squared (uncentered):             -0.095\nMethod:                 Least Squares   F-statistic:                             0.3387\nDate:                Sat, 28 Nov 2020   Prob (F-statistic):                       0.886\nTime:                        23:08:47   Log-Likelihood:                         -85.075\nNo. Observations:                  38   AIC:                                      180.2\nDf Residuals:                      33   BIC:                                      188.3\nDf Model:                           5                                                  \nCovariance Type:            nonrobust                                                  \n==============================================================================\n                 coef    std err          t      P>|t|      [0.025      0.975]\n------------------------------------------------------------------------------\nx1         -2.228e-09   1.45e-08     -0.154      0.879   -3.17e-08    2.72e-08\nx2          3.076e-06   4.19e-06      0.734      0.468   -5.45e-06    1.16e-05\nx3            -0.1058      0.128     -0.824      0.416      -0.367       0.155\nx4             0.0941      0.165      0.569      0.573      -0.242       0.431\nx5            -0.0805      0.225     -0.358      0.723      -0.538       0.377\n==============================================================================\nOmnibus:                        9.082   Durbin-Watson:                   1.926\nProb(Omnibus):                  0.011   Jarque-Bera (JB):                7.940\nSkew:                          -0.969   Prob(JB):                       0.0189\nKurtosis:                       4.120   Cond. No.                     1.56e+07\n==============================================================================\n\nWarnings:\n[1] Standard Errors assume that the covariance matrix of the errors is correctly specified.\n[2] The condition number is large, 1.56e+07. This might indicate that there are\nstrong multicollinearity or other numerical problems.\n"
     ]
    }
   ],
   "source": [
    "from sklearn.decomposition import PCA\n",
    "import statsmodels.api as sm\n",
    "PCA = PCA(n_components=5, random_state=0)\n",
    "dev2010New = PCA.fit_transform(developed[0].iloc[:,1:-1])\n",
    "paramdev2010 = PCA.get_params(deep=True)\n",
    "Y = developed[0][['gdp_percap']]\n",
    "\n",
    "model = sm.OLS(Y, dev2010New).fit()\n",
    "predictions = model.predict(dev2010New) \n",
    " \n",
    "summary = str(model.summary())\n",
    "print(summary)"
   ]
  },
  {
   "cell_type": "code",
   "execution_count": 9,
   "metadata": {},
   "outputs": [
    {
     "output_type": "execute_result",
     "data": {
      "text/plain": [
       "{'copy': True,\n",
       " 'iterated_power': 'auto',\n",
       " 'n_components': 5,\n",
       " 'random_state': 0,\n",
       " 'svd_solver': 'auto',\n",
       " 'tol': 0.0,\n",
       " 'whiten': False}"
      ]
     },
     "metadata": {},
     "execution_count": 9
    }
   ],
   "source": [
    "paramdev2010"
   ]
  },
  {
   "source": [
    "## Multiple Linear Regression"
   ],
   "cell_type": "markdown",
   "metadata": {}
  },
  {
   "cell_type": "code",
   "execution_count": 6,
   "metadata": {},
   "outputs": [
    {
     "output_type": "stream",
     "name": "stdout",
     "text": [
      "                            OLS Regression Results                            \n==============================================================================\nDep. Variable:             gdp_percap   R-squared:                       0.225\nModel:                            OLS   Adj. R-squared:                  0.011\nMethod:                 Least Squares   F-statistic:                     1.050\nDate:                Sat, 28 Nov 2020   Prob (F-statistic):              0.424\nTime:                        22:52:36   Log-Likelihood:                -80.282\nNo. Observations:                  38   AIC:                             178.6\nDf Residuals:                      29   BIC:                             193.3\nDf Model:                           8                                         \nCovariance Type:            nonrobust                                         \n==================================================================================\n                     coef    std err          t      P>|t|      [0.025      0.975]\n----------------------------------------------------------------------------------\npop_grow          -1.2065      0.494     -2.440      0.021      -2.218      -0.195\ngini_index        -0.0900      0.158     -0.571      0.572      -0.413       0.232\nunemp             -0.3185      0.221     -1.438      0.161      -0.771       0.134\nlife_exp           0.2572      0.213      1.207      0.237      -0.179       0.693\npoverty            0.4804      1.786      0.269      0.790      -3.173       4.134\nmil_xpnd           0.5569      0.403      1.380      0.178      -0.268       1.382\nlit_rate          -0.1658      0.174     -0.954      0.348      -0.521       0.190\nlabour_force   -1.677e-08   1.78e-08     -0.940      0.355   -5.33e-08    1.97e-08\nrefugee_asylum  2.213e-06   4.05e-06      0.546      0.589   -6.07e-06    1.05e-05\n==============================================================================\nOmnibus:                        4.606   Durbin-Watson:                   2.082\nProb(Omnibus):                  0.100   Jarque-Bera (JB):                3.221\nSkew:                          -0.617   Prob(JB):                        0.200\nKurtosis:                       3.716   Cond. No.                     1.46e+08\n==============================================================================\n\nWarnings:\n[1] Standard Errors assume that the covariance matrix of the errors is correctly specified.\n[2] The condition number is large, 1.46e+08. This might indicate that there are\nstrong multicollinearity or other numerical problems.\n"
     ]
    }
   ],
   "source": [
    "import statsmodels.api as sm \n",
    "\n",
    "newXdev = sm.add_constant(developed[0].iloc[:,1:-1]) # adding a constant\n",
    "Y = developed[0][['gdp_percap']]\n",
    "\n",
    "model = sm.OLS(Y, newXdev).fit()\n",
    "predictions = model.predict(newXdev) \n",
    " \n",
    "summary = str(model.summary())\n",
    "print(summary)"
   ]
  },
  {
   "source": [
    "## Linear SVR"
   ],
   "cell_type": "markdown",
   "metadata": {}
  },
  {
   "cell_type": "code",
   "execution_count": 49,
   "metadata": {},
   "outputs": [],
   "source": [
    "from sklearn.model_selection import train_test_split\n",
    "from sklearn.svm import LinearSVR\n",
    "\n",
    "dev2010 = developing[0]\n",
    "gdp2010dev = dev2010[['gdp_percap']]\n",
    "dev2010 = dev2010.drop(columns=['country','gdp_percap'])\n",
    "\n",
    "X_train, X_test, y_train, y_test = train_test_split(dev2010,gdp2010dev,test_size=0.10, random_state=32)"
   ]
  },
  {
   "cell_type": "code",
   "execution_count": 50,
   "metadata": {},
   "outputs": [
    {
     "output_type": "execute_result",
     "data": {
      "text/plain": [
       "LinearSVR(C=1.0, dual=True, epsilon=0.0, fit_intercept=True,\n",
       "          intercept_scaling=1.0, loss='epsilon_insensitive', max_iter=1000,\n",
       "          random_state=None, tol=0.0001, verbose=0)"
      ]
     },
     "metadata": {},
     "execution_count": 50
    }
   ],
   "source": [
    "linSVR = LinearSVR()   \n",
    "linSVR.fit(X_train, y_train)"
   ]
  },
  {
   "cell_type": "code",
   "execution_count": 51,
   "metadata": {},
   "outputs": [
    {
     "output_type": "execute_result",
     "data": {
      "text/plain": [
       "[6.050692278464393e-06,\n",
       " 0.00013801698841019598,\n",
       " 3.279312965091957e-05,\n",
       " 0.00022965606142711403,\n",
       " 1.811014389506626e-05,\n",
       " 5.362013014345077e-06,\n",
       " 0.00026107649418555484,\n",
       " -3.422856401219995e-07,\n",
       " 3.889452323181e-05]"
      ]
     },
     "metadata": {},
     "execution_count": 51
    }
   ],
   "source": [
    "weights = list(linSVR.coef_.ravel())\n",
    "weights"
   ]
  },
  {
   "cell_type": "code",
   "execution_count": 52,
   "metadata": {},
   "outputs": [
    {
     "output_type": "execute_result",
     "data": {
      "text/plain": [
       "-3372.4784120347394"
      ]
     },
     "metadata": {},
     "execution_count": 52
    }
   ],
   "source": [
    "# linSVR.predict(X_test)\n",
    "linSVR.score(X_test,y_test) "
   ]
  },
  {
   "cell_type": "code",
   "execution_count": 12,
   "metadata": {},
   "outputs": [
    {
     "output_type": "stream",
     "name": "stdout",
     "text": [
      "({'C': 0.1}, -26.210578347783617)\n"
     ]
    }
   ],
   "source": [
    "from sklearn.model_selection import GridSearchCV\n",
    "def svr_param_selection(X, y, nfolds):\n",
    "    Cs = [0.001, 0.01, 0.1, 1, 10]\n",
    "    # gammas = [0.001, 0.01, 0.1, 1]\n",
    "    param_grid = {'C': Cs}\n",
    "    grid_search = GridSearchCV(LinearSVR(), param_grid, cv=nfolds, scoring=\"neg_mean_absolute_error\")\n",
    "    grid_search.fit(X, y)\n",
    "    # grid_search.best_params_\n",
    "    return (grid_search.best_params_, grid_search.best_score_)\n",
    "\n",
    "print(svr_param_selection(X_train,y_train,5))"
   ]
  },
  {
   "cell_type": "code",
   "execution_count": null,
   "metadata": {},
   "outputs": [],
   "source": []
  }
 ]
}