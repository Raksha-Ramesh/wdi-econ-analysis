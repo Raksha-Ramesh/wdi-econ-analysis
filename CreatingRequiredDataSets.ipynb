{
 "cells": [
  {
   "cell_type": "markdown",
   "metadata": {},
   "source": [
    " In each dataset, the independent variables will be our various factors, and GDP will be dependent variable.\n",
    " This will be done over how many ever years and use each year for validation.\n",
    " So, each year will have 2 datasets; one for developed(with n intances, one for n developed countries) and one for developing(with m, one intances for m developed countries).\n",
    " We can see how the dependencies for each changes over the years."
   ]
  },
  {
   "cell_type": "code",
   "execution_count": 1,
   "metadata": {},
   "outputs": [],
   "source": [
    "import os\n",
    "import pandas as pd\n",
    "import numpy as np\n",
    "import matplotlib.pyplot as plt\n",
    "import datetime"
   ]
  },
  {
   "cell_type": "code",
   "execution_count": 2,
   "metadata": {},
   "outputs": [],
   "source": [
    "def getDF(code):\n",
    "    path = os.getcwd() + \"\\Datasets\\\\\"\n",
    "    newPath = path + code\n",
    "    df = pd.read_csv(newPath + \"\\\\\" + os.listdir(newPath)[0])\n",
    "    return df"
   ]
  },
  {
   "cell_type": "markdown",
   "metadata": {},
   "source": [
    "## Getting the Data"
   ]
  },
  {
   "cell_type": "code",
   "execution_count": 3,
   "metadata": {},
   "outputs": [],
   "source": [
    "GDP_PreCapitaGrowth = getDF(\"NY.GDP.PCAP.KD.ZG\")\n",
    "#GvtExpenditureOnEduAsPercetageOfGDP = getDF(\"SE.XPD.TOTL.GD.ZS\")\n",
    "GiniIndex = getDF(\"SI.POV.GINI\")\n",
    "UnpemplymentAsPercentageOfLabourForce = getDF(\"SL.UEM.TOTL.ZS\")\n",
    "LifeExpectancy = getDF(\"SP.DYN.LE00.IN\")\n",
    "PopulationGrowth = getDF(\"SP.POP.GROW\")\n",
    "PovertyHeadcount = getDF(\"SI.POV.DDAY\")\n",
    "milExpenditure = getDF(\"MS.MIL.XPND.GD.ZS\")"
   ]
  },
  {
   "cell_type": "markdown",
   "metadata": {},
   "source": [
    "## Seperating Developing Countries with Developing Countries"
   ]
  },
  {
   "cell_type": "code",
   "execution_count": 4,
   "metadata": {},
   "outputs": [],
   "source": [
    "Developed = [\"Andorra\",\"Austria\",\"Belgium\",\"Cyprus\",\"Czech Republic\",\"Denmark\",\"Estonia\",\"Faroe Islands\",\"Finland\",\"France\",\"Germany\",\"Greece\",\"Guernsey\",\"Holy See\",\"Iceland\",\"Ireland\",\"Italy\",\"Jersey\",\"Latvia\",\"Liechtenstein\",\"Lithuania\",\"Luxembourg\",\"Malta\",\"Monaco\",\"Netherlands\",\"Norway\",\"Portugal\",\"San Marino\",\"Slovakia\",\"Slovenia\",\"Spain\",\"Sweden\",\"Switzerland\",\"United Kingdom\",\"Hong Kong\",\"Israel\",\"Japan\",\"Macau\",\"Singapore\",\"South Korea\",\"Taiwan\",\"Bermuda\",\"Canada\",\"Puerto Rico\",\"United States\",\"Australia\",\"New Zealand\"]"
   ]
  },
  {
   "cell_type": "code",
   "execution_count": 5,
   "metadata": {},
   "outputs": [],
   "source": [
    "GDP_PreCapitaGrowth_D = GDP_PreCapitaGrowth[GDP_PreCapitaGrowth[\"Country Name\"].isin(Developed)]\n",
    "GvtExpenditureOnEduAsPercetageOfGDP_D = GvtExpenditureOnEduAsPercetageOfGDP[GvtExpenditureOnEduAsPercetageOfGDP[\"Country Name\"].isin(Developed)]\n",
    "GiniIndex_D = GiniIndex[GiniIndex[\"Country Name\"].isin(Developed)]\n",
    "UnpemplymentAsPercentageOfLabourForce_D = UnpemplymentAsPercentageOfLabourForce[UnpemplymentAsPercentageOfLabourForce[\"Country Name\"].isin(Developed)]\n",
    "LifeExpectancy_D = LifeExpectancy[LifeExpectancy[\"Country Name\"].isin(Developed)]\n",
    "PopulationGrowth_D = PopulationGrowth[PopulationGrowth[\"Country Name\"].isin(Developed)]\n",
    "povHeadcount_D = PovertyHeadcount[PovertyHeadcount[\"Country Name\"].isin(Developed)]\n",
    "milXPND_D = milExpenditure[milExpenditure[\"Country Name\"].isin(Developed)]"
   ]
  },
  {
   "cell_type": "code",
   "execution_count": 6,
   "metadata": {},
   "outputs": [],
   "source": [
    "GDP_PreCapitaGrowth_Ding = GDP_PreCapitaGrowth[~GDP_PreCapitaGrowth[\"Country Name\"].isin(Developed)]\n",
    "GvtExpenditureOnEduAsPercetageOfGDP_Ding = GvtExpenditureOnEduAsPercetageOfGDP[~GvtExpenditureOnEduAsPercetageOfGDP[\"Country Name\"].isin(Developed)]\n",
    "GiniIndex_Ding = GiniIndex[~GiniIndex[\"Country Name\"].isin(Developed)]\n",
    "UnpemplymentAsPercentageOfLabourForce_Ding = UnpemplymentAsPercentageOfLabourForce[~UnpemplymentAsPercentageOfLabourForce[\"Country Name\"].isin(Developed)]\n",
    "LifeExpectancy_Ding = LifeExpectancy[~LifeExpectancy[\"Country Name\"].isin(Developed)]\n",
    "PopulationGrowth_Ding = PopulationGrowth[~PopulationGrowth[\"Country Name\"].isin(Developed)]\n",
    "povHeadcount_Ding = PovertyHeadcount[~PovertyHeadcount[\"Country Name\"].isin(Developed)]\n",
    "milXPND_Ding = milExpenditure[~milExpenditure[\"Country Name\"].isin(Developed)]\n",
    "\n",
    "#milXPND_D.head()"
   ]
  },
  {
   "cell_type": "markdown",
   "metadata": {},
   "source": [
    "## Creating a List of the Factors for Developed and Developing Countries"
   ]
  },
  {
   "cell_type": "code",
   "execution_count": 7,
   "metadata": {},
   "outputs": [],
   "source": [
    "DevelopedDFList = [GiniIndex_D,UnpemplymentAsPercentageOfLabourForce_D,LifeExpectancy_D,PopulationGrowth_D,povHeadcount_D,milXPND_D,GDP_PreCapitaGrowth_D]\n",
    "DevelopingDFList = [GiniIndex_Ding,UnpemplymentAsPercentageOfLabourForce_Ding,LifeExpectancy_Ding,PopulationGrowth_Ding,povHeadcount_Ding,milXPND_Ding,GDP_PreCapitaGrowth_Ding]"
   ]
  },
  {
   "cell_type": "code",
   "execution_count": 101,
   "metadata": {},
   "outputs": [],
   "source": [
    "def createDataset(year,dfList):\n",
    "    factors = [dfList[0][\"Country Name\"]]\n",
    "    for x in dfList:\n",
    "        factors.append(x[year])\n",
    "    df = pd.concat(factors,axis =1, sort = False)\n",
    "    df.columns = [\"country\",\"gini_index\",\"unemployment\",\"life_expectancy\",\"pop_growth\",\"poverty_headcount\",\"mil_expend\",\"gdp_percap\"]\n",
    "    total_rows = max(df.count())\n",
    "    try:\n",
    "        df = df.set_index(pd.Index([x for x in range(total_rows)]))\n",
    "    except:\n",
    "        total_rows +=1\n",
    "        df = df.set_index(pd.Index([x for x in range(total_rows)]))\n",
    "    return df"
   ]
  },
  {
   "cell_type": "markdown",
   "metadata": {},
   "source": [
    "## Creating Final Datasets for Each Year"
   ]
  },
  {
   "cell_type": "code",
   "execution_count": 139,
   "metadata": {},
   "outputs": [],
   "source": [
    "years = [str(i) for i in range(2010,2018)]\n",
    "developed = [createDataset(i,DevelopedDFList) for i in years]\n",
    "developing = [createDataset(i,DevelopingDFList) for i in years]\n",
    "\n",
    "# np.mean(developed[0].gini_index)"
   ]
  },
  {
   "source": [
    "## Cleaning the Data \n",
    "\n",
    "- Removing all rows with missing values for GDP\n",
    "- Median replacement for all other parameters"
   ],
   "cell_type": "markdown",
   "metadata": {}
  },
  {
   "cell_type": "code",
   "execution_count": 140,
   "metadata": {},
   "outputs": [
    {
     "output_type": "execute_result",
     "data": {
      "text/plain": [
       "country              39\n",
       "gini_index           25\n",
       "unemployment         33\n",
       "life_expectancy      36\n",
       "pop_growth           39\n",
       "poverty_headcount    25\n",
       "mil_expend           32\n",
       "gdp_percap           36\n",
       "dtype: int64"
      ]
     },
     "metadata": {},
     "execution_count": 140
    }
   ],
   "source": [
    "developed[5].count()\n"
   ]
  },
  {
   "source": [
    "### 1. Removing all rows that have NaNs/missing values in the target attribute"
   ],
   "cell_type": "markdown",
   "metadata": {}
  },
  {
   "cell_type": "code",
   "execution_count": 141,
   "metadata": {},
   "outputs": [
    {
     "output_type": "execute_result",
     "data": {
      "text/plain": [
       "     country  gini_index  unemployment  life_expectancy  pop_growth  \\\n",
       "0    Andorra         NaN           NaN              NaN   -1.529058   \n",
       "1  Australia         NaN         6.054        82.400000    1.439217   \n",
       "2    Austria        30.5         5.723        81.190244    1.120993   \n",
       "3    Belgium        27.7         8.482        80.992683    0.579446   \n",
       "5     Canada         NaN         6.906        81.900000    0.746339   \n",
       "\n",
       "   poverty_headcount  mil_expend  gdp_percap  \n",
       "0                NaN         NaN    2.997046  \n",
       "1                NaN    1.950601    0.732400  \n",
       "2                0.7    0.698138   -0.111540  \n",
       "3                0.1    0.921668    1.443273  \n",
       "5                NaN    1.150126   -0.089286  "
      ],
      "text/html": "<div>\n<style scoped>\n    .dataframe tbody tr th:only-of-type {\n        vertical-align: middle;\n    }\n\n    .dataframe tbody tr th {\n        vertical-align: top;\n    }\n\n    .dataframe thead th {\n        text-align: right;\n    }\n</style>\n<table border=\"1\" class=\"dataframe\">\n  <thead>\n    <tr style=\"text-align: right;\">\n      <th></th>\n      <th>country</th>\n      <th>gini_index</th>\n      <th>unemployment</th>\n      <th>life_expectancy</th>\n      <th>pop_growth</th>\n      <th>poverty_headcount</th>\n      <th>mil_expend</th>\n      <th>gdp_percap</th>\n    </tr>\n  </thead>\n  <tbody>\n    <tr>\n      <th>0</th>\n      <td>Andorra</td>\n      <td>NaN</td>\n      <td>NaN</td>\n      <td>NaN</td>\n      <td>-1.529058</td>\n      <td>NaN</td>\n      <td>NaN</td>\n      <td>2.997046</td>\n    </tr>\n    <tr>\n      <th>1</th>\n      <td>Australia</td>\n      <td>NaN</td>\n      <td>6.054</td>\n      <td>82.400000</td>\n      <td>1.439217</td>\n      <td>NaN</td>\n      <td>1.950601</td>\n      <td>0.732400</td>\n    </tr>\n    <tr>\n      <th>2</th>\n      <td>Austria</td>\n      <td>30.5</td>\n      <td>5.723</td>\n      <td>81.190244</td>\n      <td>1.120993</td>\n      <td>0.7</td>\n      <td>0.698138</td>\n      <td>-0.111540</td>\n    </tr>\n    <tr>\n      <th>3</th>\n      <td>Belgium</td>\n      <td>27.7</td>\n      <td>8.482</td>\n      <td>80.992683</td>\n      <td>0.579446</td>\n      <td>0.1</td>\n      <td>0.921668</td>\n      <td>1.443273</td>\n    </tr>\n    <tr>\n      <th>5</th>\n      <td>Canada</td>\n      <td>NaN</td>\n      <td>6.906</td>\n      <td>81.900000</td>\n      <td>0.746339</td>\n      <td>NaN</td>\n      <td>1.150126</td>\n      <td>-0.089286</td>\n    </tr>\n  </tbody>\n</table>\n</div>"
     },
     "metadata": {},
     "execution_count": 141
    }
   ],
   "source": [
    "for i in range(len(years)):\n",
    "    developed[i] = developed[i].dropna(subset=[\"gdp_percap\"])\n",
    "    developing[i] = developing[i].dropna(subset = [\"gdp_percap\"])\n",
    "developed[5].head()\n",
    "\n"
   ]
  },
  {
   "cell_type": "code",
   "execution_count": 142,
   "metadata": {},
   "outputs": [
    {
     "output_type": "stream",
     "name": "stdout",
     "text": [
      "32.05\n31.7\n32.3\n32.5\n32.099999999999994\n31.8\n32.349999999999994\n30.4\n"
     ]
    }
   ],
   "source": [
    "for i in developed:\n",
    "    median = np.nanmedian(i.gini_index)\n",
    "    print(median)"
   ]
  },
  {
   "source": [
    "### 2. Median replacement of missing values for the other features"
   ],
   "cell_type": "markdown",
   "metadata": {}
  },
  {
   "cell_type": "code",
   "execution_count": 145,
   "metadata": {},
   "outputs": [],
   "source": [
    "def cleanData(df):\n",
    "\n",
    "    for i in range(len(years)):\n",
    "        #print(\"\\n\\n\\n\",years[i])\n",
    "        for j in df[i].iloc[:,1:]:\n",
    "            df[i][j] = df[i][j].fillna(np.nanmedian(df[i][j]))\n",
    "            #print(j,np.nanmedian(df[i][j]))"
   ]
  },
  {
   "cell_type": "code",
   "execution_count": 150,
   "metadata": {
    "tags": []
   },
   "outputs": [],
   "source": [
    "cleanData(developed)\n",
    "cleanData(developing)"
   ]
  },
  {
   "cell_type": "code",
   "execution_count": null,
   "metadata": {},
   "outputs": [],
   "source": []
  }
 ],
 "metadata": {
  "kernelspec": {
   "display_name": "Python 3",
   "language": "python",
   "name": "python3"
  },
  "language_info": {
   "codemirror_mode": {
    "name": "ipython",
    "version": 3
   },
   "file_extension": ".py",
   "mimetype": "text/x-python",
   "name": "python",
   "nbconvert_exporter": "python",
   "pygments_lexer": "ipython3",
   "version": "3.7.6-final"
  }
 },
 "nbformat": 4,
 "nbformat_minor": 2
}